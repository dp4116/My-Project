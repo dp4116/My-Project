{
  "nbformat": 4,
  "nbformat_minor": 0,
  "metadata": {
    "colab": {
      "name": "2nd draft.ipynb",
      "provenance": [],
      "collapsed_sections": [],
      "include_colab_link": true
    },
    "kernelspec": {
      "name": "python3",
      "display_name": "Python 3"
    },
    "language_info": {
      "name": "python"
    }
  },
  "cells": [
    {
      "cell_type": "markdown",
      "metadata": {
        "id": "view-in-github",
        "colab_type": "text"
      },
      "source": [
        "<a href=\"https://colab.research.google.com/github/dp4116/My-Project/blob/main/2nd_draft.ipynb\" target=\"_parent\"><img src=\"https://colab.research.google.com/assets/colab-badge.svg\" alt=\"Open In Colab\"/></a>"
      ]
    },
    {
      "cell_type": "markdown",
      "source": [
        "Importing the Dependecies"
      ],
      "metadata": {
        "id": "bHzQZYKHdeYq"
      }
    },
    {
      "cell_type": "code",
      "source": [
        "import numpy as np\n",
        "import pandas as pd\n",
        "import matplotlib.pyplot as plt\n",
        "import seaborn as sns\n",
        "from sklearn.metrics import accuracy_score\n",
        "\n",
        "%matplotlib inline\n",
        "\n",
        "import os\n",
        "print(os.listdir())\n",
        "\n",
        "import warnings\n",
        "warnings.filterwarnings('ignore')"
      ],
      "metadata": {
        "id": "oLSC3zeqdnoW",
        "colab": {
          "base_uri": "https://localhost:8080/"
        },
        "outputId": "0a83a252-b625-4425-bb08-1a7afcbd6688"
      },
      "execution_count": null,
      "outputs": [
        {
          "output_type": "stream",
          "name": "stdout",
          "text": [
            "['.config', 'heart.csv', 'sample_data']\n"
          ]
        }
      ]
    },
    {
      "cell_type": "markdown",
      "source": [
        "Data Processing"
      ],
      "metadata": {
        "id": "AITSADDkeMKt"
      }
    },
    {
      "cell_type": "code",
      "source": [
        "dataset = pd.read_csv('/content/heart.csv')"
      ],
      "metadata": {
        "id": "yYXfvFh8eSIj"
      },
      "execution_count": null,
      "outputs": []
    },
    {
      "cell_type": "code",
      "source": [
        "dataset.head()"
      ],
      "metadata": {
        "id": "4vcrTPg7fA2e",
        "colab": {
          "base_uri": "https://localhost:8080/",
          "height": 206
        },
        "outputId": "9e399017-ee04-4fba-a79e-938c639d61ed"
      },
      "execution_count": null,
      "outputs": [
        {
          "output_type": "execute_result",
          "data": {
            "text/plain": [
              "   age  sex  cp  trestbps  chol  fbs  restecg  thalach  exang  oldpeak  slope  \\\n",
              "0   52    1   0       125   212    0        1      168      0      1.0      2   \n",
              "1   53    1   0       140   203    1        0      155      1      3.1      0   \n",
              "2   70    1   0       145   174    0        1      125      1      2.6      0   \n",
              "3   61    1   0       148   203    0        1      161      0      0.0      2   \n",
              "4   62    0   0       138   294    1        1      106      0      1.9      1   \n",
              "\n",
              "   ca  thal  target  \n",
              "0   2     3       0  \n",
              "1   0     3       0  \n",
              "2   0     3       0  \n",
              "3   1     3       0  \n",
              "4   3     2       0  "
            ],
            "text/html": [
              "\n",
              "  <div id=\"df-d69d3b1f-bb43-4b92-9d03-ea5351b143ea\">\n",
              "    <div class=\"colab-df-container\">\n",
              "      <div>\n",
              "<style scoped>\n",
              "    .dataframe tbody tr th:only-of-type {\n",
              "        vertical-align: middle;\n",
              "    }\n",
              "\n",
              "    .dataframe tbody tr th {\n",
              "        vertical-align: top;\n",
              "    }\n",
              "\n",
              "    .dataframe thead th {\n",
              "        text-align: right;\n",
              "    }\n",
              "</style>\n",
              "<table border=\"1\" class=\"dataframe\">\n",
              "  <thead>\n",
              "    <tr style=\"text-align: right;\">\n",
              "      <th></th>\n",
              "      <th>age</th>\n",
              "      <th>sex</th>\n",
              "      <th>cp</th>\n",
              "      <th>trestbps</th>\n",
              "      <th>chol</th>\n",
              "      <th>fbs</th>\n",
              "      <th>restecg</th>\n",
              "      <th>thalach</th>\n",
              "      <th>exang</th>\n",
              "      <th>oldpeak</th>\n",
              "      <th>slope</th>\n",
              "      <th>ca</th>\n",
              "      <th>thal</th>\n",
              "      <th>target</th>\n",
              "    </tr>\n",
              "  </thead>\n",
              "  <tbody>\n",
              "    <tr>\n",
              "      <th>0</th>\n",
              "      <td>52</td>\n",
              "      <td>1</td>\n",
              "      <td>0</td>\n",
              "      <td>125</td>\n",
              "      <td>212</td>\n",
              "      <td>0</td>\n",
              "      <td>1</td>\n",
              "      <td>168</td>\n",
              "      <td>0</td>\n",
              "      <td>1.0</td>\n",
              "      <td>2</td>\n",
              "      <td>2</td>\n",
              "      <td>3</td>\n",
              "      <td>0</td>\n",
              "    </tr>\n",
              "    <tr>\n",
              "      <th>1</th>\n",
              "      <td>53</td>\n",
              "      <td>1</td>\n",
              "      <td>0</td>\n",
              "      <td>140</td>\n",
              "      <td>203</td>\n",
              "      <td>1</td>\n",
              "      <td>0</td>\n",
              "      <td>155</td>\n",
              "      <td>1</td>\n",
              "      <td>3.1</td>\n",
              "      <td>0</td>\n",
              "      <td>0</td>\n",
              "      <td>3</td>\n",
              "      <td>0</td>\n",
              "    </tr>\n",
              "    <tr>\n",
              "      <th>2</th>\n",
              "      <td>70</td>\n",
              "      <td>1</td>\n",
              "      <td>0</td>\n",
              "      <td>145</td>\n",
              "      <td>174</td>\n",
              "      <td>0</td>\n",
              "      <td>1</td>\n",
              "      <td>125</td>\n",
              "      <td>1</td>\n",
              "      <td>2.6</td>\n",
              "      <td>0</td>\n",
              "      <td>0</td>\n",
              "      <td>3</td>\n",
              "      <td>0</td>\n",
              "    </tr>\n",
              "    <tr>\n",
              "      <th>3</th>\n",
              "      <td>61</td>\n",
              "      <td>1</td>\n",
              "      <td>0</td>\n",
              "      <td>148</td>\n",
              "      <td>203</td>\n",
              "      <td>0</td>\n",
              "      <td>1</td>\n",
              "      <td>161</td>\n",
              "      <td>0</td>\n",
              "      <td>0.0</td>\n",
              "      <td>2</td>\n",
              "      <td>1</td>\n",
              "      <td>3</td>\n",
              "      <td>0</td>\n",
              "    </tr>\n",
              "    <tr>\n",
              "      <th>4</th>\n",
              "      <td>62</td>\n",
              "      <td>0</td>\n",
              "      <td>0</td>\n",
              "      <td>138</td>\n",
              "      <td>294</td>\n",
              "      <td>1</td>\n",
              "      <td>1</td>\n",
              "      <td>106</td>\n",
              "      <td>0</td>\n",
              "      <td>1.9</td>\n",
              "      <td>1</td>\n",
              "      <td>3</td>\n",
              "      <td>2</td>\n",
              "      <td>0</td>\n",
              "    </tr>\n",
              "  </tbody>\n",
              "</table>\n",
              "</div>\n",
              "      <button class=\"colab-df-convert\" onclick=\"convertToInteractive('df-d69d3b1f-bb43-4b92-9d03-ea5351b143ea')\"\n",
              "              title=\"Convert this dataframe to an interactive table.\"\n",
              "              style=\"display:none;\">\n",
              "        \n",
              "  <svg xmlns=\"http://www.w3.org/2000/svg\" height=\"24px\"viewBox=\"0 0 24 24\"\n",
              "       width=\"24px\">\n",
              "    <path d=\"M0 0h24v24H0V0z\" fill=\"none\"/>\n",
              "    <path d=\"M18.56 5.44l.94 2.06.94-2.06 2.06-.94-2.06-.94-.94-2.06-.94 2.06-2.06.94zm-11 1L8.5 8.5l.94-2.06 2.06-.94-2.06-.94L8.5 2.5l-.94 2.06-2.06.94zm10 10l.94 2.06.94-2.06 2.06-.94-2.06-.94-.94-2.06-.94 2.06-2.06.94z\"/><path d=\"M17.41 7.96l-1.37-1.37c-.4-.4-.92-.59-1.43-.59-.52 0-1.04.2-1.43.59L10.3 9.45l-7.72 7.72c-.78.78-.78 2.05 0 2.83L4 21.41c.39.39.9.59 1.41.59.51 0 1.02-.2 1.41-.59l7.78-7.78 2.81-2.81c.8-.78.8-2.07 0-2.86zM5.41 20L4 18.59l7.72-7.72 1.47 1.35L5.41 20z\"/>\n",
              "  </svg>\n",
              "      </button>\n",
              "      \n",
              "  <style>\n",
              "    .colab-df-container {\n",
              "      display:flex;\n",
              "      flex-wrap:wrap;\n",
              "      gap: 12px;\n",
              "    }\n",
              "\n",
              "    .colab-df-convert {\n",
              "      background-color: #E8F0FE;\n",
              "      border: none;\n",
              "      border-radius: 50%;\n",
              "      cursor: pointer;\n",
              "      display: none;\n",
              "      fill: #1967D2;\n",
              "      height: 32px;\n",
              "      padding: 0 0 0 0;\n",
              "      width: 32px;\n",
              "    }\n",
              "\n",
              "    .colab-df-convert:hover {\n",
              "      background-color: #E2EBFA;\n",
              "      box-shadow: 0px 1px 2px rgba(60, 64, 67, 0.3), 0px 1px 3px 1px rgba(60, 64, 67, 0.15);\n",
              "      fill: #174EA6;\n",
              "    }\n",
              "\n",
              "    [theme=dark] .colab-df-convert {\n",
              "      background-color: #3B4455;\n",
              "      fill: #D2E3FC;\n",
              "    }\n",
              "\n",
              "    [theme=dark] .colab-df-convert:hover {\n",
              "      background-color: #434B5C;\n",
              "      box-shadow: 0px 1px 3px 1px rgba(0, 0, 0, 0.15);\n",
              "      filter: drop-shadow(0px 1px 2px rgba(0, 0, 0, 0.3));\n",
              "      fill: #FFFFFF;\n",
              "    }\n",
              "  </style>\n",
              "\n",
              "      <script>\n",
              "        const buttonEl =\n",
              "          document.querySelector('#df-d69d3b1f-bb43-4b92-9d03-ea5351b143ea button.colab-df-convert');\n",
              "        buttonEl.style.display =\n",
              "          google.colab.kernel.accessAllowed ? 'block' : 'none';\n",
              "\n",
              "        async function convertToInteractive(key) {\n",
              "          const element = document.querySelector('#df-d69d3b1f-bb43-4b92-9d03-ea5351b143ea');\n",
              "          const dataTable =\n",
              "            await google.colab.kernel.invokeFunction('convertToInteractive',\n",
              "                                                     [key], {});\n",
              "          if (!dataTable) return;\n",
              "\n",
              "          const docLinkHtml = 'Like what you see? Visit the ' +\n",
              "            '<a target=\"_blank\" href=https://colab.research.google.com/notebooks/data_table.ipynb>data table notebook</a>'\n",
              "            + ' to learn more about interactive tables.';\n",
              "          element.innerHTML = '';\n",
              "          dataTable['output_type'] = 'display_data';\n",
              "          await google.colab.output.renderOutput(dataTable, element);\n",
              "          const docLink = document.createElement('div');\n",
              "          docLink.innerHTML = docLinkHtml;\n",
              "          element.appendChild(docLink);\n",
              "        }\n",
              "      </script>\n",
              "    </div>\n",
              "  </div>\n",
              "  "
            ]
          },
          "metadata": {},
          "execution_count": 95
        }
      ]
    },
    {
      "cell_type": "code",
      "source": [
        "dataset.shape"
      ],
      "metadata": {
        "id": "gUAGNlFSfHIz",
        "colab": {
          "base_uri": "https://localhost:8080/"
        },
        "outputId": "7b14ca83-c903-47f7-c9a3-ca1db9d8eb88"
      },
      "execution_count": null,
      "outputs": [
        {
          "output_type": "execute_result",
          "data": {
            "text/plain": [
              "(1025, 14)"
            ]
          },
          "metadata": {},
          "execution_count": 96
        }
      ]
    },
    {
      "cell_type": "code",
      "metadata": {
        "id": "7_xTcw1Sr6aJ",
        "colab": {
          "base_uri": "https://localhost:8080/"
        },
        "outputId": "6267d969-0d73-4bd5-a400-0293a855ba6f"
      },
      "source": [
        "# getting some info about the data\n",
        "dataset.info()"
      ],
      "execution_count": null,
      "outputs": [
        {
          "output_type": "stream",
          "name": "stdout",
          "text": [
            "<class 'pandas.core.frame.DataFrame'>\n",
            "RangeIndex: 1025 entries, 0 to 1024\n",
            "Data columns (total 14 columns):\n",
            " #   Column    Non-Null Count  Dtype  \n",
            "---  ------    --------------  -----  \n",
            " 0   age       1025 non-null   int64  \n",
            " 1   sex       1025 non-null   int64  \n",
            " 2   cp        1025 non-null   int64  \n",
            " 3   trestbps  1025 non-null   int64  \n",
            " 4   chol      1025 non-null   int64  \n",
            " 5   fbs       1025 non-null   int64  \n",
            " 6   restecg   1025 non-null   int64  \n",
            " 7   thalach   1025 non-null   int64  \n",
            " 8   exang     1025 non-null   int64  \n",
            " 9   oldpeak   1025 non-null   float64\n",
            " 10  slope     1025 non-null   int64  \n",
            " 11  ca        1025 non-null   int64  \n",
            " 12  thal      1025 non-null   int64  \n",
            " 13  target    1025 non-null   int64  \n",
            "dtypes: float64(1), int64(13)\n",
            "memory usage: 112.2 KB\n"
          ]
        }
      ]
    },
    {
      "cell_type": "code",
      "source": [
        "#checking for missing values in data set\n",
        "dataset.isnull().sum()"
      ],
      "metadata": {
        "id": "v_R8WJFRfqoF",
        "colab": {
          "base_uri": "https://localhost:8080/"
        },
        "outputId": "7acc035e-6e2a-4b07-eadb-8750e70d0b6a"
      },
      "execution_count": null,
      "outputs": [
        {
          "output_type": "execute_result",
          "data": {
            "text/plain": [
              "age         0\n",
              "sex         0\n",
              "cp          0\n",
              "trestbps    0\n",
              "chol        0\n",
              "fbs         0\n",
              "restecg     0\n",
              "thalach     0\n",
              "exang       0\n",
              "oldpeak     0\n",
              "slope       0\n",
              "ca          0\n",
              "thal        0\n",
              "target      0\n",
              "dtype: int64"
            ]
          },
          "metadata": {},
          "execution_count": 98
        }
      ]
    },
    {
      "cell_type": "code",
      "source": [
        "#statistical measures about the data\n",
        "dataset.describe()"
      ],
      "metadata": {
        "id": "ZUdHTRZpfspA",
        "colab": {
          "base_uri": "https://localhost:8080/",
          "height": 364
        },
        "outputId": "cebff5c2-8c52-4721-e219-36cb25c072d6"
      },
      "execution_count": null,
      "outputs": [
        {
          "output_type": "execute_result",
          "data": {
            "text/plain": [
              "               age          sex           cp     trestbps        chol  \\\n",
              "count  1025.000000  1025.000000  1025.000000  1025.000000  1025.00000   \n",
              "mean     54.434146     0.695610     0.942439   131.611707   246.00000   \n",
              "std       9.072290     0.460373     1.029641    17.516718    51.59251   \n",
              "min      29.000000     0.000000     0.000000    94.000000   126.00000   \n",
              "25%      48.000000     0.000000     0.000000   120.000000   211.00000   \n",
              "50%      56.000000     1.000000     1.000000   130.000000   240.00000   \n",
              "75%      61.000000     1.000000     2.000000   140.000000   275.00000   \n",
              "max      77.000000     1.000000     3.000000   200.000000   564.00000   \n",
              "\n",
              "               fbs      restecg      thalach        exang      oldpeak  \\\n",
              "count  1025.000000  1025.000000  1025.000000  1025.000000  1025.000000   \n",
              "mean      0.149268     0.529756   149.114146     0.336585     1.071512   \n",
              "std       0.356527     0.527878    23.005724     0.472772     1.175053   \n",
              "min       0.000000     0.000000    71.000000     0.000000     0.000000   \n",
              "25%       0.000000     0.000000   132.000000     0.000000     0.000000   \n",
              "50%       0.000000     1.000000   152.000000     0.000000     0.800000   \n",
              "75%       0.000000     1.000000   166.000000     1.000000     1.800000   \n",
              "max       1.000000     2.000000   202.000000     1.000000     6.200000   \n",
              "\n",
              "             slope           ca         thal       target  \n",
              "count  1025.000000  1025.000000  1025.000000  1025.000000  \n",
              "mean      1.385366     0.754146     2.323902     0.513171  \n",
              "std       0.617755     1.030798     0.620660     0.500070  \n",
              "min       0.000000     0.000000     0.000000     0.000000  \n",
              "25%       1.000000     0.000000     2.000000     0.000000  \n",
              "50%       1.000000     0.000000     2.000000     1.000000  \n",
              "75%       2.000000     1.000000     3.000000     1.000000  \n",
              "max       2.000000     4.000000     3.000000     1.000000  "
            ],
            "text/html": [
              "\n",
              "  <div id=\"df-f5cb3e55-96b3-414a-a47d-5261afe27b87\">\n",
              "    <div class=\"colab-df-container\">\n",
              "      <div>\n",
              "<style scoped>\n",
              "    .dataframe tbody tr th:only-of-type {\n",
              "        vertical-align: middle;\n",
              "    }\n",
              "\n",
              "    .dataframe tbody tr th {\n",
              "        vertical-align: top;\n",
              "    }\n",
              "\n",
              "    .dataframe thead th {\n",
              "        text-align: right;\n",
              "    }\n",
              "</style>\n",
              "<table border=\"1\" class=\"dataframe\">\n",
              "  <thead>\n",
              "    <tr style=\"text-align: right;\">\n",
              "      <th></th>\n",
              "      <th>age</th>\n",
              "      <th>sex</th>\n",
              "      <th>cp</th>\n",
              "      <th>trestbps</th>\n",
              "      <th>chol</th>\n",
              "      <th>fbs</th>\n",
              "      <th>restecg</th>\n",
              "      <th>thalach</th>\n",
              "      <th>exang</th>\n",
              "      <th>oldpeak</th>\n",
              "      <th>slope</th>\n",
              "      <th>ca</th>\n",
              "      <th>thal</th>\n",
              "      <th>target</th>\n",
              "    </tr>\n",
              "  </thead>\n",
              "  <tbody>\n",
              "    <tr>\n",
              "      <th>count</th>\n",
              "      <td>1025.000000</td>\n",
              "      <td>1025.000000</td>\n",
              "      <td>1025.000000</td>\n",
              "      <td>1025.000000</td>\n",
              "      <td>1025.00000</td>\n",
              "      <td>1025.000000</td>\n",
              "      <td>1025.000000</td>\n",
              "      <td>1025.000000</td>\n",
              "      <td>1025.000000</td>\n",
              "      <td>1025.000000</td>\n",
              "      <td>1025.000000</td>\n",
              "      <td>1025.000000</td>\n",
              "      <td>1025.000000</td>\n",
              "      <td>1025.000000</td>\n",
              "    </tr>\n",
              "    <tr>\n",
              "      <th>mean</th>\n",
              "      <td>54.434146</td>\n",
              "      <td>0.695610</td>\n",
              "      <td>0.942439</td>\n",
              "      <td>131.611707</td>\n",
              "      <td>246.00000</td>\n",
              "      <td>0.149268</td>\n",
              "      <td>0.529756</td>\n",
              "      <td>149.114146</td>\n",
              "      <td>0.336585</td>\n",
              "      <td>1.071512</td>\n",
              "      <td>1.385366</td>\n",
              "      <td>0.754146</td>\n",
              "      <td>2.323902</td>\n",
              "      <td>0.513171</td>\n",
              "    </tr>\n",
              "    <tr>\n",
              "      <th>std</th>\n",
              "      <td>9.072290</td>\n",
              "      <td>0.460373</td>\n",
              "      <td>1.029641</td>\n",
              "      <td>17.516718</td>\n",
              "      <td>51.59251</td>\n",
              "      <td>0.356527</td>\n",
              "      <td>0.527878</td>\n",
              "      <td>23.005724</td>\n",
              "      <td>0.472772</td>\n",
              "      <td>1.175053</td>\n",
              "      <td>0.617755</td>\n",
              "      <td>1.030798</td>\n",
              "      <td>0.620660</td>\n",
              "      <td>0.500070</td>\n",
              "    </tr>\n",
              "    <tr>\n",
              "      <th>min</th>\n",
              "      <td>29.000000</td>\n",
              "      <td>0.000000</td>\n",
              "      <td>0.000000</td>\n",
              "      <td>94.000000</td>\n",
              "      <td>126.00000</td>\n",
              "      <td>0.000000</td>\n",
              "      <td>0.000000</td>\n",
              "      <td>71.000000</td>\n",
              "      <td>0.000000</td>\n",
              "      <td>0.000000</td>\n",
              "      <td>0.000000</td>\n",
              "      <td>0.000000</td>\n",
              "      <td>0.000000</td>\n",
              "      <td>0.000000</td>\n",
              "    </tr>\n",
              "    <tr>\n",
              "      <th>25%</th>\n",
              "      <td>48.000000</td>\n",
              "      <td>0.000000</td>\n",
              "      <td>0.000000</td>\n",
              "      <td>120.000000</td>\n",
              "      <td>211.00000</td>\n",
              "      <td>0.000000</td>\n",
              "      <td>0.000000</td>\n",
              "      <td>132.000000</td>\n",
              "      <td>0.000000</td>\n",
              "      <td>0.000000</td>\n",
              "      <td>1.000000</td>\n",
              "      <td>0.000000</td>\n",
              "      <td>2.000000</td>\n",
              "      <td>0.000000</td>\n",
              "    </tr>\n",
              "    <tr>\n",
              "      <th>50%</th>\n",
              "      <td>56.000000</td>\n",
              "      <td>1.000000</td>\n",
              "      <td>1.000000</td>\n",
              "      <td>130.000000</td>\n",
              "      <td>240.00000</td>\n",
              "      <td>0.000000</td>\n",
              "      <td>1.000000</td>\n",
              "      <td>152.000000</td>\n",
              "      <td>0.000000</td>\n",
              "      <td>0.800000</td>\n",
              "      <td>1.000000</td>\n",
              "      <td>0.000000</td>\n",
              "      <td>2.000000</td>\n",
              "      <td>1.000000</td>\n",
              "    </tr>\n",
              "    <tr>\n",
              "      <th>75%</th>\n",
              "      <td>61.000000</td>\n",
              "      <td>1.000000</td>\n",
              "      <td>2.000000</td>\n",
              "      <td>140.000000</td>\n",
              "      <td>275.00000</td>\n",
              "      <td>0.000000</td>\n",
              "      <td>1.000000</td>\n",
              "      <td>166.000000</td>\n",
              "      <td>1.000000</td>\n",
              "      <td>1.800000</td>\n",
              "      <td>2.000000</td>\n",
              "      <td>1.000000</td>\n",
              "      <td>3.000000</td>\n",
              "      <td>1.000000</td>\n",
              "    </tr>\n",
              "    <tr>\n",
              "      <th>max</th>\n",
              "      <td>77.000000</td>\n",
              "      <td>1.000000</td>\n",
              "      <td>3.000000</td>\n",
              "      <td>200.000000</td>\n",
              "      <td>564.00000</td>\n",
              "      <td>1.000000</td>\n",
              "      <td>2.000000</td>\n",
              "      <td>202.000000</td>\n",
              "      <td>1.000000</td>\n",
              "      <td>6.200000</td>\n",
              "      <td>2.000000</td>\n",
              "      <td>4.000000</td>\n",
              "      <td>3.000000</td>\n",
              "      <td>1.000000</td>\n",
              "    </tr>\n",
              "  </tbody>\n",
              "</table>\n",
              "</div>\n",
              "      <button class=\"colab-df-convert\" onclick=\"convertToInteractive('df-f5cb3e55-96b3-414a-a47d-5261afe27b87')\"\n",
              "              title=\"Convert this dataframe to an interactive table.\"\n",
              "              style=\"display:none;\">\n",
              "        \n",
              "  <svg xmlns=\"http://www.w3.org/2000/svg\" height=\"24px\"viewBox=\"0 0 24 24\"\n",
              "       width=\"24px\">\n",
              "    <path d=\"M0 0h24v24H0V0z\" fill=\"none\"/>\n",
              "    <path d=\"M18.56 5.44l.94 2.06.94-2.06 2.06-.94-2.06-.94-.94-2.06-.94 2.06-2.06.94zm-11 1L8.5 8.5l.94-2.06 2.06-.94-2.06-.94L8.5 2.5l-.94 2.06-2.06.94zm10 10l.94 2.06.94-2.06 2.06-.94-2.06-.94-.94-2.06-.94 2.06-2.06.94z\"/><path d=\"M17.41 7.96l-1.37-1.37c-.4-.4-.92-.59-1.43-.59-.52 0-1.04.2-1.43.59L10.3 9.45l-7.72 7.72c-.78.78-.78 2.05 0 2.83L4 21.41c.39.39.9.59 1.41.59.51 0 1.02-.2 1.41-.59l7.78-7.78 2.81-2.81c.8-.78.8-2.07 0-2.86zM5.41 20L4 18.59l7.72-7.72 1.47 1.35L5.41 20z\"/>\n",
              "  </svg>\n",
              "      </button>\n",
              "      \n",
              "  <style>\n",
              "    .colab-df-container {\n",
              "      display:flex;\n",
              "      flex-wrap:wrap;\n",
              "      gap: 12px;\n",
              "    }\n",
              "\n",
              "    .colab-df-convert {\n",
              "      background-color: #E8F0FE;\n",
              "      border: none;\n",
              "      border-radius: 50%;\n",
              "      cursor: pointer;\n",
              "      display: none;\n",
              "      fill: #1967D2;\n",
              "      height: 32px;\n",
              "      padding: 0 0 0 0;\n",
              "      width: 32px;\n",
              "    }\n",
              "\n",
              "    .colab-df-convert:hover {\n",
              "      background-color: #E2EBFA;\n",
              "      box-shadow: 0px 1px 2px rgba(60, 64, 67, 0.3), 0px 1px 3px 1px rgba(60, 64, 67, 0.15);\n",
              "      fill: #174EA6;\n",
              "    }\n",
              "\n",
              "    [theme=dark] .colab-df-convert {\n",
              "      background-color: #3B4455;\n",
              "      fill: #D2E3FC;\n",
              "    }\n",
              "\n",
              "    [theme=dark] .colab-df-convert:hover {\n",
              "      background-color: #434B5C;\n",
              "      box-shadow: 0px 1px 3px 1px rgba(0, 0, 0, 0.15);\n",
              "      filter: drop-shadow(0px 1px 2px rgba(0, 0, 0, 0.3));\n",
              "      fill: #FFFFFF;\n",
              "    }\n",
              "  </style>\n",
              "\n",
              "      <script>\n",
              "        const buttonEl =\n",
              "          document.querySelector('#df-f5cb3e55-96b3-414a-a47d-5261afe27b87 button.colab-df-convert');\n",
              "        buttonEl.style.display =\n",
              "          google.colab.kernel.accessAllowed ? 'block' : 'none';\n",
              "\n",
              "        async function convertToInteractive(key) {\n",
              "          const element = document.querySelector('#df-f5cb3e55-96b3-414a-a47d-5261afe27b87');\n",
              "          const dataTable =\n",
              "            await google.colab.kernel.invokeFunction('convertToInteractive',\n",
              "                                                     [key], {});\n",
              "          if (!dataTable) return;\n",
              "\n",
              "          const docLinkHtml = 'Like what you see? Visit the ' +\n",
              "            '<a target=\"_blank\" href=https://colab.research.google.com/notebooks/data_table.ipynb>data table notebook</a>'\n",
              "            + ' to learn more about interactive tables.';\n",
              "          element.innerHTML = '';\n",
              "          dataTable['output_type'] = 'display_data';\n",
              "          await google.colab.output.renderOutput(dataTable, element);\n",
              "          const docLink = document.createElement('div');\n",
              "          docLink.innerHTML = docLinkHtml;\n",
              "          element.appendChild(docLink);\n",
              "        }\n",
              "      </script>\n",
              "    </div>\n",
              "  </div>\n",
              "  "
            ]
          },
          "metadata": {},
          "execution_count": 99
        }
      ]
    },
    {
      "cell_type": "markdown",
      "source": [
        "#Testing codes"
      ],
      "metadata": {
        "id": "bjueSr9Jd3uO"
      }
    },
    {
      "cell_type": "code",
      "source": [
        "corr_matrix = dataset.corr()\n",
        "plt.figure(figsize=(15, 10))\n",
        "sns.heatmap(corr_matrix, \n",
        "            annot=True, \n",
        "            linewidths=0.5, \n",
        "            fmt= \".2f\", \n",
        "            cmap=\"YlGnBu\");"
      ],
      "metadata": {
        "colab": {
          "base_uri": "https://localhost:8080/",
          "height": 596
        },
        "id": "iOY9ij-BjxBB",
        "outputId": "abf4adc2-75aa-43c1-e75c-3a533633bb05"
      },
      "execution_count": null,
      "outputs": [
        {
          "output_type": "display_data",
          "data": {
            "text/plain": [
              "<Figure size 1080x720 with 2 Axes>"
            ],
            "image/png": "[encoded data removed]"
          },
          "metadata": {
            "needs_background": "light"
          }
        }
      ]
    },
    {
      "cell_type": "code",
      "source": [
        "print(dataset.corr()[\"target\"].abs().sort_values(ascending=False))"
      ],
      "metadata": {
        "colab": {
          "base_uri": "https://localhost:8080/"
        },
        "id": "mn5zxFfnd66M",
        "outputId": "c5e48375-5dc1-483c-877b-75ce7dcb5ab6"
      },
      "execution_count": null,
      "outputs": [
        {
          "output_type": "stream",
          "name": "stdout",
          "text": [
            "target      1.000000\n",
            "oldpeak     0.438441\n",
            "exang       0.438029\n",
            "cp          0.434854\n",
            "thalach     0.422895\n",
            "ca          0.382085\n",
            "slope       0.345512\n",
            "thal        0.337838\n",
            "sex         0.279501\n",
            "age         0.229324\n",
            "trestbps    0.138772\n",
            "restecg     0.134468\n",
            "chol        0.099966\n",
            "fbs         0.041164\n",
            "Name: target, dtype: float64\n"
          ]
        }
      ]
    },
    {
      "cell_type": "markdown",
      "source": [
        "Analysing Target feature"
      ],
      "metadata": {
        "id": "GLtxNpwDG8x-"
      }
    },
    {
      "cell_type": "code",
      "source": [
        "ax = sns.countplot(dataset[\"target\"],palette =\"cubehelix\" )\n",
        "target_temp = dataset.target.value_counts()\n",
        "print(target_temp)"
      ],
      "metadata": {
        "colab": {
          "base_uri": "https://localhost:8080/",
          "height": 331
        },
        "id": "NbLw6Kg5eG_I",
        "outputId": "f83be718-ae59-4c8b-86c2-b2fcf484e700"
      },
      "execution_count": null,
      "outputs": [
        {
          "output_type": "stream",
          "name": "stdout",
          "text": [
            "1    526\n",
            "0    499\n",
            "Name: target, dtype: int64\n"
          ]
        },
        {
          "output_type": "display_data",
          "data": {
            "text/plain": [
              "<Figure size 432x288 with 1 Axes>"
            ],
            "image/png": "[encoded data removed]"
          },
          "metadata": {
            "needs_background": "light"
          }
        }
      ]
    },
    {
      "cell_type": "code",
      "source": [
        "print(\"Percentage of patients without heart problems: \"+str(round(target_temp[0]*100/303,2)))\n",
        "print(\"Percentage of patients with heart problems: \"+str(round(target_temp[1]*100/303,2)))"
      ],
      "metadata": {
        "colab": {
          "base_uri": "https://localhost:8080/"
        },
        "id": "6mvEWqoIeUuy",
        "outputId": "332438b0-3a64-4d77-9699-1da82e56e376"
      },
      "execution_count": null,
      "outputs": [
        {
          "output_type": "stream",
          "name": "stdout",
          "text": [
            "Percentage of patients without heart problems: 164.69\n",
            "Percentage of patients with heart problems: 173.6\n"
          ]
        }
      ]
    },
    {
      "cell_type": "markdown",
      "source": [
        "Analysing Sex feature"
      ],
      "metadata": {
        "id": "R29hpFFaHPF-"
      }
    },
    {
      "cell_type": "code",
      "source": [
        "dataset[\"sex\"].unique()"
      ],
      "metadata": {
        "colab": {
          "base_uri": "https://localhost:8080/"
        },
        "id": "6rI0ArdkeWao",
        "outputId": "a7403f2c-cb83-4a61-82e3-48aac23ed6ed"
      },
      "execution_count": null,
      "outputs": [
        {
          "output_type": "execute_result",
          "data": {
            "text/plain": [
              "array([1, 0])"
            ]
          },
          "metadata": {},
          "execution_count": 104
        }
      ]
    },
    {
      "cell_type": "code",
      "source": [
        "sns.barplot(dataset[\"sex\"],dataset[\"target\"])"
      ],
      "metadata": {
        "colab": {
          "base_uri": "https://localhost:8080/",
          "height": 297
        },
        "id": "s2h56OzCelaf",
        "outputId": "63fe49c0-bed0-4a41-cc8b-f8d23aa78d73"
      },
      "execution_count": null,
      "outputs": [
        {
          "output_type": "execute_result",
          "data": {
            "text/plain": [
              "<matplotlib.axes._subplots.AxesSubplot at 0x7f34ec9f2b50>"
            ]
          },
          "metadata": {},
          "execution_count": 171
        },
        {
          "output_type": "display_data",
          "data": {
            "text/plain": [
              "<Figure size 432x288 with 1 Axes>"
            ],
            "image/png": "[encoded data removed]"
          },
          "metadata": {
            "needs_background": "light"
          }
        }
      ]
    },
    {
      "cell_type": "markdown",
      "source": [
        "Analysing Chest Pain feature"
      ],
      "metadata": {
        "id": "7uEXOwGaHplJ"
      }
    },
    {
      "cell_type": "code",
      "source": [
        "dataset[\"cp\"].unique()"
      ],
      "metadata": {
        "id": "tQU6i3iLw-T3",
        "colab": {
          "base_uri": "https://localhost:8080/"
        },
        "outputId": "ea7ee135-2ad8-4c19-a5b8-e9d14499d5ee"
      },
      "execution_count": null,
      "outputs": [
        {
          "output_type": "execute_result",
          "data": {
            "text/plain": [
              "array([0, 1, 2, 3])"
            ]
          },
          "metadata": {},
          "execution_count": 106
        }
      ]
    },
    {
      "cell_type": "code",
      "source": [
        "sns.barplot(dataset[\"cp\"],dataset[\"target\"])"
      ],
      "metadata": {
        "colab": {
          "base_uri": "https://localhost:8080/",
          "height": 296
        },
        "id": "eASVKXZgGvUN",
        "outputId": "e49d2912-ca95-4581-e0c6-6195ef99b4a4"
      },
      "execution_count": null,
      "outputs": [
        {
          "output_type": "execute_result",
          "data": {
            "text/plain": [
              "<matplotlib.axes._subplots.AxesSubplot at 0x7f356641d7d0>"
            ]
          },
          "metadata": {},
          "execution_count": 107
        },
        {
          "output_type": "display_data",
          "data": {
            "text/plain": [
              "<Figure size 432x288 with 1 Axes>"
            ],
            "image/png": "[encoded data removed]"
          },
          "metadata": {
            "needs_background": "light"
          }
        }
      ]
    },
    {
      "cell_type": "markdown",
      "source": [
        "Analysing the FBS feature "
      ],
      "metadata": {
        "id": "O9rBmkrwH3DI"
      }
    },
    {
      "cell_type": "code",
      "source": [
        "dataset[\"fbs\"].describe()"
      ],
      "metadata": {
        "colab": {
          "base_uri": "https://localhost:8080/"
        },
        "id": "bUL1vY5gH-mz",
        "outputId": "af33b48e-1473-4853-cb8c-e1a9360bddbd"
      },
      "execution_count": null,
      "outputs": [
        {
          "output_type": "execute_result",
          "data": {
            "text/plain": [
              "count    1025.000000\n",
              "mean        0.149268\n",
              "std         0.356527\n",
              "min         0.000000\n",
              "25%         0.000000\n",
              "50%         0.000000\n",
              "75%         0.000000\n",
              "max         1.000000\n",
              "Name: fbs, dtype: float64"
            ]
          },
          "metadata": {},
          "execution_count": 108
        }
      ]
    },
    {
      "cell_type": "code",
      "source": [
        "sns.barplot(dataset[\"fbs\"],dataset[\"target\"])"
      ],
      "metadata": {
        "colab": {
          "base_uri": "https://localhost:8080/",
          "height": 296
        },
        "id": "ZTTA2JWCIEcs",
        "outputId": "a8d08253-9fd9-4f84-e646-999bcd2f62c5"
      },
      "execution_count": null,
      "outputs": [
        {
          "output_type": "execute_result",
          "data": {
            "text/plain": [
              "<matplotlib.axes._subplots.AxesSubplot at 0x7f34ec9179d0>"
            ]
          },
          "metadata": {},
          "execution_count": 174
        },
        {
          "output_type": "display_data",
          "data": {
            "text/plain": [
              "<Figure size 432x288 with 1 Axes>"
            ],
            "image/png": "[encoded data removed]"
          },
          "metadata": {
            "needs_background": "light"
          }
        }
      ]
    },
    {
      "cell_type": "markdown",
      "source": [
        "Analysing the restecg feature"
      ],
      "metadata": {
        "id": "Eu5Hs1PvIRYH"
      }
    },
    {
      "cell_type": "code",
      "source": [
        "dataset[\"restecg\"].unique()"
      ],
      "metadata": {
        "colab": {
          "base_uri": "https://localhost:8080/"
        },
        "id": "iH1WH3FIIQ9t",
        "outputId": "f8ed2ef7-a659-486b-e9d0-ee9d30aa04c8"
      },
      "execution_count": null,
      "outputs": [
        {
          "output_type": "execute_result",
          "data": {
            "text/plain": [
              "array([1, 0, 2])"
            ]
          },
          "metadata": {},
          "execution_count": 110
        }
      ]
    },
    {
      "cell_type": "code",
      "source": [
        "sns.barplot(dataset[\"restecg\"],dataset[\"target\"])"
      ],
      "metadata": {
        "colab": {
          "base_uri": "https://localhost:8080/",
          "height": 296
        },
        "id": "3VjTwg-tIf3X",
        "outputId": "a7a47a3e-52a1-4313-9dac-c06937d18531"
      },
      "execution_count": null,
      "outputs": [
        {
          "output_type": "execute_result",
          "data": {
            "text/plain": [
              "<matplotlib.axes._subplots.AxesSubplot at 0x7f356636cc50>"
            ]
          },
          "metadata": {},
          "execution_count": 111
        },
        {
          "output_type": "display_data",
          "data": {
            "text/plain": [
              "<Figure size 432x288 with 1 Axes>"
            ],
            "image/png": "[encoded data removed]"
          },
          "metadata": {
            "needs_background": "light"
          }
        }
      ]
    },
    {
      "cell_type": "markdown",
      "source": [
        "Analysing the 'exang' feature"
      ],
      "metadata": {
        "id": "BlzIDkuRIpVI"
      }
    },
    {
      "cell_type": "code",
      "source": [
        "dataset[\"exang\"].unique()"
      ],
      "metadata": {
        "colab": {
          "base_uri": "https://localhost:8080/"
        },
        "id": "7GeA7H04Iqhw",
        "outputId": "426a9d39-aba1-401c-c50d-1b26da4c6b22"
      },
      "execution_count": null,
      "outputs": [
        {
          "output_type": "execute_result",
          "data": {
            "text/plain": [
              "array([0, 1])"
            ]
          },
          "metadata": {},
          "execution_count": 112
        }
      ]
    },
    {
      "cell_type": "code",
      "source": [
        "sns.barplot(dataset[\"exang\"],dataset[\"target\"])"
      ],
      "metadata": {
        "colab": {
          "base_uri": "https://localhost:8080/",
          "height": 296
        },
        "id": "lNM1pTsdIs42",
        "outputId": "09b56f7d-10c3-4725-d414-3e83d1280458"
      },
      "execution_count": null,
      "outputs": [
        {
          "output_type": "execute_result",
          "data": {
            "text/plain": [
              "<matplotlib.axes._subplots.AxesSubplot at 0x7f35662db2d0>"
            ]
          },
          "metadata": {},
          "execution_count": 113
        },
        {
          "output_type": "display_data",
          "data": {
            "text/plain": [
              "<Figure size 432x288 with 1 Axes>"
            ],
            "image/png": "[encoded data removed]"
          },
          "metadata": {
            "needs_background": "light"
          }
        }
      ]
    },
    {
      "cell_type": "markdown",
      "source": [
        "Analysing the Slope feature"
      ],
      "metadata": {
        "id": "EjsiWQ5_IxlB"
      }
    },
    {
      "cell_type": "code",
      "source": [
        "dataset[\"slope\"].unique()"
      ],
      "metadata": {
        "colab": {
          "base_uri": "https://localhost:8080/"
        },
        "id": "TyTRzmC6I0N2",
        "outputId": "6fac3f96-11cd-491e-a24e-1e0ab95395cc"
      },
      "execution_count": null,
      "outputs": [
        {
          "output_type": "execute_result",
          "data": {
            "text/plain": [
              "array([2, 0, 1])"
            ]
          },
          "metadata": {},
          "execution_count": 114
        }
      ]
    },
    {
      "cell_type": "code",
      "source": [
        "sns.barplot(dataset[\"slope\"],dataset[\"target\"])"
      ],
      "metadata": {
        "colab": {
          "base_uri": "https://localhost:8080/",
          "height": 300
        },
        "id": "fYr8qd4hI3Fn",
        "outputId": "3c04d5dc-5998-4d61-c6ca-04ea6755d8ba"
      },
      "execution_count": null,
      "outputs": [
        {
          "output_type": "execute_result",
          "data": {
            "text/plain": [
              "<matplotlib.axes._subplots.AxesSubplot at 0x7f3566247dd0>"
            ]
          },
          "metadata": {},
          "execution_count": 115
        },
        {
          "output_type": "display_data",
          "data": {
            "text/plain": [
              "<Figure size 432x288 with 1 Axes>"
            ],
            "image/png": "[encoded data removed]"
          },
          "metadata": {
            "needs_background": "light"
          }
        }
      ]
    },
    {
      "cell_type": "markdown",
      "source": [
        "Analysing the 'ca' feature"
      ],
      "metadata": {
        "id": "ZRN8IirGI6aw"
      }
    },
    {
      "cell_type": "code",
      "source": [
        "dataset[\"ca\"].unique()"
      ],
      "metadata": {
        "colab": {
          "base_uri": "https://localhost:8080/"
        },
        "id": "wQHWsEXQI8oI",
        "outputId": "f44cb47a-b29f-4063-d437-6db261f993e6"
      },
      "execution_count": null,
      "outputs": [
        {
          "output_type": "execute_result",
          "data": {
            "text/plain": [
              "array([2, 0, 1, 3, 4])"
            ]
          },
          "metadata": {},
          "execution_count": 116
        }
      ]
    },
    {
      "cell_type": "code",
      "source": [
        "sns.countplot(dataset[\"ca\"])"
      ],
      "metadata": {
        "colab": {
          "base_uri": "https://localhost:8080/",
          "height": 298
        },
        "id": "XlYn-sR4I-Wf",
        "outputId": "92e84a8b-5d78-4aaa-a01a-6d80b6687f75"
      },
      "execution_count": null,
      "outputs": [
        {
          "output_type": "execute_result",
          "data": {
            "text/plain": [
              "<matplotlib.axes._subplots.AxesSubplot at 0x7f356620d390>"
            ]
          },
          "metadata": {},
          "execution_count": 117
        },
        {
          "output_type": "display_data",
          "data": {
            "text/plain": [
              "<Figure size 432x288 with 1 Axes>"
            ],
            "image/png": "[encoded data removed]"
          },
          "metadata": {
            "needs_background": "light"
          }
        }
      ]
    },
    {
      "cell_type": "code",
      "source": [
        "sns.barplot(dataset[\"ca\"],dataset[\"target\"])"
      ],
      "metadata": {
        "colab": {
          "base_uri": "https://localhost:8080/",
          "height": 296
        },
        "id": "dUxDA5YeJGcl",
        "outputId": "c9bf180f-df48-4b74-f3a2-31fcef944327"
      },
      "execution_count": null,
      "outputs": [
        {
          "output_type": "execute_result",
          "data": {
            "text/plain": [
              "<matplotlib.axes._subplots.AxesSubplot at 0x7f356618e810>"
            ]
          },
          "metadata": {},
          "execution_count": 118
        },
        {
          "output_type": "display_data",
          "data": {
            "text/plain": [
              "<Figure size 432x288 with 1 Axes>"
            ],
            "image/png": "[encoded data removed]"
          },
          "metadata": {
            "needs_background": "light"
          }
        }
      ]
    },
    {
      "cell_type": "markdown",
      "source": [
        "Analysing thal feature"
      ],
      "metadata": {
        "id": "Ymf1VbA5JA67"
      }
    },
    {
      "cell_type": "code",
      "source": [
        "dataset[\"thal\"].unique()"
      ],
      "metadata": {
        "colab": {
          "base_uri": "https://localhost:8080/"
        },
        "id": "ICi9ckplJT3o",
        "outputId": "c5bf9759-06b7-40d8-eba7-86babf65f1ec"
      },
      "execution_count": null,
      "outputs": [
        {
          "output_type": "execute_result",
          "data": {
            "text/plain": [
              "array([3, 2, 1, 0])"
            ]
          },
          "metadata": {},
          "execution_count": 119
        }
      ]
    },
    {
      "cell_type": "code",
      "source": [
        "sns.barplot(dataset[\"thal\"],dataset[\"target\"])"
      ],
      "metadata": {
        "colab": {
          "base_uri": "https://localhost:8080/",
          "height": 296
        },
        "id": "NX_Mlx5oJZ56",
        "outputId": "dc1f793a-7652-4906-9def-ddec8aa4b3ea"
      },
      "execution_count": null,
      "outputs": [
        {
          "output_type": "execute_result",
          "data": {
            "text/plain": [
              "<matplotlib.axes._subplots.AxesSubplot at 0x7f3566203c50>"
            ]
          },
          "metadata": {},
          "execution_count": 120
        },
        {
          "output_type": "display_data",
          "data": {
            "text/plain": [
              "<Figure size 432x288 with 1 Axes>"
            ],
            "image/png": "[encoded data removed]"
          },
          "metadata": {
            "needs_background": "light"
          }
        }
      ]
    },
    {
      "cell_type": "code",
      "source": [
        "sns.distplot(dataset[\"thal\"])"
      ],
      "metadata": {
        "colab": {
          "base_uri": "https://localhost:8080/",
          "height": 296
        },
        "id": "ecDscQrFJfgB",
        "outputId": "b9581499-951d-4c4a-e511-eaac3559c065"
      },
      "execution_count": null,
      "outputs": [
        {
          "output_type": "execute_result",
          "data": {
            "text/plain": [
              "<matplotlib.axes._subplots.AxesSubplot at 0x7f356608e3d0>"
            ]
          },
          "metadata": {},
          "execution_count": 121
        },
        {
          "output_type": "display_data",
          "data": {
            "text/plain": [
              "<Figure size 432x288 with 1 Axes>"
            ],
            "image/png": "[encoded data removed]"
          },
          "metadata": {
            "needs_background": "light"
          }
        }
      ]
    },
    {
      "cell_type": "markdown",
      "source": [
        "#Train Test split"
      ],
      "metadata": {
        "id": "nzber89UJgv5"
      }
    },
    {
      "cell_type": "code",
      "source": [
        "from sklearn.model_selection import train_test_split\n",
        "\n",
        "predictors = dataset.drop(\"target\",axis=1)\n",
        "target = dataset[\"target\"]\n",
        "\n",
        "X_train,X_test,Y_train,Y_test = train_test_split(predictors,target,test_size=0.20,random_state=0)"
      ],
      "metadata": {
        "id": "BfKdzXIgJzXv"
      },
      "execution_count": null,
      "outputs": []
    },
    {
      "cell_type": "code",
      "source": [
        "print(X_train.shape,X_test.shape,Y_train.shape,Y_test.shape);"
      ],
      "metadata": {
        "colab": {
          "base_uri": "https://localhost:8080/"
        },
        "id": "HYsQ1R1HKuJe",
        "outputId": "da6802ac-155f-47f3-b60c-0f38112ac562"
      },
      "execution_count": null,
      "outputs": [
        {
          "output_type": "stream",
          "name": "stdout",
          "text": [
            "(820, 13) (205, 13) (820,) (205,)\n"
          ]
        }
      ]
    },
    {
      "cell_type": "markdown",
      "source": [
        "#Model Training"
      ],
      "metadata": {
        "id": "vl-4rmb-eERC"
      }
    },
    {
      "cell_type": "markdown",
      "source": [
        "Logistic Regression"
      ],
      "metadata": {
        "id": "aLhEi4NIlFGE"
      }
    },
    {
      "cell_type": "code",
      "source": [
        "from sklearn.linear_model import LogisticRegression\n",
        "\n",
        "lr = LogisticRegression()\n",
        "\n",
        "lr.fit(X_train,Y_train)\n",
        "\n",
        "Y_pred_lr = lr.predict(X_test)"
      ],
      "metadata": {
        "id": "M1cf7zghLLmK"
      },
      "execution_count": null,
      "outputs": []
    },
    {
      "cell_type": "code",
      "source": [
        "Y_pred_lr.shape"
      ],
      "metadata": {
        "colab": {
          "base_uri": "https://localhost:8080/"
        },
        "id": "BknyRJS4LQNs",
        "outputId": "a60acc48-1c29-4450-ac90-d6e213c97a69"
      },
      "execution_count": null,
      "outputs": [
        {
          "output_type": "execute_result",
          "data": {
            "text/plain": [
              "(205,)"
            ]
          },
          "metadata": {},
          "execution_count": 125
        }
      ]
    },
    {
      "cell_type": "code",
      "source": [
        "score_lr = round(accuracy_score(Y_pred_lr,Y_test)*100,2)\n",
        "\n",
        "print(\"The accuracy score achieved using Logistic Regression is: \"+str(score_lr)+\" %\")"
      ],
      "metadata": {
        "colab": {
          "base_uri": "https://localhost:8080/"
        },
        "id": "T_k-axlULR4I",
        "outputId": "63b2f711-cabd-496c-bab3-661fc17dd9f2"
      },
      "execution_count": null,
      "outputs": [
        {
          "output_type": "stream",
          "name": "stdout",
          "text": [
            "The accuracy score achieved using Logistic Regression is: 86.34 %\n"
          ]
        }
      ]
    },
    {
      "cell_type": "markdown",
      "source": [
        "Naive Bayes"
      ],
      "metadata": {
        "id": "2DodZJqNlotT"
      }
    },
    {
      "cell_type": "code",
      "source": [
        "from sklearn.naive_bayes import GaussianNB\n",
        "\n",
        "nb = GaussianNB()\n",
        "\n",
        "nb.fit(X_train,Y_train)\n",
        "\n",
        "Y_pred_nb = nb.predict(X_test)"
      ],
      "metadata": {
        "id": "6qwTWPYWLeQF"
      },
      "execution_count": null,
      "outputs": []
    },
    {
      "cell_type": "code",
      "source": [
        "Y_pred_nb.shape"
      ],
      "metadata": {
        "colab": {
          "base_uri": "https://localhost:8080/"
        },
        "id": "ny61WHpzLguG",
        "outputId": "9058882a-f914-48fe-d8ca-438f3cc15303"
      },
      "execution_count": null,
      "outputs": [
        {
          "output_type": "execute_result",
          "data": {
            "text/plain": [
              "(205,)"
            ]
          },
          "metadata": {},
          "execution_count": 128
        }
      ]
    },
    {
      "cell_type": "code",
      "source": [
        "score_nb = round(accuracy_score(Y_pred_nb,Y_test)*100,2)\n",
        "\n",
        "print(\"The accuracy score achieved using Naive Bayes is: \"+str(score_nb)+\" %\")"
      ],
      "metadata": {
        "colab": {
          "base_uri": "https://localhost:8080/"
        },
        "id": "_-YdgXatLiRO",
        "outputId": "c5d237f7-aaca-4729-ace7-f2b810a6ffbc"
      },
      "execution_count": null,
      "outputs": [
        {
          "output_type": "stream",
          "name": "stdout",
          "text": [
            "The accuracy score achieved using Naive Bayes is: 85.37 %\n"
          ]
        }
      ]
    },
    {
      "cell_type": "markdown",
      "source": [
        "SVM"
      ],
      "metadata": {
        "id": "19PyvD8KLnFs"
      }
    },
    {
      "cell_type": "code",
      "source": [
        "from sklearn import svm\n",
        "\n",
        "sv = svm.SVC(kernel='linear')\n",
        "\n",
        "sv.fit(X_train, Y_train)\n",
        "\n",
        "Y_pred_svm = sv.predict(X_test)"
      ],
      "metadata": {
        "id": "XQdosfMyLo0w"
      },
      "execution_count": null,
      "outputs": []
    },
    {
      "cell_type": "code",
      "source": [
        "Y_pred_svm.shape"
      ],
      "metadata": {
        "colab": {
          "base_uri": "https://localhost:8080/"
        },
        "id": "2FbvEO_-Lqig",
        "outputId": "a35283f7-dd8f-4552-8c45-13b23dd9af2e"
      },
      "execution_count": null,
      "outputs": [
        {
          "output_type": "execute_result",
          "data": {
            "text/plain": [
              "(205,)"
            ]
          },
          "metadata": {},
          "execution_count": 131
        }
      ]
    },
    {
      "cell_type": "code",
      "source": [
        "score_svm = round(accuracy_score(Y_pred_svm,Y_test)*100,2)\n",
        "\n",
        "print(\"The accuracy score achieved using Linear SVM is: \"+str(score_svm)+\" %\")"
      ],
      "metadata": {
        "colab": {
          "base_uri": "https://localhost:8080/"
        },
        "id": "0sMBihSdLsG7",
        "outputId": "3cc93562-f7ed-44c2-e730-3e75fc403c8e"
      },
      "execution_count": null,
      "outputs": [
        {
          "output_type": "stream",
          "name": "stdout",
          "text": [
            "The accuracy score achieved using Linear SVM is: 83.9 %\n"
          ]
        }
      ]
    },
    {
      "cell_type": "markdown",
      "source": [
        "K Nearest Neighbors"
      ],
      "metadata": {
        "id": "OhaDYcSoLxb7"
      }
    },
    {
      "cell_type": "code",
      "source": [
        "from sklearn.neighbors import KNeighborsClassifier\n",
        "\n",
        "knn = KNeighborsClassifier(n_neighbors=7)\n",
        "knn.fit(X_train,Y_train)\n",
        "Y_pred_knn=knn.predict(X_test)"
      ],
      "metadata": {
        "id": "zapuMrx2LzJV"
      },
      "execution_count": null,
      "outputs": []
    },
    {
      "cell_type": "code",
      "source": [
        "Y_pred_knn.shape"
      ],
      "metadata": {
        "colab": {
          "base_uri": "https://localhost:8080/"
        },
        "id": "AlUGj1V6L2XA",
        "outputId": "96f26d4a-4974-4e75-d06d-57e8bf50534e"
      },
      "execution_count": null,
      "outputs": [
        {
          "output_type": "execute_result",
          "data": {
            "text/plain": [
              "(205,)"
            ]
          },
          "metadata": {},
          "execution_count": 134
        }
      ]
    },
    {
      "cell_type": "code",
      "source": [
        "score_knn = round(accuracy_score(Y_pred_knn,Y_test)*100,2)\n",
        "\n",
        "print(\"The accuracy score achieved using KNN is: \"+str(score_knn)+\" %\")"
      ],
      "metadata": {
        "colab": {
          "base_uri": "https://localhost:8080/"
        },
        "id": "dVo1uXz-L4CS",
        "outputId": "f39ef8cc-7143-4d7d-ac2f-16751cf97691"
      },
      "execution_count": null,
      "outputs": [
        {
          "output_type": "stream",
          "name": "stdout",
          "text": [
            "The accuracy score achieved using KNN is: 72.2 %\n"
          ]
        }
      ]
    },
    {
      "cell_type": "markdown",
      "source": [
        "Decision Tree"
      ],
      "metadata": {
        "id": "zzg8pN9KL7d8"
      }
    },
    {
      "cell_type": "code",
      "source": [
        "from sklearn.tree import DecisionTreeClassifier\n",
        "\n",
        "max_accuracy = 0\n",
        "\n",
        "\n",
        "for x in range(200):\n",
        "    dt = DecisionTreeClassifier(random_state=x)\n",
        "    dt.fit(X_train,Y_train)\n",
        "    Y_pred_dt = dt.predict(X_test)\n",
        "    current_accuracy = round(accuracy_score(Y_pred_dt,Y_test)*100,2)\n",
        "    if(current_accuracy>max_accuracy):\n",
        "        max_accuracy = current_accuracy\n",
        "        best_x = x\n",
        "        \n",
        "#print(max_accuracy)\n",
        "#print(best_x)\n",
        "\n",
        "\n",
        "dt = DecisionTreeClassifier(random_state=best_x)\n",
        "dt.fit(X_train,Y_train)\n",
        "Y_pred_dt = dt.predict(X_test)"
      ],
      "metadata": {
        "id": "JcYVkUQkL_2D"
      },
      "execution_count": null,
      "outputs": []
    },
    {
      "cell_type": "code",
      "source": [
        "print(Y_pred_dt.shape)"
      ],
      "metadata": {
        "colab": {
          "base_uri": "https://localhost:8080/"
        },
        "id": "kdj2o7aPMJXJ",
        "outputId": "48b7ec44-f440-4df0-c949-28ce846c2cbb"
      },
      "execution_count": null,
      "outputs": [
        {
          "output_type": "stream",
          "name": "stdout",
          "text": [
            "(205,)\n"
          ]
        }
      ]
    },
    {
      "cell_type": "code",
      "source": [
        "score_dt = round(accuracy_score(Y_pred_dt,Y_test)*100,2)\n",
        "\n",
        "print(\"The accuracy score achieved using Decision Tree is: \"+str(score_dt)+\" %\")"
      ],
      "metadata": {
        "colab": {
          "base_uri": "https://localhost:8080/"
        },
        "id": "PiW5y0QkMPqz",
        "outputId": "c42a4e1b-e5d7-467e-f5c7-1559ef4c8615"
      },
      "execution_count": null,
      "outputs": [
        {
          "output_type": "stream",
          "name": "stdout",
          "text": [
            "The accuracy score achieved using Decision Tree is: 100.0 %\n"
          ]
        }
      ]
    },
    {
      "cell_type": "markdown",
      "source": [
        "Random Forest"
      ],
      "metadata": {
        "id": "qB5_SWlFMTAY"
      }
    },
    {
      "cell_type": "code",
      "source": [
        "from sklearn.ensemble import RandomForestClassifier\n",
        "\n",
        "max_accuracy = 0\n",
        "\n",
        "\n",
        "for x in range(2000):\n",
        "    rf = RandomForestClassifier(random_state=x)\n",
        "    rf.fit(X_train,Y_train)\n",
        "    Y_pred_rf = rf.predict(X_test)\n",
        "    current_accuracy = round(accuracy_score(Y_pred_rf,Y_test)*100,2)\n",
        "    if(current_accuracy>max_accuracy):\n",
        "        max_accuracy = current_accuracy\n",
        "        best_x = x\n",
        "        \n",
        "#print(max_accuracy)\n",
        "#print(best_x)\n",
        "\n",
        "rf = RandomForestClassifier(random_state=best_x)\n",
        "rf.fit(X_train,Y_train)\n",
        "Y_pred_rf = rf.predict(X_test)"
      ],
      "metadata": {
        "id": "jZ6PAnlCMUu3"
      },
      "execution_count": null,
      "outputs": []
    },
    {
      "cell_type": "code",
      "source": [
        "Y_pred_rf.shape"
      ],
      "metadata": {
        "colab": {
          "base_uri": "https://localhost:8080/"
        },
        "id": "Zy7dkLvmMY0n",
        "outputId": "c08a90ff-4840-4ead-c1ff-0b32364c1543"
      },
      "execution_count": null,
      "outputs": [
        {
          "output_type": "execute_result",
          "data": {
            "text/plain": [
              "(205,)"
            ]
          },
          "metadata": {},
          "execution_count": 144
        }
      ]
    },
    {
      "cell_type": "code",
      "source": [
        "score_rf = round(accuracy_score(Y_pred_rf,Y_test)*100,2)\n",
        "\n",
        "print(\"The accuracy score achieved using Decision Tree is: \"+str(score_rf)+\" %\")"
      ],
      "metadata": {
        "colab": {
          "base_uri": "https://localhost:8080/"
        },
        "id": "ybg37W5JMd8m",
        "outputId": "8bd9368e-7d1a-420b-fae0-15ccad36c59e"
      },
      "execution_count": null,
      "outputs": [
        {
          "output_type": "stream",
          "name": "stdout",
          "text": [
            "The accuracy score achieved using Decision Tree is: 100.0 %\n"
          ]
        }
      ]
    },
    {
      "cell_type": "markdown",
      "source": [
        "XGBoost"
      ],
      "metadata": {
        "id": "aP5tBd2RMgBI"
      }
    },
    {
      "cell_type": "code",
      "source": [
        "import xgboost as xgb\n",
        "\n",
        "xgb_model = xgb.XGBClassifier(objective=\"binary:logistic\", random_state=42)\n",
        "xgb_model.fit(X_train, Y_train)\n",
        "\n",
        "Y_pred_xgb = xgb_model.predict(X_test)"
      ],
      "metadata": {
        "id": "1Q8EThmAMjKF"
      },
      "execution_count": null,
      "outputs": []
    },
    {
      "cell_type": "code",
      "source": [
        "Y_pred_xgb.shape"
      ],
      "metadata": {
        "colab": {
          "base_uri": "https://localhost:8080/"
        },
        "id": "hEpbdaIoMl_W",
        "outputId": "72e8ec0c-44ca-4dfd-bab1-64768f5685a0"
      },
      "execution_count": null,
      "outputs": [
        {
          "output_type": "execute_result",
          "data": {
            "text/plain": [
              "(205,)"
            ]
          },
          "metadata": {},
          "execution_count": 143
        }
      ]
    },
    {
      "cell_type": "code",
      "source": [
        "score_xgb = round(accuracy_score(Y_pred_xgb,Y_test)*100,2)\n",
        "\n",
        "print(\"The accuracy score achieved using XGBoost is: \"+str(score_xgb)+\" %\")"
      ],
      "metadata": {
        "colab": {
          "base_uri": "https://localhost:8080/"
        },
        "id": "-2YwNOS2MogW",
        "outputId": "28485787-79a6-4193-f7bc-37591de21afa"
      },
      "execution_count": null,
      "outputs": [
        {
          "output_type": "stream",
          "name": "stdout",
          "text": [
            "The accuracy score achieved using XGBoost is: 97.56 %\n"
          ]
        }
      ]
    },
    {
      "cell_type": "markdown",
      "source": [
        "Neural Network"
      ],
      "metadata": {
        "id": "4U6_t2ntMr9C"
      }
    },
    {
      "cell_type": "code",
      "source": [
        "from keras.models import Sequential\n",
        "from keras.layers import Dense"
      ],
      "metadata": {
        "id": "DAL4-AOUM0Bl"
      },
      "execution_count": null,
      "outputs": []
    },
    {
      "cell_type": "code",
      "source": [
        "# Using TensorFlow backend.\n",
        "# https://stats.stackexchange.com/a/136542 helped a lot in avoiding overfitting\n",
        "\n",
        "model = Sequential()\n",
        "model.add(Dense(11,activation='relu',input_dim=13))\n",
        "model.add(Dense(1,activation='sigmoid'))\n",
        "\n",
        "model.compile(loss='binary_crossentropy',optimizer='adam',metrics=['accuracy'])"
      ],
      "metadata": {
        "id": "MZqduKj3M14D"
      },
      "execution_count": null,
      "outputs": []
    },
    {
      "cell_type": "code",
      "source": [
        "model.fit(X_train,Y_train,epochs=300)"
      ],
      "metadata": {
        "colab": {
          "base_uri": "https://localhost:8080/"
        },
        "id": "lkHsPKuwNLA_",
        "outputId": "3a004531-85ce-4b87-f0fb-a1470c516b8a"
      },
      "execution_count": null,
      "outputs": [
        {
          "output_type": "stream",
          "name": "stdout",
          "text": [
            "Epoch 1/300\n",
            "26/26 [==============================] - 1s 1ms/step - loss: 45.6397 - accuracy: 0.4890\n",
            "Epoch 2/300\n",
            "26/26 [==============================] - 0s 1ms/step - loss: 28.7338 - accuracy: 0.4890\n",
            "Epoch 3/300\n",
            "26/26 [==============================] - 0s 2ms/step - loss: 13.1830 - accuracy: 0.4854\n",
            "Epoch 4/300\n",
            "26/26 [==============================] - 0s 1ms/step - loss: 4.0835 - accuracy: 0.3427\n",
            "Epoch 5/300\n",
            "26/26 [==============================] - 0s 1ms/step - loss: 3.4141 - accuracy: 0.3293\n",
            "Epoch 6/300\n",
            "26/26 [==============================] - 0s 2ms/step - loss: 3.1018 - accuracy: 0.3244\n",
            "Epoch 7/300\n",
            "26/26 [==============================] - 0s 1ms/step - loss: 2.7983 - accuracy: 0.3439\n",
            "Epoch 8/300\n",
            "26/26 [==============================] - 0s 2ms/step - loss: 2.5256 - accuracy: 0.3354\n",
            "Epoch 9/300\n",
            "26/26 [==============================] - 0s 1ms/step - loss: 2.2052 - accuracy: 0.3293\n",
            "Epoch 10/300\n",
            "26/26 [==============================] - 0s 1ms/step - loss: 1.8896 - accuracy: 0.3378\n",
            "Epoch 11/300\n",
            "26/26 [==============================] - 0s 1ms/step - loss: 1.5859 - accuracy: 0.3598\n",
            "Epoch 12/300\n",
            "26/26 [==============================] - 0s 2ms/step - loss: 1.3211 - accuracy: 0.3610\n",
            "Epoch 13/300\n",
            "26/26 [==============================] - 0s 2ms/step - loss: 1.0635 - accuracy: 0.4110\n",
            "Epoch 14/300\n",
            "26/26 [==============================] - 0s 2ms/step - loss: 0.8831 - accuracy: 0.4646\n",
            "Epoch 15/300\n",
            "26/26 [==============================] - 0s 2ms/step - loss: 0.7629 - accuracy: 0.5317\n",
            "Epoch 16/300\n",
            "26/26 [==============================] - 0s 1ms/step - loss: 0.6620 - accuracy: 0.6293\n",
            "Epoch 17/300\n",
            "26/26 [==============================] - 0s 1ms/step - loss: 0.5964 - accuracy: 0.6902\n",
            "Epoch 18/300\n",
            "26/26 [==============================] - 0s 2ms/step - loss: 0.5581 - accuracy: 0.7293\n",
            "Epoch 19/300\n",
            "26/26 [==============================] - 0s 1ms/step - loss: 0.5324 - accuracy: 0.7402\n",
            "Epoch 20/300\n",
            "26/26 [==============================] - 0s 1ms/step - loss: 0.5300 - accuracy: 0.7439\n",
            "Epoch 21/300\n",
            "26/26 [==============================] - 0s 2ms/step - loss: 0.5025 - accuracy: 0.7659\n",
            "Epoch 22/300\n",
            "26/26 [==============================] - 0s 2ms/step - loss: 0.4946 - accuracy: 0.7659\n",
            "Epoch 23/300\n",
            "26/26 [==============================] - 0s 2ms/step - loss: 0.5226 - accuracy: 0.7329\n",
            "Epoch 24/300\n",
            "26/26 [==============================] - 0s 2ms/step - loss: 0.4749 - accuracy: 0.7793\n",
            "Epoch 25/300\n",
            "26/26 [==============================] - 0s 1ms/step - loss: 0.4740 - accuracy: 0.7756\n",
            "Epoch 26/300\n",
            "26/26 [==============================] - 0s 1ms/step - loss: 0.4736 - accuracy: 0.7805\n",
            "Epoch 27/300\n",
            "26/26 [==============================] - 0s 2ms/step - loss: 0.4623 - accuracy: 0.7829\n",
            "Epoch 28/300\n",
            "26/26 [==============================] - 0s 2ms/step - loss: 0.4628 - accuracy: 0.7878\n",
            "Epoch 29/300\n",
            "26/26 [==============================] - 0s 1ms/step - loss: 0.4579 - accuracy: 0.7976\n",
            "Epoch 30/300\n",
            "26/26 [==============================] - 0s 1ms/step - loss: 0.4582 - accuracy: 0.7829\n",
            "Epoch 31/300\n",
            "26/26 [==============================] - 0s 2ms/step - loss: 0.4626 - accuracy: 0.7805\n",
            "Epoch 32/300\n",
            "26/26 [==============================] - 0s 2ms/step - loss: 0.4472 - accuracy: 0.7963\n",
            "Epoch 33/300\n",
            "26/26 [==============================] - 0s 2ms/step - loss: 0.4482 - accuracy: 0.7878\n",
            "Epoch 34/300\n",
            "26/26 [==============================] - 0s 2ms/step - loss: 0.4465 - accuracy: 0.8073\n",
            "Epoch 35/300\n",
            "26/26 [==============================] - 0s 1ms/step - loss: 0.4456 - accuracy: 0.7939\n",
            "Epoch 36/300\n",
            "26/26 [==============================] - 0s 1ms/step - loss: 0.4365 - accuracy: 0.8098\n",
            "Epoch 37/300\n",
            "26/26 [==============================] - 0s 1ms/step - loss: 0.4477 - accuracy: 0.7963\n",
            "Epoch 38/300\n",
            "26/26 [==============================] - 0s 1ms/step - loss: 0.4602 - accuracy: 0.7683\n",
            "Epoch 39/300\n",
            "26/26 [==============================] - 0s 2ms/step - loss: 0.4474 - accuracy: 0.7951\n",
            "Epoch 40/300\n",
            "26/26 [==============================] - 0s 2ms/step - loss: 0.4350 - accuracy: 0.8073\n",
            "Epoch 41/300\n",
            "26/26 [==============================] - 0s 2ms/step - loss: 0.4412 - accuracy: 0.7927\n",
            "Epoch 42/300\n",
            "26/26 [==============================] - 0s 2ms/step - loss: 0.4391 - accuracy: 0.8049\n",
            "Epoch 43/300\n",
            "26/26 [==============================] - 0s 1ms/step - loss: 0.4271 - accuracy: 0.8134\n",
            "Epoch 44/300\n",
            "26/26 [==============================] - 0s 2ms/step - loss: 0.4315 - accuracy: 0.8000\n",
            "Epoch 45/300\n",
            "26/26 [==============================] - 0s 2ms/step - loss: 0.4293 - accuracy: 0.8171\n",
            "Epoch 46/300\n",
            "26/26 [==============================] - 0s 1ms/step - loss: 0.4219 - accuracy: 0.8146\n",
            "Epoch 47/300\n",
            "26/26 [==============================] - 0s 1ms/step - loss: 0.4322 - accuracy: 0.8122\n",
            "Epoch 48/300\n",
            "26/26 [==============================] - 0s 2ms/step - loss: 0.4226 - accuracy: 0.8268\n",
            "Epoch 49/300\n",
            "26/26 [==============================] - 0s 2ms/step - loss: 0.4184 - accuracy: 0.8207\n",
            "Epoch 50/300\n",
            "26/26 [==============================] - 0s 1ms/step - loss: 0.4176 - accuracy: 0.8122\n",
            "Epoch 51/300\n",
            "26/26 [==============================] - 0s 1ms/step - loss: 0.4301 - accuracy: 0.7927\n",
            "Epoch 52/300\n",
            "26/26 [==============================] - 0s 2ms/step - loss: 0.4255 - accuracy: 0.8024\n",
            "Epoch 53/300\n",
            "26/26 [==============================] - 0s 1ms/step - loss: 0.4239 - accuracy: 0.8134\n",
            "Epoch 54/300\n",
            "26/26 [==============================] - 0s 1ms/step - loss: 0.4198 - accuracy: 0.8183\n",
            "Epoch 55/300\n",
            "26/26 [==============================] - 0s 1ms/step - loss: 0.4211 - accuracy: 0.8146\n",
            "Epoch 56/300\n",
            "26/26 [==============================] - 0s 1ms/step - loss: 0.4160 - accuracy: 0.8110\n",
            "Epoch 57/300\n",
            "26/26 [==============================] - 0s 1ms/step - loss: 0.4284 - accuracy: 0.8037\n",
            "Epoch 58/300\n",
            "26/26 [==============================] - 0s 2ms/step - loss: 0.4205 - accuracy: 0.8085\n",
            "Epoch 59/300\n",
            "26/26 [==============================] - 0s 2ms/step - loss: 0.4131 - accuracy: 0.8183\n",
            "Epoch 60/300\n",
            "26/26 [==============================] - 0s 1ms/step - loss: 0.4127 - accuracy: 0.8024\n",
            "Epoch 61/300\n",
            "26/26 [==============================] - 0s 2ms/step - loss: 0.4091 - accuracy: 0.8293\n",
            "Epoch 62/300\n",
            "26/26 [==============================] - 0s 2ms/step - loss: 0.4104 - accuracy: 0.8183\n",
            "Epoch 63/300\n",
            "26/26 [==============================] - 0s 2ms/step - loss: 0.4101 - accuracy: 0.8232\n",
            "Epoch 64/300\n",
            "26/26 [==============================] - 0s 2ms/step - loss: 0.4102 - accuracy: 0.8378\n",
            "Epoch 65/300\n",
            "26/26 [==============================] - 0s 2ms/step - loss: 0.4023 - accuracy: 0.8305\n",
            "Epoch 66/300\n",
            "26/26 [==============================] - 0s 2ms/step - loss: 0.4123 - accuracy: 0.8244\n",
            "Epoch 67/300\n",
            "26/26 [==============================] - 0s 2ms/step - loss: 0.4086 - accuracy: 0.8329\n",
            "Epoch 68/300\n",
            "26/26 [==============================] - 0s 2ms/step - loss: 0.3994 - accuracy: 0.8476\n",
            "Epoch 69/300\n",
            "26/26 [==============================] - 0s 2ms/step - loss: 0.4042 - accuracy: 0.8085\n",
            "Epoch 70/300\n",
            "26/26 [==============================] - 0s 2ms/step - loss: 0.4046 - accuracy: 0.8378\n",
            "Epoch 71/300\n",
            "26/26 [==============================] - 0s 2ms/step - loss: 0.4144 - accuracy: 0.8122\n",
            "Epoch 72/300\n",
            "26/26 [==============================] - 0s 1ms/step - loss: 0.4068 - accuracy: 0.8195\n",
            "Epoch 73/300\n",
            "26/26 [==============================] - 0s 1ms/step - loss: 0.4174 - accuracy: 0.8122\n",
            "Epoch 74/300\n",
            "26/26 [==============================] - 0s 2ms/step - loss: 0.4004 - accuracy: 0.8232\n",
            "Epoch 75/300\n",
            "26/26 [==============================] - 0s 1ms/step - loss: 0.3984 - accuracy: 0.8524\n",
            "Epoch 76/300\n",
            "26/26 [==============================] - 0s 1ms/step - loss: 0.3991 - accuracy: 0.8390\n",
            "Epoch 77/300\n",
            "26/26 [==============================] - 0s 2ms/step - loss: 0.4004 - accuracy: 0.8317\n",
            "Epoch 78/300\n",
            "26/26 [==============================] - 0s 2ms/step - loss: 0.3998 - accuracy: 0.8280\n",
            "Epoch 79/300\n",
            "26/26 [==============================] - 0s 2ms/step - loss: 0.3944 - accuracy: 0.8341\n",
            "Epoch 80/300\n",
            "26/26 [==============================] - 0s 1ms/step - loss: 0.4116 - accuracy: 0.8195\n",
            "Epoch 81/300\n",
            "26/26 [==============================] - 0s 2ms/step - loss: 0.3994 - accuracy: 0.8366\n",
            "Epoch 82/300\n",
            "26/26 [==============================] - 0s 2ms/step - loss: 0.4005 - accuracy: 0.8207\n",
            "Epoch 83/300\n",
            "26/26 [==============================] - 0s 1ms/step - loss: 0.3928 - accuracy: 0.8329\n",
            "Epoch 84/300\n",
            "26/26 [==============================] - 0s 1ms/step - loss: 0.3974 - accuracy: 0.8390\n",
            "Epoch 85/300\n",
            "26/26 [==============================] - 0s 1ms/step - loss: 0.4004 - accuracy: 0.8244\n",
            "Epoch 86/300\n",
            "26/26 [==============================] - 0s 1ms/step - loss: 0.3942 - accuracy: 0.8159\n",
            "Epoch 87/300\n",
            "26/26 [==============================] - 0s 1ms/step - loss: 0.3982 - accuracy: 0.8268\n",
            "Epoch 88/300\n",
            "26/26 [==============================] - 0s 2ms/step - loss: 0.3894 - accuracy: 0.8463\n",
            "Epoch 89/300\n",
            "26/26 [==============================] - 0s 1ms/step - loss: 0.3931 - accuracy: 0.8354\n",
            "Epoch 90/300\n",
            "26/26 [==============================] - 0s 2ms/step - loss: 0.3875 - accuracy: 0.8439\n",
            "Epoch 91/300\n",
            "26/26 [==============================] - 0s 2ms/step - loss: 0.3929 - accuracy: 0.8378\n",
            "Epoch 92/300\n",
            "26/26 [==============================] - 0s 1ms/step - loss: 0.3891 - accuracy: 0.8439\n",
            "Epoch 93/300\n",
            "26/26 [==============================] - 0s 2ms/step - loss: 0.3921 - accuracy: 0.8439\n",
            "Epoch 94/300\n",
            "26/26 [==============================] - 0s 1ms/step - loss: 0.3896 - accuracy: 0.8439\n",
            "Epoch 95/300\n",
            "26/26 [==============================] - 0s 1ms/step - loss: 0.3975 - accuracy: 0.8354\n",
            "Epoch 96/300\n",
            "26/26 [==============================] - 0s 2ms/step - loss: 0.3867 - accuracy: 0.8427\n",
            "Epoch 97/300\n",
            "26/26 [==============================] - 0s 1ms/step - loss: 0.3927 - accuracy: 0.8195\n",
            "Epoch 98/300\n",
            "26/26 [==============================] - 0s 1ms/step - loss: 0.3877 - accuracy: 0.8463\n",
            "Epoch 99/300\n",
            "26/26 [==============================] - 0s 1ms/step - loss: 0.3866 - accuracy: 0.8439\n",
            "Epoch 100/300\n",
            "26/26 [==============================] - 0s 2ms/step - loss: 0.3889 - accuracy: 0.8402\n",
            "Epoch 101/300\n",
            "26/26 [==============================] - 0s 1ms/step - loss: 0.3817 - accuracy: 0.8463\n",
            "Epoch 102/300\n",
            "26/26 [==============================] - 0s 1ms/step - loss: 0.3980 - accuracy: 0.8232\n",
            "Epoch 103/300\n",
            "26/26 [==============================] - 0s 2ms/step - loss: 0.3947 - accuracy: 0.8232\n",
            "Epoch 104/300\n",
            "26/26 [==============================] - 0s 2ms/step - loss: 0.3861 - accuracy: 0.8402\n",
            "Epoch 105/300\n",
            "26/26 [==============================] - 0s 1ms/step - loss: 0.3833 - accuracy: 0.8500\n",
            "Epoch 106/300\n",
            "26/26 [==============================] - 0s 1ms/step - loss: 0.3849 - accuracy: 0.8451\n",
            "Epoch 107/300\n",
            "26/26 [==============================] - 0s 1ms/step - loss: 0.3826 - accuracy: 0.8476\n",
            "Epoch 108/300\n",
            "26/26 [==============================] - 0s 1ms/step - loss: 0.3853 - accuracy: 0.8366\n",
            "Epoch 109/300\n",
            "26/26 [==============================] - 0s 1ms/step - loss: 0.3878 - accuracy: 0.8341\n",
            "Epoch 110/300\n",
            "26/26 [==============================] - 0s 1ms/step - loss: 0.4162 - accuracy: 0.8037\n",
            "Epoch 111/300\n",
            "26/26 [==============================] - 0s 1ms/step - loss: 0.3985 - accuracy: 0.8220\n",
            "Epoch 112/300\n",
            "26/26 [==============================] - 0s 2ms/step - loss: 0.3873 - accuracy: 0.8341\n",
            "Epoch 113/300\n",
            "26/26 [==============================] - 0s 2ms/step - loss: 0.3828 - accuracy: 0.8512\n",
            "Epoch 114/300\n",
            "26/26 [==============================] - 0s 2ms/step - loss: 0.3821 - accuracy: 0.8476\n",
            "Epoch 115/300\n",
            "26/26 [==============================] - 0s 1ms/step - loss: 0.3844 - accuracy: 0.8402\n",
            "Epoch 116/300\n",
            "26/26 [==============================] - 0s 1ms/step - loss: 0.3921 - accuracy: 0.8402\n",
            "Epoch 117/300\n",
            "26/26 [==============================] - 0s 2ms/step - loss: 0.3940 - accuracy: 0.8280\n",
            "Epoch 118/300\n",
            "26/26 [==============================] - 0s 1ms/step - loss: 0.3825 - accuracy: 0.8451\n",
            "Epoch 119/300\n",
            "26/26 [==============================] - 0s 2ms/step - loss: 0.3951 - accuracy: 0.8341\n",
            "Epoch 120/300\n",
            "26/26 [==============================] - 0s 2ms/step - loss: 0.3928 - accuracy: 0.8341\n",
            "Epoch 121/300\n",
            "26/26 [==============================] - 0s 2ms/step - loss: 0.3912 - accuracy: 0.8256\n",
            "Epoch 122/300\n",
            "26/26 [==============================] - 0s 2ms/step - loss: 0.3908 - accuracy: 0.8341\n",
            "Epoch 123/300\n",
            "26/26 [==============================] - 0s 2ms/step - loss: 0.3773 - accuracy: 0.8402\n",
            "Epoch 124/300\n",
            "26/26 [==============================] - 0s 2ms/step - loss: 0.4151 - accuracy: 0.8110\n",
            "Epoch 125/300\n",
            "26/26 [==============================] - 0s 1ms/step - loss: 0.3783 - accuracy: 0.8402\n",
            "Epoch 126/300\n",
            "26/26 [==============================] - 0s 2ms/step - loss: 0.3851 - accuracy: 0.8415\n",
            "Epoch 127/300\n",
            "26/26 [==============================] - 0s 1ms/step - loss: 0.4035 - accuracy: 0.8073\n",
            "Epoch 128/300\n",
            "26/26 [==============================] - 0s 2ms/step - loss: 0.3861 - accuracy: 0.8451\n",
            "Epoch 129/300\n",
            "26/26 [==============================] - 0s 1ms/step - loss: 0.3857 - accuracy: 0.8476\n",
            "Epoch 130/300\n",
            "26/26 [==============================] - 0s 1ms/step - loss: 0.3837 - accuracy: 0.8293\n",
            "Epoch 131/300\n",
            "26/26 [==============================] - 0s 1ms/step - loss: 0.3922 - accuracy: 0.8378\n",
            "Epoch 132/300\n",
            "26/26 [==============================] - 0s 1ms/step - loss: 0.3839 - accuracy: 0.8256\n",
            "Epoch 133/300\n",
            "26/26 [==============================] - 0s 2ms/step - loss: 0.3910 - accuracy: 0.8268\n",
            "Epoch 134/300\n",
            "26/26 [==============================] - 0s 2ms/step - loss: 0.3831 - accuracy: 0.8402\n",
            "Epoch 135/300\n",
            "26/26 [==============================] - 0s 2ms/step - loss: 0.3804 - accuracy: 0.8439\n",
            "Epoch 136/300\n",
            "26/26 [==============================] - 0s 2ms/step - loss: 0.3900 - accuracy: 0.8378\n",
            "Epoch 137/300\n",
            "26/26 [==============================] - 0s 1ms/step - loss: 0.3775 - accuracy: 0.8476\n",
            "Epoch 138/300\n",
            "26/26 [==============================] - 0s 1ms/step - loss: 0.3819 - accuracy: 0.8512\n",
            "Epoch 139/300\n",
            "26/26 [==============================] - 0s 1ms/step - loss: 0.3836 - accuracy: 0.8451\n",
            "Epoch 140/300\n",
            "26/26 [==============================] - 0s 2ms/step - loss: 0.3951 - accuracy: 0.8146\n",
            "Epoch 141/300\n",
            "26/26 [==============================] - 0s 2ms/step - loss: 0.3850 - accuracy: 0.8378\n",
            "Epoch 142/300\n",
            "26/26 [==============================] - 0s 1ms/step - loss: 0.3944 - accuracy: 0.8195\n",
            "Epoch 143/300\n",
            "26/26 [==============================] - 0s 2ms/step - loss: 0.3875 - accuracy: 0.8317\n",
            "Epoch 144/300\n",
            "26/26 [==============================] - 0s 1ms/step - loss: 0.4012 - accuracy: 0.8268\n",
            "Epoch 145/300\n",
            "26/26 [==============================] - 0s 2ms/step - loss: 0.3727 - accuracy: 0.8573\n",
            "Epoch 146/300\n",
            "26/26 [==============================] - 0s 1ms/step - loss: 0.3896 - accuracy: 0.8329\n",
            "Epoch 147/300\n",
            "26/26 [==============================] - 0s 2ms/step - loss: 0.3755 - accuracy: 0.8488\n",
            "Epoch 148/300\n",
            "26/26 [==============================] - 0s 1ms/step - loss: 0.3968 - accuracy: 0.8146\n",
            "Epoch 149/300\n",
            "26/26 [==============================] - 0s 1ms/step - loss: 0.4012 - accuracy: 0.8232\n",
            "Epoch 150/300\n",
            "26/26 [==============================] - 0s 1ms/step - loss: 0.3970 - accuracy: 0.8268\n",
            "Epoch 151/300\n",
            "26/26 [==============================] - 0s 2ms/step - loss: 0.4005 - accuracy: 0.8171\n",
            "Epoch 152/300\n",
            "26/26 [==============================] - 0s 1ms/step - loss: 0.3729 - accuracy: 0.8451\n",
            "Epoch 153/300\n",
            "26/26 [==============================] - 0s 2ms/step - loss: 0.3954 - accuracy: 0.8098\n",
            "Epoch 154/300\n",
            "26/26 [==============================] - 0s 2ms/step - loss: 0.3832 - accuracy: 0.8390\n",
            "Epoch 155/300\n",
            "26/26 [==============================] - 0s 2ms/step - loss: 0.3789 - accuracy: 0.8341\n",
            "Epoch 156/300\n",
            "26/26 [==============================] - 0s 1ms/step - loss: 0.3783 - accuracy: 0.8488\n",
            "Epoch 157/300\n",
            "26/26 [==============================] - 0s 1ms/step - loss: 0.3740 - accuracy: 0.8427\n",
            "Epoch 158/300\n",
            "26/26 [==============================] - 0s 1ms/step - loss: 0.3728 - accuracy: 0.8402\n",
            "Epoch 159/300\n",
            "26/26 [==============================] - 0s 1ms/step - loss: 0.3821 - accuracy: 0.8354\n",
            "Epoch 160/300\n",
            "26/26 [==============================] - 0s 1ms/step - loss: 0.3837 - accuracy: 0.8378\n",
            "Epoch 161/300\n",
            "26/26 [==============================] - 0s 2ms/step - loss: 0.4174 - accuracy: 0.7976\n",
            "Epoch 162/300\n",
            "26/26 [==============================] - 0s 2ms/step - loss: 0.3998 - accuracy: 0.8366\n",
            "Epoch 163/300\n",
            "26/26 [==============================] - 0s 1ms/step - loss: 0.3747 - accuracy: 0.8488\n",
            "Epoch 164/300\n",
            "26/26 [==============================] - 0s 1ms/step - loss: 0.3941 - accuracy: 0.8293\n",
            "Epoch 165/300\n",
            "26/26 [==============================] - 0s 2ms/step - loss: 0.3815 - accuracy: 0.8476\n",
            "Epoch 166/300\n",
            "26/26 [==============================] - 0s 1ms/step - loss: 0.4074 - accuracy: 0.8159\n",
            "Epoch 167/300\n",
            "26/26 [==============================] - 0s 2ms/step - loss: 0.3817 - accuracy: 0.8378\n",
            "Epoch 168/300\n",
            "26/26 [==============================] - 0s 2ms/step - loss: 0.4085 - accuracy: 0.8268\n",
            "Epoch 169/300\n",
            "26/26 [==============================] - 0s 2ms/step - loss: 0.4073 - accuracy: 0.8122\n",
            "Epoch 170/300\n",
            "26/26 [==============================] - 0s 2ms/step - loss: 0.3913 - accuracy: 0.8293\n",
            "Epoch 171/300\n",
            "26/26 [==============================] - 0s 2ms/step - loss: 0.3903 - accuracy: 0.8293\n",
            "Epoch 172/300\n",
            "26/26 [==============================] - 0s 2ms/step - loss: 0.3908 - accuracy: 0.8195\n",
            "Epoch 173/300\n",
            "26/26 [==============================] - 0s 1ms/step - loss: 0.3801 - accuracy: 0.8415\n",
            "Epoch 174/300\n",
            "26/26 [==============================] - 0s 2ms/step - loss: 0.3775 - accuracy: 0.8402\n",
            "Epoch 175/300\n",
            "26/26 [==============================] - 0s 2ms/step - loss: 0.3830 - accuracy: 0.8463\n",
            "Epoch 176/300\n",
            "26/26 [==============================] - 0s 1ms/step - loss: 0.3971 - accuracy: 0.8268\n",
            "Epoch 177/300\n",
            "26/26 [==============================] - 0s 2ms/step - loss: 0.3854 - accuracy: 0.8329\n",
            "Epoch 178/300\n",
            "26/26 [==============================] - 0s 2ms/step - loss: 0.3712 - accuracy: 0.8439\n",
            "Epoch 179/300\n",
            "26/26 [==============================] - 0s 2ms/step - loss: 0.3743 - accuracy: 0.8463\n",
            "Epoch 180/300\n",
            "26/26 [==============================] - 0s 2ms/step - loss: 0.4016 - accuracy: 0.8232\n",
            "Epoch 181/300\n",
            "26/26 [==============================] - 0s 2ms/step - loss: 0.4012 - accuracy: 0.8232\n",
            "Epoch 182/300\n",
            "26/26 [==============================] - 0s 2ms/step - loss: 0.3922 - accuracy: 0.8280\n",
            "Epoch 183/300\n",
            "26/26 [==============================] - 0s 2ms/step - loss: 0.3926 - accuracy: 0.8402\n",
            "Epoch 184/300\n",
            "26/26 [==============================] - 0s 2ms/step - loss: 0.3768 - accuracy: 0.8390\n",
            "Epoch 185/300\n",
            "26/26 [==============================] - 0s 1ms/step - loss: 0.3890 - accuracy: 0.8317\n",
            "Epoch 186/300\n",
            "26/26 [==============================] - 0s 2ms/step - loss: 0.3804 - accuracy: 0.8427\n",
            "Epoch 187/300\n",
            "26/26 [==============================] - 0s 2ms/step - loss: 0.3715 - accuracy: 0.8512\n",
            "Epoch 188/300\n",
            "26/26 [==============================] - 0s 1ms/step - loss: 0.3826 - accuracy: 0.8451\n",
            "Epoch 189/300\n",
            "26/26 [==============================] - 0s 2ms/step - loss: 0.3694 - accuracy: 0.8524\n",
            "Epoch 190/300\n",
            "26/26 [==============================] - 0s 1ms/step - loss: 0.3698 - accuracy: 0.8463\n",
            "Epoch 191/300\n",
            "26/26 [==============================] - 0s 1ms/step - loss: 0.3733 - accuracy: 0.8439\n",
            "Epoch 192/300\n",
            "26/26 [==============================] - 0s 2ms/step - loss: 0.3868 - accuracy: 0.8280\n",
            "Epoch 193/300\n",
            "26/26 [==============================] - 0s 1ms/step - loss: 0.3806 - accuracy: 0.8366\n",
            "Epoch 194/300\n",
            "26/26 [==============================] - 0s 2ms/step - loss: 0.3791 - accuracy: 0.8354\n",
            "Epoch 195/300\n",
            "26/26 [==============================] - 0s 2ms/step - loss: 0.3733 - accuracy: 0.8463\n",
            "Epoch 196/300\n",
            "26/26 [==============================] - 0s 2ms/step - loss: 0.3776 - accuracy: 0.8402\n",
            "Epoch 197/300\n",
            "26/26 [==============================] - 0s 2ms/step - loss: 0.3761 - accuracy: 0.8378\n",
            "Epoch 198/300\n",
            "26/26 [==============================] - 0s 2ms/step - loss: 0.3911 - accuracy: 0.8256\n",
            "Epoch 199/300\n",
            "26/26 [==============================] - 0s 2ms/step - loss: 0.3972 - accuracy: 0.8232\n",
            "Epoch 200/300\n",
            "26/26 [==============================] - 0s 3ms/step - loss: 0.3702 - accuracy: 0.8451\n",
            "Epoch 201/300\n",
            "26/26 [==============================] - 0s 2ms/step - loss: 0.3711 - accuracy: 0.8537\n",
            "Epoch 202/300\n",
            "26/26 [==============================] - 0s 2ms/step - loss: 0.3883 - accuracy: 0.8354\n",
            "Epoch 203/300\n",
            "26/26 [==============================] - 0s 2ms/step - loss: 0.4159 - accuracy: 0.8159\n",
            "Epoch 204/300\n",
            "26/26 [==============================] - 0s 2ms/step - loss: 0.4284 - accuracy: 0.8049\n",
            "Epoch 205/300\n",
            "26/26 [==============================] - 0s 2ms/step - loss: 0.3735 - accuracy: 0.8476\n",
            "Epoch 206/300\n",
            "26/26 [==============================] - 0s 2ms/step - loss: 0.3731 - accuracy: 0.8585\n",
            "Epoch 207/300\n",
            "26/26 [==============================] - 0s 2ms/step - loss: 0.3682 - accuracy: 0.8524\n",
            "Epoch 208/300\n",
            "26/26 [==============================] - 0s 2ms/step - loss: 0.3781 - accuracy: 0.8402\n",
            "Epoch 209/300\n",
            "26/26 [==============================] - 0s 2ms/step - loss: 0.3862 - accuracy: 0.8268\n",
            "Epoch 210/300\n",
            "26/26 [==============================] - 0s 1ms/step - loss: 0.3856 - accuracy: 0.8378\n",
            "Epoch 211/300\n",
            "26/26 [==============================] - 0s 2ms/step - loss: 0.3765 - accuracy: 0.8463\n",
            "Epoch 212/300\n",
            "26/26 [==============================] - 0s 1ms/step - loss: 0.3715 - accuracy: 0.8451\n",
            "Epoch 213/300\n",
            "26/26 [==============================] - 0s 2ms/step - loss: 0.3684 - accuracy: 0.8451\n",
            "Epoch 214/300\n",
            "26/26 [==============================] - 0s 2ms/step - loss: 0.3833 - accuracy: 0.8463\n",
            "Epoch 215/300\n",
            "26/26 [==============================] - 0s 1ms/step - loss: 0.3728 - accuracy: 0.8463\n",
            "Epoch 216/300\n",
            "26/26 [==============================] - 0s 2ms/step - loss: 0.3909 - accuracy: 0.8293\n",
            "Epoch 217/300\n",
            "26/26 [==============================] - 0s 2ms/step - loss: 0.3840 - accuracy: 0.8329\n",
            "Epoch 218/300\n",
            "26/26 [==============================] - 0s 2ms/step - loss: 0.3727 - accuracy: 0.8488\n",
            "Epoch 219/300\n",
            "26/26 [==============================] - 0s 1ms/step - loss: 0.3686 - accuracy: 0.8537\n",
            "Epoch 220/300\n",
            "26/26 [==============================] - 0s 2ms/step - loss: 0.3670 - accuracy: 0.8415\n",
            "Epoch 221/300\n",
            "26/26 [==============================] - 0s 2ms/step - loss: 0.3715 - accuracy: 0.8512\n",
            "Epoch 222/300\n",
            "26/26 [==============================] - 0s 2ms/step - loss: 0.4046 - accuracy: 0.8232\n",
            "Epoch 223/300\n",
            "26/26 [==============================] - 0s 2ms/step - loss: 0.3838 - accuracy: 0.8220\n",
            "Epoch 224/300\n",
            "26/26 [==============================] - 0s 1ms/step - loss: 0.3949 - accuracy: 0.8317\n",
            "Epoch 225/300\n",
            "26/26 [==============================] - 0s 2ms/step - loss: 0.3805 - accuracy: 0.8402\n",
            "Epoch 226/300\n",
            "26/26 [==============================] - 0s 2ms/step - loss: 0.3731 - accuracy: 0.8463\n",
            "Epoch 227/300\n",
            "26/26 [==============================] - 0s 2ms/step - loss: 0.3779 - accuracy: 0.8378\n",
            "Epoch 228/300\n",
            "26/26 [==============================] - 0s 2ms/step - loss: 0.3861 - accuracy: 0.8305\n",
            "Epoch 229/300\n",
            "26/26 [==============================] - 0s 2ms/step - loss: 0.3837 - accuracy: 0.8427\n",
            "Epoch 230/300\n",
            "26/26 [==============================] - 0s 2ms/step - loss: 0.3875 - accuracy: 0.8439\n",
            "Epoch 231/300\n",
            "26/26 [==============================] - 0s 2ms/step - loss: 0.3768 - accuracy: 0.8488\n",
            "Epoch 232/300\n",
            "26/26 [==============================] - 0s 2ms/step - loss: 0.3927 - accuracy: 0.8341\n",
            "Epoch 233/300\n",
            "26/26 [==============================] - 0s 2ms/step - loss: 0.3760 - accuracy: 0.8476\n",
            "Epoch 234/300\n",
            "26/26 [==============================] - 0s 2ms/step - loss: 0.3779 - accuracy: 0.8476\n",
            "Epoch 235/300\n",
            "26/26 [==============================] - 0s 2ms/step - loss: 0.3765 - accuracy: 0.8341\n",
            "Epoch 236/300\n",
            "26/26 [==============================] - 0s 2ms/step - loss: 0.3715 - accuracy: 0.8402\n",
            "Epoch 237/300\n",
            "26/26 [==============================] - 0s 2ms/step - loss: 0.3749 - accuracy: 0.8488\n",
            "Epoch 238/300\n",
            "26/26 [==============================] - 0s 2ms/step - loss: 0.3851 - accuracy: 0.8415\n",
            "Epoch 239/300\n",
            "26/26 [==============================] - 0s 1ms/step - loss: 0.3760 - accuracy: 0.8354\n",
            "Epoch 240/300\n",
            "26/26 [==============================] - 0s 1ms/step - loss: 0.3770 - accuracy: 0.8415\n",
            "Epoch 241/300\n",
            "26/26 [==============================] - 0s 2ms/step - loss: 0.3793 - accuracy: 0.8500\n",
            "Epoch 242/300\n",
            "26/26 [==============================] - 0s 1ms/step - loss: 0.3844 - accuracy: 0.8268\n",
            "Epoch 243/300\n",
            "26/26 [==============================] - 0s 2ms/step - loss: 0.3742 - accuracy: 0.8427\n",
            "Epoch 244/300\n",
            "26/26 [==============================] - 0s 2ms/step - loss: 0.4062 - accuracy: 0.8085\n",
            "Epoch 245/300\n",
            "26/26 [==============================] - 0s 2ms/step - loss: 0.3830 - accuracy: 0.8415\n",
            "Epoch 246/300\n",
            "26/26 [==============================] - 0s 2ms/step - loss: 0.3750 - accuracy: 0.8512\n",
            "Epoch 247/300\n",
            "26/26 [==============================] - 0s 2ms/step - loss: 0.3781 - accuracy: 0.8366\n",
            "Epoch 248/300\n",
            "26/26 [==============================] - 0s 1ms/step - loss: 0.3746 - accuracy: 0.8439\n",
            "Epoch 249/300\n",
            "26/26 [==============================] - 0s 2ms/step - loss: 0.3698 - accuracy: 0.8537\n",
            "Epoch 250/300\n",
            "26/26 [==============================] - 0s 2ms/step - loss: 0.3806 - accuracy: 0.8268\n",
            "Epoch 251/300\n",
            "26/26 [==============================] - 0s 2ms/step - loss: 0.4088 - accuracy: 0.7963\n",
            "Epoch 252/300\n",
            "26/26 [==============================] - 0s 2ms/step - loss: 0.3829 - accuracy: 0.8390\n",
            "Epoch 253/300\n",
            "26/26 [==============================] - 0s 1ms/step - loss: 0.3687 - accuracy: 0.8451\n",
            "Epoch 254/300\n",
            "26/26 [==============================] - 0s 1ms/step - loss: 0.3887 - accuracy: 0.8256\n",
            "Epoch 255/300\n",
            "26/26 [==============================] - 0s 2ms/step - loss: 0.3711 - accuracy: 0.8280\n",
            "Epoch 256/300\n",
            "26/26 [==============================] - 0s 3ms/step - loss: 0.3832 - accuracy: 0.8293\n",
            "Epoch 257/300\n",
            "26/26 [==============================] - 0s 2ms/step - loss: 0.4045 - accuracy: 0.8293\n",
            "Epoch 258/300\n",
            "26/26 [==============================] - 0s 2ms/step - loss: 0.3869 - accuracy: 0.8305\n",
            "Epoch 259/300\n",
            "26/26 [==============================] - 0s 2ms/step - loss: 0.3797 - accuracy: 0.8378\n",
            "Epoch 260/300\n",
            "26/26 [==============================] - 0s 1ms/step - loss: 0.3700 - accuracy: 0.8451\n",
            "Epoch 261/300\n",
            "26/26 [==============================] - 0s 2ms/step - loss: 0.3791 - accuracy: 0.8366\n",
            "Epoch 262/300\n",
            "26/26 [==============================] - 0s 2ms/step - loss: 0.3843 - accuracy: 0.8341\n",
            "Epoch 263/300\n",
            "26/26 [==============================] - 0s 2ms/step - loss: 0.3724 - accuracy: 0.8451\n",
            "Epoch 264/300\n",
            "26/26 [==============================] - 0s 1ms/step - loss: 0.4010 - accuracy: 0.8256\n",
            "Epoch 265/300\n",
            "26/26 [==============================] - 0s 2ms/step - loss: 0.3749 - accuracy: 0.8415\n",
            "Epoch 266/300\n",
            "26/26 [==============================] - 0s 1ms/step - loss: 0.3779 - accuracy: 0.8402\n",
            "Epoch 267/300\n",
            "26/26 [==============================] - 0s 2ms/step - loss: 0.3717 - accuracy: 0.8463\n",
            "Epoch 268/300\n",
            "26/26 [==============================] - 0s 1ms/step - loss: 0.3749 - accuracy: 0.8439\n",
            "Epoch 269/300\n",
            "26/26 [==============================] - 0s 1ms/step - loss: 0.3886 - accuracy: 0.8366\n",
            "Epoch 270/300\n",
            "26/26 [==============================] - 0s 2ms/step - loss: 0.3733 - accuracy: 0.8390\n",
            "Epoch 271/300\n",
            "26/26 [==============================] - 0s 1ms/step - loss: 0.3759 - accuracy: 0.8439\n",
            "Epoch 272/300\n",
            "26/26 [==============================] - 0s 1ms/step - loss: 0.3766 - accuracy: 0.8402\n",
            "Epoch 273/300\n",
            "26/26 [==============================] - 0s 2ms/step - loss: 0.4085 - accuracy: 0.8232\n",
            "Epoch 274/300\n",
            "26/26 [==============================] - 0s 1ms/step - loss: 0.3857 - accuracy: 0.8427\n",
            "Epoch 275/300\n",
            "26/26 [==============================] - 0s 2ms/step - loss: 0.3691 - accuracy: 0.8598\n",
            "Epoch 276/300\n",
            "26/26 [==============================] - 0s 2ms/step - loss: 0.3728 - accuracy: 0.8402\n",
            "Epoch 277/300\n",
            "26/26 [==============================] - 0s 2ms/step - loss: 0.3854 - accuracy: 0.8256\n",
            "Epoch 278/300\n",
            "26/26 [==============================] - 0s 2ms/step - loss: 0.3685 - accuracy: 0.8512\n",
            "Epoch 279/300\n",
            "26/26 [==============================] - 0s 2ms/step - loss: 0.3753 - accuracy: 0.8402\n",
            "Epoch 280/300\n",
            "26/26 [==============================] - 0s 2ms/step - loss: 0.3739 - accuracy: 0.8366\n",
            "Epoch 281/300\n",
            "26/26 [==============================] - 0s 1ms/step - loss: 0.3732 - accuracy: 0.8537\n",
            "Epoch 282/300\n",
            "26/26 [==============================] - 0s 2ms/step - loss: 0.3782 - accuracy: 0.8415\n",
            "Epoch 283/300\n",
            "26/26 [==============================] - 0s 1ms/step - loss: 0.3762 - accuracy: 0.8524\n",
            "Epoch 284/300\n",
            "26/26 [==============================] - 0s 2ms/step - loss: 0.3684 - accuracy: 0.8537\n",
            "Epoch 285/300\n",
            "26/26 [==============================] - 0s 2ms/step - loss: 0.3770 - accuracy: 0.8354\n",
            "Epoch 286/300\n",
            "26/26 [==============================] - 0s 1ms/step - loss: 0.3784 - accuracy: 0.8415\n",
            "Epoch 287/300\n",
            "26/26 [==============================] - 0s 1ms/step - loss: 0.3772 - accuracy: 0.8427\n",
            "Epoch 288/300\n",
            "26/26 [==============================] - 0s 1ms/step - loss: 0.3720 - accuracy: 0.8476\n",
            "Epoch 289/300\n",
            "26/26 [==============================] - 0s 1ms/step - loss: 0.3775 - accuracy: 0.8341\n",
            "Epoch 290/300\n",
            "26/26 [==============================] - 0s 2ms/step - loss: 0.3686 - accuracy: 0.8561\n",
            "Epoch 291/300\n",
            "26/26 [==============================] - 0s 2ms/step - loss: 0.3717 - accuracy: 0.8488\n",
            "Epoch 292/300\n",
            "26/26 [==============================] - 0s 1ms/step - loss: 0.3864 - accuracy: 0.8439\n",
            "Epoch 293/300\n",
            "26/26 [==============================] - 0s 1ms/step - loss: 0.3752 - accuracy: 0.8402\n",
            "Epoch 294/300\n",
            "26/26 [==============================] - 0s 2ms/step - loss: 0.4173 - accuracy: 0.8171\n",
            "Epoch 295/300\n",
            "26/26 [==============================] - 0s 2ms/step - loss: 0.3918 - accuracy: 0.8317\n",
            "Epoch 296/300\n",
            "26/26 [==============================] - 0s 3ms/step - loss: 0.3751 - accuracy: 0.8476\n",
            "Epoch 297/300\n",
            "26/26 [==============================] - 0s 2ms/step - loss: 0.3730 - accuracy: 0.8500\n",
            "Epoch 298/300\n",
            "26/26 [==============================] - 0s 2ms/step - loss: 0.3961 - accuracy: 0.8317\n",
            "Epoch 299/300\n",
            "26/26 [==============================] - 0s 2ms/step - loss: 0.3744 - accuracy: 0.8451\n",
            "Epoch 300/300\n",
            "26/26 [==============================] - 0s 2ms/step - loss: 0.3878 - accuracy: 0.8317\n"
          ]
        },
        {
          "output_type": "execute_result",
          "data": {
            "text/plain": [
              "<keras.callbacks.History at 0x7f34ef509890>"
            ]
          },
          "metadata": {},
          "execution_count": 149
        }
      ]
    },
    {
      "cell_type": "markdown",
      "source": [
        "##Accuracy Comperision"
      ],
      "metadata": {
        "id": "L30nP3jOvKz8"
      }
    },
    {
      "cell_type": "code",
      "source": [
        "accuracy_scores = {'Logistic Regression':score_lr,'Naive Bayes':score_nb,'SVM':score_svm,'K Nearest Neighbors':score_knn,'Decision Tree':score_dt,'Random Forest':score_rf,'XGBoost':score_xgb}\n",
        "classifiers = list(accuracy_scores.keys())\n",
        "Accuracy = list(accuracy_scores.values())\n",
        "\n",
        "fig = plt.figure(figsize = (15,10))\n",
        "\n",
        "plt.bar(classifiers,Accuracy,color = 'orange', width=0.4)\n",
        "\n",
        "plt.xlabel(\"Classifiers\")\n",
        "plt.ylabel(\"Accuracies of classifiers\")\n",
        "plt.title(\"Accuracy comparision of all classifiers\")\n",
        "plt.show()\n",
        "\n"
      ],
      "metadata": {
        "colab": {
          "base_uri": "https://localhost:8080/",
          "height": 621
        },
        "id": "knt6X74MvQ68",
        "outputId": "7ae38f25-6e3b-4452-9b22-76d09423e323"
      },
      "execution_count": null,
      "outputs": [
        {
          "output_type": "display_data",
          "data": {
            "text/plain": [
              "<Figure size 1080x720 with 1 Axes>"
            ],
            "image/png": "[encoded data removed]"
          },
          "metadata": {
            "needs_background": "light"
          }
        }
      ]
    },
    {
      "cell_type": "markdown",
      "source": [
        "#Prediction Section"
      ],
      "metadata": {
        "id": "RWftXOS8lZH_"
      }
    },
    {
      "cell_type": "markdown",
      "source": [
        "Building a Predictive System"
      ],
      "metadata": {
        "id": "bOyemNaEm4aw"
      }
    },
    {
      "cell_type": "code",
      "source": [
        "input_data = (62,0,0,140,268,0,0,160,0,3.6,0,2,2)\n",
        "\n",
        "#change the input data to a numpy array\n",
        "input_data_as_numpy_array = np.asarray(input_data)\n",
        "\n",
        "#reshape the numpy array as we are predictingg for only on instance\n",
        "input_data_reshaped = input_data_as_numpy_array.reshape(1,-1)\n",
        "prediction_ans = model.predict(input_data_reshaped)\n",
        "print(prediction_ans)\n",
        "\n",
        "if(prediction_ans[0]==0):\n",
        "  print('Tht Person does not have a Heart Disease')\n",
        "else:\n",
        "  print('The Person has Heart Disease')\n",
        "    \n"
      ],
      "metadata": {
        "id": "xTxpAkyDm9S9",
        "colab": {
          "base_uri": "https://localhost:8080/"
        },
        "outputId": "823f5afb-dbe4-444d-9437-8066c0596d61"
      },
      "execution_count": null,
      "outputs": [
        {
          "output_type": "stream",
          "name": "stdout",
          "text": [
            "[[0.04623821]]\n",
            "The Person has Heart Disease\n"
          ]
        }
      ]
    }
  ]
}