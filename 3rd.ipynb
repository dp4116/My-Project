{
  "nbformat": 4,
  "nbformat_minor": 0,
  "metadata": {
    "colab": {
      "name": "Copy of Copy of 2nd draft.ipynb",
      "provenance": [],
      "collapsed_sections": [],
      "include_colab_link": true
    },
    "kernelspec": {
      "name": "python3",
      "display_name": "Python 3"
    },
    "language_info": {
      "name": "python"
    }
  },
  "cells": [
    {
      "cell_type": "markdown",
      "metadata": {
        "id": "view-in-github",
        "colab_type": "text"
      },
      "source": [
        "<a href=\"https://colab.research.google.com/github/dp4116/My-Project/blob/main/3rd.ipynb\" target=\"_parent\"><img src=\"https://colab.research.google.com/assets/colab-badge.svg\" alt=\"Open In Colab\"/></a>"
      ]
    },
    {
      "cell_type": "markdown",
      "source": [
        "Importing the Dependecies"
      ],
      "metadata": {
        "id": "bHzQZYKHdeYq"
      }
    },
    {
      "cell_type": "code",
      "source": [
        "import numpy as np\n",
        "import pandas as pd\n",
        "import matplotlib.pyplot as plt\n",
        "import seaborn as sns\n",
        "from sklearn.metrics import accuracy_score\n",
        "\n",
        "%matplotlib inline\n",
        "\n",
        "import os\n",
        "print(os.listdir())\n",
        "\n",
        "import warnings\n",
        "warnings.filterwarnings('ignore')"
      ],
      "metadata": {
        "id": "oLSC3zeqdnoW",
        "colab": {
          "base_uri": "https://localhost:8080/"
        },
        "outputId": "3938297e-0c52-49e0-8fea-1ebf2265d541"
      },
      "execution_count": null,
      "outputs": [
        {
          "output_type": "stream",
          "name": "stdout",
          "text": [
            "['.config', 'heart.csv', 'sample_data']\n"
          ]
        }
      ]
    },
    {
      "cell_type": "markdown",
      "source": [
        "Data Processing"
      ],
      "metadata": {
        "id": "AITSADDkeMKt"
      }
    },
    {
      "cell_type": "code",
      "source": [
        "dataset = pd.read_csv('/content/heart.csv')"
      ],
      "metadata": {
        "id": "yYXfvFh8eSIj"
      },
      "execution_count": null,
      "outputs": []
    },
    {
      "cell_type": "code",
      "source": [
        "dataset.head()"
      ],
      "metadata": {
        "id": "4vcrTPg7fA2e",
        "colab": {
          "base_uri": "https://localhost:8080/",
          "height": 270
        },
        "outputId": "ff1c6f23-6d8b-41c7-8785-0b315505c584"
      },
      "execution_count": null,
      "outputs": [
        {
          "output_type": "execute_result",
          "data": {
            "text/plain": [
              "   age  sex  cp  trestbps  chol  fbs  restecg  thalach  exang  oldpeak  slope  \\\n",
              "0   52    1   0       125   212    0        1      168      0      1.0      2   \n",
              "1   53    1   0       140   203    1        0      155      1      3.1      0   \n",
              "2   70    1   0       145   174    0        1      125      1      2.6      0   \n",
              "3   61    1   0       148   203    0        1      161      0      0.0      2   \n",
              "4   62    0   0       138   294    1        1      106      0      1.9      1   \n",
              "\n",
              "   ca  thal  target  \n",
              "0   2     3       0  \n",
              "1   0     3       0  \n",
              "2   0     3       0  \n",
              "3   1     3       0  \n",
              "4   3     2       0  "
            ],
            "text/html": [
              "\n",
              "  <div id=\"df-8811459c-376f-418a-a323-c496c9feb29e\">\n",
              "    <div class=\"colab-df-container\">\n",
              "      <div>\n",
              "<style scoped>\n",
              "    .dataframe tbody tr th:only-of-type {\n",
              "        vertical-align: middle;\n",
              "    }\n",
              "\n",
              "    .dataframe tbody tr th {\n",
              "        vertical-align: top;\n",
              "    }\n",
              "\n",
              "    .dataframe thead th {\n",
              "        text-align: right;\n",
              "    }\n",
              "</style>\n",
              "<table border=\"1\" class=\"dataframe\">\n",
              "  <thead>\n",
              "    <tr style=\"text-align: right;\">\n",
              "      <th></th>\n",
              "      <th>age</th>\n",
              "      <th>sex</th>\n",
              "      <th>cp</th>\n",
              "      <th>trestbps</th>\n",
              "      <th>chol</th>\n",
              "      <th>fbs</th>\n",
              "      <th>restecg</th>\n",
              "      <th>thalach</th>\n",
              "      <th>exang</th>\n",
              "      <th>oldpeak</th>\n",
              "      <th>slope</th>\n",
              "      <th>ca</th>\n",
              "      <th>thal</th>\n",
              "      <th>target</th>\n",
              "    </tr>\n",
              "  </thead>\n",
              "  <tbody>\n",
              "    <tr>\n",
              "      <th>0</th>\n",
              "      <td>52</td>\n",
              "      <td>1</td>\n",
              "      <td>0</td>\n",
              "      <td>125</td>\n",
              "      <td>212</td>\n",
              "      <td>0</td>\n",
              "      <td>1</td>\n",
              "      <td>168</td>\n",
              "      <td>0</td>\n",
              "      <td>1.0</td>\n",
              "      <td>2</td>\n",
              "      <td>2</td>\n",
              "      <td>3</td>\n",
              "      <td>0</td>\n",
              "    </tr>\n",
              "    <tr>\n",
              "      <th>1</th>\n",
              "      <td>53</td>\n",
              "      <td>1</td>\n",
              "      <td>0</td>\n",
              "      <td>140</td>\n",
              "      <td>203</td>\n",
              "      <td>1</td>\n",
              "      <td>0</td>\n",
              "      <td>155</td>\n",
              "      <td>1</td>\n",
              "      <td>3.1</td>\n",
              "      <td>0</td>\n",
              "      <td>0</td>\n",
              "      <td>3</td>\n",
              "      <td>0</td>\n",
              "    </tr>\n",
              "    <tr>\n",
              "      <th>2</th>\n",
              "      <td>70</td>\n",
              "      <td>1</td>\n",
              "      <td>0</td>\n",
              "      <td>145</td>\n",
              "      <td>174</td>\n",
              "      <td>0</td>\n",
              "      <td>1</td>\n",
              "      <td>125</td>\n",
              "      <td>1</td>\n",
              "      <td>2.6</td>\n",
              "      <td>0</td>\n",
              "      <td>0</td>\n",
              "      <td>3</td>\n",
              "      <td>0</td>\n",
              "    </tr>\n",
              "    <tr>\n",
              "      <th>3</th>\n",
              "      <td>61</td>\n",
              "      <td>1</td>\n",
              "      <td>0</td>\n",
              "      <td>148</td>\n",
              "      <td>203</td>\n",
              "      <td>0</td>\n",
              "      <td>1</td>\n",
              "      <td>161</td>\n",
              "      <td>0</td>\n",
              "      <td>0.0</td>\n",
              "      <td>2</td>\n",
              "      <td>1</td>\n",
              "      <td>3</td>\n",
              "      <td>0</td>\n",
              "    </tr>\n",
              "    <tr>\n",
              "      <th>4</th>\n",
              "      <td>62</td>\n",
              "      <td>0</td>\n",
              "      <td>0</td>\n",
              "      <td>138</td>\n",
              "      <td>294</td>\n",
              "      <td>1</td>\n",
              "      <td>1</td>\n",
              "      <td>106</td>\n",
              "      <td>0</td>\n",
              "      <td>1.9</td>\n",
              "      <td>1</td>\n",
              "      <td>3</td>\n",
              "      <td>2</td>\n",
              "      <td>0</td>\n",
              "    </tr>\n",
              "  </tbody>\n",
              "</table>\n",
              "</div>\n",
              "      <button class=\"colab-df-convert\" onclick=\"convertToInteractive('df-8811459c-376f-418a-a323-c496c9feb29e')\"\n",
              "              title=\"Convert this dataframe to an interactive table.\"\n",
              "              style=\"display:none;\">\n",
              "        \n",
              "  <svg xmlns=\"http://www.w3.org/2000/svg\" height=\"24px\"viewBox=\"0 0 24 24\"\n",
              "       width=\"24px\">\n",
              "    <path d=\"M0 0h24v24H0V0z\" fill=\"none\"/>\n",
              "    <path d=\"M18.56 5.44l.94 2.06.94-2.06 2.06-.94-2.06-.94-.94-2.06-.94 2.06-2.06.94zm-11 1L8.5 8.5l.94-2.06 2.06-.94-2.06-.94L8.5 2.5l-.94 2.06-2.06.94zm10 10l.94 2.06.94-2.06 2.06-.94-2.06-.94-.94-2.06-.94 2.06-2.06.94z\"/><path d=\"M17.41 7.96l-1.37-1.37c-.4-.4-.92-.59-1.43-.59-.52 0-1.04.2-1.43.59L10.3 9.45l-7.72 7.72c-.78.78-.78 2.05 0 2.83L4 21.41c.39.39.9.59 1.41.59.51 0 1.02-.2 1.41-.59l7.78-7.78 2.81-2.81c.8-.78.8-2.07 0-2.86zM5.41 20L4 18.59l7.72-7.72 1.47 1.35L5.41 20z\"/>\n",
              "  </svg>\n",
              "      </button>\n",
              "      \n",
              "  <style>\n",
              "    .colab-df-container {\n",
              "      display:flex;\n",
              "      flex-wrap:wrap;\n",
              "      gap: 12px;\n",
              "    }\n",
              "\n",
              "    .colab-df-convert {\n",
              "      background-color: #E8F0FE;\n",
              "      border: none;\n",
              "      border-radius: 50%;\n",
              "      cursor: pointer;\n",
              "      display: none;\n",
              "      fill: #1967D2;\n",
              "      height: 32px;\n",
              "      padding: 0 0 0 0;\n",
              "      width: 32px;\n",
              "    }\n",
              "\n",
              "    .colab-df-convert:hover {\n",
              "      background-color: #E2EBFA;\n",
              "      box-shadow: 0px 1px 2px rgba(60, 64, 67, 0.3), 0px 1px 3px 1px rgba(60, 64, 67, 0.15);\n",
              "      fill: #174EA6;\n",
              "    }\n",
              "\n",
              "    [theme=dark] .colab-df-convert {\n",
              "      background-color: #3B4455;\n",
              "      fill: #D2E3FC;\n",
              "    }\n",
              "\n",
              "    [theme=dark] .colab-df-convert:hover {\n",
              "      background-color: #434B5C;\n",
              "      box-shadow: 0px 1px 3px 1px rgba(0, 0, 0, 0.15);\n",
              "      filter: drop-shadow(0px 1px 2px rgba(0, 0, 0, 0.3));\n",
              "      fill: #FFFFFF;\n",
              "    }\n",
              "  </style>\n",
              "\n",
              "      <script>\n",
              "        const buttonEl =\n",
              "          document.querySelector('#df-8811459c-376f-418a-a323-c496c9feb29e button.colab-df-convert');\n",
              "        buttonEl.style.display =\n",
              "          google.colab.kernel.accessAllowed ? 'block' : 'none';\n",
              "\n",
              "        async function convertToInteractive(key) {\n",
              "          const element = document.querySelector('#df-8811459c-376f-418a-a323-c496c9feb29e');\n",
              "          const dataTable =\n",
              "            await google.colab.kernel.invokeFunction('convertToInteractive',\n",
              "                                                     [key], {});\n",
              "          if (!dataTable) return;\n",
              "\n",
              "          const docLinkHtml = 'Like what you see? Visit the ' +\n",
              "            '<a target=\"_blank\" href=https://colab.research.google.com/notebooks/data_table.ipynb>data table notebook</a>'\n",
              "            + ' to learn more about interactive tables.';\n",
              "          element.innerHTML = '';\n",
              "          dataTable['output_type'] = 'display_data';\n",
              "          await google.colab.output.renderOutput(dataTable, element);\n",
              "          const docLink = document.createElement('div');\n",
              "          docLink.innerHTML = docLinkHtml;\n",
              "          element.appendChild(docLink);\n",
              "        }\n",
              "      </script>\n",
              "    </div>\n",
              "  </div>\n",
              "  "
            ]
          },
          "metadata": {},
          "execution_count": 3
        }
      ]
    },
    {
      "cell_type": "code",
      "source": [
        "dataset.shape"
      ],
      "metadata": {
        "id": "gUAGNlFSfHIz",
        "colab": {
          "base_uri": "https://localhost:8080/"
        },
        "outputId": "c305269a-b954-46d4-8ebc-88abdcd9a691"
      },
      "execution_count": null,
      "outputs": [
        {
          "output_type": "execute_result",
          "data": {
            "text/plain": [
              "(1025, 14)"
            ]
          },
          "metadata": {},
          "execution_count": 4
        }
      ]
    },
    {
      "cell_type": "code",
      "metadata": {
        "id": "7_xTcw1Sr6aJ",
        "colab": {
          "base_uri": "https://localhost:8080/"
        },
        "outputId": "7a4a3f1b-a713-457e-ac9c-84f61707f184"
      },
      "source": [
        "# getting some info about the data\n",
        "dataset.info()"
      ],
      "execution_count": null,
      "outputs": [
        {
          "output_type": "stream",
          "name": "stdout",
          "text": [
            "<class 'pandas.core.frame.DataFrame'>\n",
            "RangeIndex: 1025 entries, 0 to 1024\n",
            "Data columns (total 14 columns):\n",
            " #   Column    Non-Null Count  Dtype  \n",
            "---  ------    --------------  -----  \n",
            " 0   age       1025 non-null   int64  \n",
            " 1   sex       1025 non-null   int64  \n",
            " 2   cp        1025 non-null   int64  \n",
            " 3   trestbps  1025 non-null   int64  \n",
            " 4   chol      1025 non-null   int64  \n",
            " 5   fbs       1025 non-null   int64  \n",
            " 6   restecg   1025 non-null   int64  \n",
            " 7   thalach   1025 non-null   int64  \n",
            " 8   exang     1025 non-null   int64  \n",
            " 9   oldpeak   1025 non-null   float64\n",
            " 10  slope     1025 non-null   int64  \n",
            " 11  ca        1025 non-null   int64  \n",
            " 12  thal      1025 non-null   int64  \n",
            " 13  target    1025 non-null   int64  \n",
            "dtypes: float64(1), int64(13)\n",
            "memory usage: 112.2 KB\n"
          ]
        }
      ]
    },
    {
      "cell_type": "code",
      "source": [
        "#checking for missing values in data set\n",
        "dataset.isnull().sum()"
      ],
      "metadata": {
        "id": "v_R8WJFRfqoF",
        "colab": {
          "base_uri": "https://localhost:8080/"
        },
        "outputId": "f4da50d6-4a99-4527-804d-ac3bd71bced4"
      },
      "execution_count": null,
      "outputs": [
        {
          "output_type": "execute_result",
          "data": {
            "text/plain": [
              "age         0\n",
              "sex         0\n",
              "cp          0\n",
              "trestbps    0\n",
              "chol        0\n",
              "fbs         0\n",
              "restecg     0\n",
              "thalach     0\n",
              "exang       0\n",
              "oldpeak     0\n",
              "slope       0\n",
              "ca          0\n",
              "thal        0\n",
              "target      0\n",
              "dtype: int64"
            ]
          },
          "metadata": {},
          "execution_count": 6
        }
      ]
    },
    {
      "cell_type": "code",
      "source": [
        "#statistical measures about the data\n",
        "dataset.describe()"
      ],
      "metadata": {
        "id": "ZUdHTRZpfspA",
        "colab": {
          "base_uri": "https://localhost:8080/",
          "height": 364
        },
        "outputId": "22d3784e-3ed8-41e3-fe1c-d2551ec64c5d"
      },
      "execution_count": null,
      "outputs": [
        {
          "output_type": "execute_result",
          "data": {
            "text/plain": [
              "               age          sex           cp     trestbps        chol  \\\n",
              "count  1025.000000  1025.000000  1025.000000  1025.000000  1025.00000   \n",
              "mean     54.434146     0.695610     0.942439   131.611707   246.00000   \n",
              "std       9.072290     0.460373     1.029641    17.516718    51.59251   \n",
              "min      29.000000     0.000000     0.000000    94.000000   126.00000   \n",
              "25%      48.000000     0.000000     0.000000   120.000000   211.00000   \n",
              "50%      56.000000     1.000000     1.000000   130.000000   240.00000   \n",
              "75%      61.000000     1.000000     2.000000   140.000000   275.00000   \n",
              "max      77.000000     1.000000     3.000000   200.000000   564.00000   \n",
              "\n",
              "               fbs      restecg      thalach        exang      oldpeak  \\\n",
              "count  1025.000000  1025.000000  1025.000000  1025.000000  1025.000000   \n",
              "mean      0.149268     0.529756   149.114146     0.336585     1.071512   \n",
              "std       0.356527     0.527878    23.005724     0.472772     1.175053   \n",
              "min       0.000000     0.000000    71.000000     0.000000     0.000000   \n",
              "25%       0.000000     0.000000   132.000000     0.000000     0.000000   \n",
              "50%       0.000000     1.000000   152.000000     0.000000     0.800000   \n",
              "75%       0.000000     1.000000   166.000000     1.000000     1.800000   \n",
              "max       1.000000     2.000000   202.000000     1.000000     6.200000   \n",
              "\n",
              "             slope           ca         thal       target  \n",
              "count  1025.000000  1025.000000  1025.000000  1025.000000  \n",
              "mean      1.385366     0.754146     2.323902     0.513171  \n",
              "std       0.617755     1.030798     0.620660     0.500070  \n",
              "min       0.000000     0.000000     0.000000     0.000000  \n",
              "25%       1.000000     0.000000     2.000000     0.000000  \n",
              "50%       1.000000     0.000000     2.000000     1.000000  \n",
              "75%       2.000000     1.000000     3.000000     1.000000  \n",
              "max       2.000000     4.000000     3.000000     1.000000  "
            ],
            "text/html": [
              "\n",
              "  <div id=\"df-a5fc674e-621d-470c-b8a0-bd3575afc6fc\">\n",
              "    <div class=\"colab-df-container\">\n",
              "      <div>\n",
              "<style scoped>\n",
              "    .dataframe tbody tr th:only-of-type {\n",
              "        vertical-align: middle;\n",
              "    }\n",
              "\n",
              "    .dataframe tbody tr th {\n",
              "        vertical-align: top;\n",
              "    }\n",
              "\n",
              "    .dataframe thead th {\n",
              "        text-align: right;\n",
              "    }\n",
              "</style>\n",
              "<table border=\"1\" class=\"dataframe\">\n",
              "  <thead>\n",
              "    <tr style=\"text-align: right;\">\n",
              "      <th></th>\n",
              "      <th>age</th>\n",
              "      <th>sex</th>\n",
              "      <th>cp</th>\n",
              "      <th>trestbps</th>\n",
              "      <th>chol</th>\n",
              "      <th>fbs</th>\n",
              "      <th>restecg</th>\n",
              "      <th>thalach</th>\n",
              "      <th>exang</th>\n",
              "      <th>oldpeak</th>\n",
              "      <th>slope</th>\n",
              "      <th>ca</th>\n",
              "      <th>thal</th>\n",
              "      <th>target</th>\n",
              "    </tr>\n",
              "  </thead>\n",
              "  <tbody>\n",
              "    <tr>\n",
              "      <th>count</th>\n",
              "      <td>1025.000000</td>\n",
              "      <td>1025.000000</td>\n",
              "      <td>1025.000000</td>\n",
              "      <td>1025.000000</td>\n",
              "      <td>1025.00000</td>\n",
              "      <td>1025.000000</td>\n",
              "      <td>1025.000000</td>\n",
              "      <td>1025.000000</td>\n",
              "      <td>1025.000000</td>\n",
              "      <td>1025.000000</td>\n",
              "      <td>1025.000000</td>\n",
              "      <td>1025.000000</td>\n",
              "      <td>1025.000000</td>\n",
              "      <td>1025.000000</td>\n",
              "    </tr>\n",
              "    <tr>\n",
              "      <th>mean</th>\n",
              "      <td>54.434146</td>\n",
              "      <td>0.695610</td>\n",
              "      <td>0.942439</td>\n",
              "      <td>131.611707</td>\n",
              "      <td>246.00000</td>\n",
              "      <td>0.149268</td>\n",
              "      <td>0.529756</td>\n",
              "      <td>149.114146</td>\n",
              "      <td>0.336585</td>\n",
              "      <td>1.071512</td>\n",
              "      <td>1.385366</td>\n",
              "      <td>0.754146</td>\n",
              "      <td>2.323902</td>\n",
              "      <td>0.513171</td>\n",
              "    </tr>\n",
              "    <tr>\n",
              "      <th>std</th>\n",
              "      <td>9.072290</td>\n",
              "      <td>0.460373</td>\n",
              "      <td>1.029641</td>\n",
              "      <td>17.516718</td>\n",
              "      <td>51.59251</td>\n",
              "      <td>0.356527</td>\n",
              "      <td>0.527878</td>\n",
              "      <td>23.005724</td>\n",
              "      <td>0.472772</td>\n",
              "      <td>1.175053</td>\n",
              "      <td>0.617755</td>\n",
              "      <td>1.030798</td>\n",
              "      <td>0.620660</td>\n",
              "      <td>0.500070</td>\n",
              "    </tr>\n",
              "    <tr>\n",
              "      <th>min</th>\n",
              "      <td>29.000000</td>\n",
              "      <td>0.000000</td>\n",
              "      <td>0.000000</td>\n",
              "      <td>94.000000</td>\n",
              "      <td>126.00000</td>\n",
              "      <td>0.000000</td>\n",
              "      <td>0.000000</td>\n",
              "      <td>71.000000</td>\n",
              "      <td>0.000000</td>\n",
              "      <td>0.000000</td>\n",
              "      <td>0.000000</td>\n",
              "      <td>0.000000</td>\n",
              "      <td>0.000000</td>\n",
              "      <td>0.000000</td>\n",
              "    </tr>\n",
              "    <tr>\n",
              "      <th>25%</th>\n",
              "      <td>48.000000</td>\n",
              "      <td>0.000000</td>\n",
              "      <td>0.000000</td>\n",
              "      <td>120.000000</td>\n",
              "      <td>211.00000</td>\n",
              "      <td>0.000000</td>\n",
              "      <td>0.000000</td>\n",
              "      <td>132.000000</td>\n",
              "      <td>0.000000</td>\n",
              "      <td>0.000000</td>\n",
              "      <td>1.000000</td>\n",
              "      <td>0.000000</td>\n",
              "      <td>2.000000</td>\n",
              "      <td>0.000000</td>\n",
              "    </tr>\n",
              "    <tr>\n",
              "      <th>50%</th>\n",
              "      <td>56.000000</td>\n",
              "      <td>1.000000</td>\n",
              "      <td>1.000000</td>\n",
              "      <td>130.000000</td>\n",
              "      <td>240.00000</td>\n",
              "      <td>0.000000</td>\n",
              "      <td>1.000000</td>\n",
              "      <td>152.000000</td>\n",
              "      <td>0.000000</td>\n",
              "      <td>0.800000</td>\n",
              "      <td>1.000000</td>\n",
              "      <td>0.000000</td>\n",
              "      <td>2.000000</td>\n",
              "      <td>1.000000</td>\n",
              "    </tr>\n",
              "    <tr>\n",
              "      <th>75%</th>\n",
              "      <td>61.000000</td>\n",
              "      <td>1.000000</td>\n",
              "      <td>2.000000</td>\n",
              "      <td>140.000000</td>\n",
              "      <td>275.00000</td>\n",
              "      <td>0.000000</td>\n",
              "      <td>1.000000</td>\n",
              "      <td>166.000000</td>\n",
              "      <td>1.000000</td>\n",
              "      <td>1.800000</td>\n",
              "      <td>2.000000</td>\n",
              "      <td>1.000000</td>\n",
              "      <td>3.000000</td>\n",
              "      <td>1.000000</td>\n",
              "    </tr>\n",
              "    <tr>\n",
              "      <th>max</th>\n",
              "      <td>77.000000</td>\n",
              "      <td>1.000000</td>\n",
              "      <td>3.000000</td>\n",
              "      <td>200.000000</td>\n",
              "      <td>564.00000</td>\n",
              "      <td>1.000000</td>\n",
              "      <td>2.000000</td>\n",
              "      <td>202.000000</td>\n",
              "      <td>1.000000</td>\n",
              "      <td>6.200000</td>\n",
              "      <td>2.000000</td>\n",
              "      <td>4.000000</td>\n",
              "      <td>3.000000</td>\n",
              "      <td>1.000000</td>\n",
              "    </tr>\n",
              "  </tbody>\n",
              "</table>\n",
              "</div>\n",
              "      <button class=\"colab-df-convert\" onclick=\"convertToInteractive('df-a5fc674e-621d-470c-b8a0-bd3575afc6fc')\"\n",
              "              title=\"Convert this dataframe to an interactive table.\"\n",
              "              style=\"display:none;\">\n",
              "        \n",
              "  <svg xmlns=\"http://www.w3.org/2000/svg\" height=\"24px\"viewBox=\"0 0 24 24\"\n",
              "       width=\"24px\">\n",
              "    <path d=\"M0 0h24v24H0V0z\" fill=\"none\"/>\n",
              "    <path d=\"M18.56 5.44l.94 2.06.94-2.06 2.06-.94-2.06-.94-.94-2.06-.94 2.06-2.06.94zm-11 1L8.5 8.5l.94-2.06 2.06-.94-2.06-.94L8.5 2.5l-.94 2.06-2.06.94zm10 10l.94 2.06.94-2.06 2.06-.94-2.06-.94-.94-2.06-.94 2.06-2.06.94z\"/><path d=\"M17.41 7.96l-1.37-1.37c-.4-.4-.92-.59-1.43-.59-.52 0-1.04.2-1.43.59L10.3 9.45l-7.72 7.72c-.78.78-.78 2.05 0 2.83L4 21.41c.39.39.9.59 1.41.59.51 0 1.02-.2 1.41-.59l7.78-7.78 2.81-2.81c.8-.78.8-2.07 0-2.86zM5.41 20L4 18.59l7.72-7.72 1.47 1.35L5.41 20z\"/>\n",
              "  </svg>\n",
              "      </button>\n",
              "      \n",
              "  <style>\n",
              "    .colab-df-container {\n",
              "      display:flex;\n",
              "      flex-wrap:wrap;\n",
              "      gap: 12px;\n",
              "    }\n",
              "\n",
              "    .colab-df-convert {\n",
              "      background-color: #E8F0FE;\n",
              "      border: none;\n",
              "      border-radius: 50%;\n",
              "      cursor: pointer;\n",
              "      display: none;\n",
              "      fill: #1967D2;\n",
              "      height: 32px;\n",
              "      padding: 0 0 0 0;\n",
              "      width: 32px;\n",
              "    }\n",
              "\n",
              "    .colab-df-convert:hover {\n",
              "      background-color: #E2EBFA;\n",
              "      box-shadow: 0px 1px 2px rgba(60, 64, 67, 0.3), 0px 1px 3px 1px rgba(60, 64, 67, 0.15);\n",
              "      fill: #174EA6;\n",
              "    }\n",
              "\n",
              "    [theme=dark] .colab-df-convert {\n",
              "      background-color: #3B4455;\n",
              "      fill: #D2E3FC;\n",
              "    }\n",
              "\n",
              "    [theme=dark] .colab-df-convert:hover {\n",
              "      background-color: #434B5C;\n",
              "      box-shadow: 0px 1px 3px 1px rgba(0, 0, 0, 0.15);\n",
              "      filter: drop-shadow(0px 1px 2px rgba(0, 0, 0, 0.3));\n",
              "      fill: #FFFFFF;\n",
              "    }\n",
              "  </style>\n",
              "\n",
              "      <script>\n",
              "        const buttonEl =\n",
              "          document.querySelector('#df-a5fc674e-621d-470c-b8a0-bd3575afc6fc button.colab-df-convert');\n",
              "        buttonEl.style.display =\n",
              "          google.colab.kernel.accessAllowed ? 'block' : 'none';\n",
              "\n",
              "        async function convertToInteractive(key) {\n",
              "          const element = document.querySelector('#df-a5fc674e-621d-470c-b8a0-bd3575afc6fc');\n",
              "          const dataTable =\n",
              "            await google.colab.kernel.invokeFunction('convertToInteractive',\n",
              "                                                     [key], {});\n",
              "          if (!dataTable) return;\n",
              "\n",
              "          const docLinkHtml = 'Like what you see? Visit the ' +\n",
              "            '<a target=\"_blank\" href=https://colab.research.google.com/notebooks/data_table.ipynb>data table notebook</a>'\n",
              "            + ' to learn more about interactive tables.';\n",
              "          element.innerHTML = '';\n",
              "          dataTable['output_type'] = 'display_data';\n",
              "          await google.colab.output.renderOutput(dataTable, element);\n",
              "          const docLink = document.createElement('div');\n",
              "          docLink.innerHTML = docLinkHtml;\n",
              "          element.appendChild(docLink);\n",
              "        }\n",
              "      </script>\n",
              "    </div>\n",
              "  </div>\n",
              "  "
            ]
          },
          "metadata": {},
          "execution_count": 7
        }
      ]
    },
    {
      "cell_type": "code",
      "source": [
        "print(dataset.corr()[\"target\"].abs().sort_values(ascending=False))"
      ],
      "metadata": {
        "colab": {
          "base_uri": "https://localhost:8080/"
        },
        "id": "mn5zxFfnd66M",
        "outputId": "ebad7ee9-9780-495b-d708-da8c15091b66"
      },
      "execution_count": null,
      "outputs": [
        {
          "output_type": "stream",
          "name": "stdout",
          "text": [
            "target      1.000000\n",
            "oldpeak     0.438441\n",
            "exang       0.438029\n",
            "cp          0.434854\n",
            "thalach     0.422895\n",
            "ca          0.382085\n",
            "slope       0.345512\n",
            "thal        0.337838\n",
            "sex         0.279501\n",
            "age         0.229324\n",
            "trestbps    0.138772\n",
            "restecg     0.134468\n",
            "chol        0.099966\n",
            "fbs         0.041164\n",
            "Name: target, dtype: float64\n"
          ]
        }
      ]
    },
    {
      "cell_type": "markdown",
      "source": [
        "Analysing Target feature"
      ],
      "metadata": {
        "id": "GLtxNpwDG8x-"
      }
    },
    {
      "cell_type": "code",
      "source": [
        "ax = sns.countplot(dataset[\"target\"],palette =\"cubehelix\" )\n",
        "target_temp = dataset.target.value_counts()\n",
        "print(target_temp)"
      ],
      "metadata": {
        "colab": {
          "base_uri": "https://localhost:8080/",
          "height": 331
        },
        "id": "NbLw6Kg5eG_I",
        "outputId": "b09fc4b1-d2a7-4ac1-9f34-32f6a84a9d23"
      },
      "execution_count": null,
      "outputs": [
        {
          "output_type": "stream",
          "name": "stdout",
          "text": [
            "1    526\n",
            "0    499\n",
            "Name: target, dtype: int64\n"
          ]
        },
        {
          "output_type": "display_data",
          "data": {
            "text/plain": [
              "<Figure size 432x288 with 1 Axes>"
            ],
            "image/png": "[encoded data removed]"
          },
          "metadata": {
            "needs_background": "light"
          }
        }
      ]
    },
    {
      "cell_type": "code",
      "source": [
        "print(\"Percentage of patients without heart problems: \"+str(round(target_temp[0]*100/303,2)))\n",
        "print(\"Percentage of patients with heart problems: \"+str(round(target_temp[1]*100/303,2)))"
      ],
      "metadata": {
        "colab": {
          "base_uri": "https://localhost:8080/"
        },
        "id": "6mvEWqoIeUuy",
        "outputId": "db90c522-cf66-405c-8717-2e12cd651d28"
      },
      "execution_count": null,
      "outputs": [
        {
          "output_type": "stream",
          "name": "stdout",
          "text": [
            "Percentage of patients without heart problems: 164.69\n",
            "Percentage of patients with heart problems: 173.6\n"
          ]
        }
      ]
    },
    {
      "cell_type": "markdown",
      "source": [
        "Analysing Sex feature"
      ],
      "metadata": {
        "id": "R29hpFFaHPF-"
      }
    },
    {
      "cell_type": "code",
      "source": [
        "dataset[\"sex\"].unique()"
      ],
      "metadata": {
        "colab": {
          "base_uri": "https://localhost:8080/"
        },
        "id": "6rI0ArdkeWao",
        "outputId": "8a68f2d9-7c64-440a-b6dd-d16e62abccc8"
      },
      "execution_count": null,
      "outputs": [
        {
          "output_type": "execute_result",
          "data": {
            "text/plain": [
              "array([1, 0])"
            ]
          },
          "metadata": {},
          "execution_count": 12
        }
      ]
    },
    {
      "cell_type": "code",
      "source": [
        "sns.barplot(dataset[\"sex\"],dataset[\"target\"])"
      ],
      "metadata": {
        "colab": {
          "base_uri": "https://localhost:8080/",
          "height": 298
        },
        "id": "s2h56OzCelaf",
        "outputId": "c37abdbe-5977-4c01-a26d-7ad1b1c9268c"
      },
      "execution_count": null,
      "outputs": [
        {
          "output_type": "execute_result",
          "data": {
            "text/plain": [
              "<matplotlib.axes._subplots.AxesSubplot at 0x7fbb26a27050>"
            ]
          },
          "metadata": {},
          "execution_count": 13
        },
        {
          "output_type": "display_data",
          "data": {
            "text/plain": [
              "<Figure size 432x288 with 1 Axes>"
            ],
            "image/png": "[encoded data removed]"
          },
          "metadata": {
            "needs_background": "light"
          }
        }
      ]
    },
    {
      "cell_type": "markdown",
      "source": [
        "Analysing Chest Pain feature"
      ],
      "metadata": {
        "id": "7uEXOwGaHplJ"
      }
    },
    {
      "cell_type": "code",
      "source": [
        "dataset[\"cp\"].unique()"
      ],
      "metadata": {
        "id": "tQU6i3iLw-T3",
        "colab": {
          "base_uri": "https://localhost:8080/"
        },
        "outputId": "5f73f1e9-bed4-4581-8356-b4c9ee0cea47"
      },
      "execution_count": null,
      "outputs": [
        {
          "output_type": "execute_result",
          "data": {
            "text/plain": [
              "array([0, 1, 2, 3])"
            ]
          },
          "metadata": {},
          "execution_count": 14
        }
      ]
    },
    {
      "cell_type": "code",
      "source": [
        "sns.barplot(dataset[\"cp\"],dataset[\"target\"])"
      ],
      "metadata": {
        "colab": {
          "base_uri": "https://localhost:8080/",
          "height": 296
        },
        "id": "eASVKXZgGvUN",
        "outputId": "c87ec9ce-3bba-4b34-c2f4-bfe19016578c"
      },
      "execution_count": null,
      "outputs": [
        {
          "output_type": "execute_result",
          "data": {
            "text/plain": [
              "<matplotlib.axes._subplots.AxesSubplot at 0x7fbb26a4b6d0>"
            ]
          },
          "metadata": {},
          "execution_count": 15
        },
        {
          "output_type": "display_data",
          "data": {
            "text/plain": [
              "<Figure size 432x288 with 1 Axes>"
            ],
            "image/png": "[encoded data removed]"
          },
          "metadata": {
            "needs_background": "light"
          }
        }
      ]
    },
    {
      "cell_type": "markdown",
      "source": [
        "Analysing the FBS feature "
      ],
      "metadata": {
        "id": "O9rBmkrwH3DI"
      }
    },
    {
      "cell_type": "code",
      "source": [
        "dataset[\"fbs\"].describe()"
      ],
      "metadata": {
        "colab": {
          "base_uri": "https://localhost:8080/"
        },
        "id": "bUL1vY5gH-mz",
        "outputId": "b4db89a7-c7be-4516-b0c4-16d195997d7f"
      },
      "execution_count": null,
      "outputs": [
        {
          "output_type": "execute_result",
          "data": {
            "text/plain": [
              "count    1025.000000\n",
              "mean        0.149268\n",
              "std         0.356527\n",
              "min         0.000000\n",
              "25%         0.000000\n",
              "50%         0.000000\n",
              "75%         0.000000\n",
              "max         1.000000\n",
              "Name: fbs, dtype: float64"
            ]
          },
          "metadata": {},
          "execution_count": 16
        }
      ]
    },
    {
      "cell_type": "code",
      "source": [
        "sns.barplot(dataset[\"fbs\"],dataset[\"target\"])"
      ],
      "metadata": {
        "colab": {
          "base_uri": "https://localhost:8080/",
          "height": 296
        },
        "id": "ZTTA2JWCIEcs",
        "outputId": "aad1e90d-517a-4cc0-be63-4db00aae17f6"
      },
      "execution_count": null,
      "outputs": [
        {
          "output_type": "execute_result",
          "data": {
            "text/plain": [
              "<matplotlib.axes._subplots.AxesSubplot at 0x7fbb25126cd0>"
            ]
          },
          "metadata": {},
          "execution_count": 17
        },
        {
          "output_type": "display_data",
          "data": {
            "text/plain": [
              "<Figure size 432x288 with 1 Axes>"
            ],
            "image/png": "[encoded data removed]"
          },
          "metadata": {
            "needs_background": "light"
          }
        }
      ]
    },
    {
      "cell_type": "markdown",
      "source": [
        "Analysing the restecg feature"
      ],
      "metadata": {
        "id": "Eu5Hs1PvIRYH"
      }
    },
    {
      "cell_type": "code",
      "source": [
        "dataset[\"restecg\"].unique()"
      ],
      "metadata": {
        "colab": {
          "base_uri": "https://localhost:8080/"
        },
        "id": "iH1WH3FIIQ9t",
        "outputId": "546fa7c0-efa5-409b-ef7c-4c6d8ef3fd74"
      },
      "execution_count": null,
      "outputs": [
        {
          "output_type": "execute_result",
          "data": {
            "text/plain": [
              "array([1, 0, 2])"
            ]
          },
          "metadata": {},
          "execution_count": 18
        }
      ]
    },
    {
      "cell_type": "code",
      "source": [
        "sns.barplot(dataset[\"restecg\"],dataset[\"target\"])"
      ],
      "metadata": {
        "colab": {
          "base_uri": "https://localhost:8080/",
          "height": 296
        },
        "id": "3VjTwg-tIf3X",
        "outputId": "cda2312f-9518-458a-eedf-76a590dc3d6e"
      },
      "execution_count": null,
      "outputs": [
        {
          "output_type": "execute_result",
          "data": {
            "text/plain": [
              "<matplotlib.axes._subplots.AxesSubplot at 0x7fbb25085410>"
            ]
          },
          "metadata": {},
          "execution_count": 19
        },
        {
          "output_type": "display_data",
          "data": {
            "text/plain": [
              "<Figure size 432x288 with 1 Axes>"
            ],
            "image/png": "[encoded data removed]"
          },
          "metadata": {
            "needs_background": "light"
          }
        }
      ]
    },
    {
      "cell_type": "markdown",
      "source": [
        "Analysing the 'exang' feature"
      ],
      "metadata": {
        "id": "BlzIDkuRIpVI"
      }
    },
    {
      "cell_type": "code",
      "source": [
        "dataset[\"exang\"].unique()"
      ],
      "metadata": {
        "colab": {
          "base_uri": "https://localhost:8080/"
        },
        "id": "7GeA7H04Iqhw",
        "outputId": "ea009082-76c4-4efd-eaab-6738339dad44"
      },
      "execution_count": null,
      "outputs": [
        {
          "output_type": "execute_result",
          "data": {
            "text/plain": [
              "array([0, 1])"
            ]
          },
          "metadata": {},
          "execution_count": 20
        }
      ]
    },
    {
      "cell_type": "code",
      "source": [
        "sns.barplot(dataset[\"exang\"],dataset[\"target\"])"
      ],
      "metadata": {
        "colab": {
          "base_uri": "https://localhost:8080/",
          "height": 296
        },
        "id": "lNM1pTsdIs42",
        "outputId": "a1166deb-1d48-4d40-a954-9cd530f586a8"
      },
      "execution_count": null,
      "outputs": [
        {
          "output_type": "execute_result",
          "data": {
            "text/plain": [
              "<matplotlib.axes._subplots.AxesSubplot at 0x7fbb24ff0a90>"
            ]
          },
          "metadata": {},
          "execution_count": 21
        },
        {
          "output_type": "display_data",
          "data": {
            "text/plain": [
              "<Figure size 432x288 with 1 Axes>"
            ],
            "image/png": "[encoded data removed]"
          },
          "metadata": {
            "needs_background": "light"
          }
        }
      ]
    },
    {
      "cell_type": "markdown",
      "source": [
        "Analysing the Slope feature"
      ],
      "metadata": {
        "id": "EjsiWQ5_IxlB"
      }
    },
    {
      "cell_type": "code",
      "source": [
        "dataset[\"slope\"].unique()"
      ],
      "metadata": {
        "colab": {
          "base_uri": "https://localhost:8080/"
        },
        "id": "TyTRzmC6I0N2",
        "outputId": "bdf33369-009e-4a92-b70b-9d0aff49fc7e"
      },
      "execution_count": null,
      "outputs": [
        {
          "output_type": "execute_result",
          "data": {
            "text/plain": [
              "array([2, 0, 1])"
            ]
          },
          "metadata": {},
          "execution_count": 22
        }
      ]
    },
    {
      "cell_type": "code",
      "source": [
        "sns.barplot(dataset[\"slope\"],dataset[\"target\"])"
      ],
      "metadata": {
        "colab": {
          "base_uri": "https://localhost:8080/",
          "height": 300
        },
        "id": "fYr8qd4hI3Fn",
        "outputId": "d310b79d-4f9f-4590-db21-9e5c09d306c7"
      },
      "execution_count": null,
      "outputs": [
        {
          "output_type": "execute_result",
          "data": {
            "text/plain": [
              "<matplotlib.axes._subplots.AxesSubplot at 0x7fbb25077150>"
            ]
          },
          "metadata": {},
          "execution_count": 23
        },
        {
          "output_type": "display_data",
          "data": {
            "text/plain": [
              "<Figure size 432x288 with 1 Axes>"
            ],
            "image/png": "[encoded data removed]"
          },
          "metadata": {
            "needs_background": "light"
          }
        }
      ]
    },
    {
      "cell_type": "markdown",
      "source": [
        "Analysing the 'ca' feature"
      ],
      "metadata": {
        "id": "ZRN8IirGI6aw"
      }
    },
    {
      "cell_type": "code",
      "source": [
        "dataset[\"ca\"].unique()"
      ],
      "metadata": {
        "colab": {
          "base_uri": "https://localhost:8080/"
        },
        "id": "wQHWsEXQI8oI",
        "outputId": "7871de08-3e15-428c-8b09-de4dd6c9568d"
      },
      "execution_count": null,
      "outputs": [
        {
          "output_type": "execute_result",
          "data": {
            "text/plain": [
              "array([2, 0, 1, 3, 4])"
            ]
          },
          "metadata": {},
          "execution_count": 24
        }
      ]
    },
    {
      "cell_type": "code",
      "source": [
        "sns.countplot(dataset[\"ca\"])"
      ],
      "metadata": {
        "colab": {
          "base_uri": "https://localhost:8080/",
          "height": 298
        },
        "id": "XlYn-sR4I-Wf",
        "outputId": "a7d4441d-262d-48cd-cf3e-e806399c6dcf"
      },
      "execution_count": null,
      "outputs": [
        {
          "output_type": "execute_result",
          "data": {
            "text/plain": [
              "<matplotlib.axes._subplots.AxesSubplot at 0x7fbb24f44850>"
            ]
          },
          "metadata": {},
          "execution_count": 25
        },
        {
          "output_type": "display_data",
          "data": {
            "text/plain": [
              "<Figure size 432x288 with 1 Axes>"
            ],
            "image/png": "[encoded data removed]"
          },
          "metadata": {
            "needs_background": "light"
          }
        }
      ]
    },
    {
      "cell_type": "code",
      "source": [
        "sns.barplot(dataset[\"ca\"],dataset[\"target\"])"
      ],
      "metadata": {
        "colab": {
          "base_uri": "https://localhost:8080/",
          "height": 296
        },
        "id": "dUxDA5YeJGcl",
        "outputId": "bfb0e153-5aeb-4041-a6c0-73c9ef3b62b7"
      },
      "execution_count": null,
      "outputs": [
        {
          "output_type": "execute_result",
          "data": {
            "text/plain": [
              "<matplotlib.axes._subplots.AxesSubplot at 0x7fbb24eb9bd0>"
            ]
          },
          "metadata": {},
          "execution_count": 26
        },
        {
          "output_type": "display_data",
          "data": {
            "text/plain": [
              "<Figure size 432x288 with 1 Axes>"
            ],
            "image/png": "[encoded data removed]"
          },
          "metadata": {
            "needs_background": "light"
          }
        }
      ]
    },
    {
      "cell_type": "code",
      "source": [
        "sns.distplot(dataset[\"ca\"])"
      ],
      "metadata": {
        "id": "Gy4RFVRB6E_8",
        "outputId": "99613486-73e7-46cc-f827-84c5138ec632",
        "colab": {
          "base_uri": "https://localhost:8080/",
          "height": 296
        }
      },
      "execution_count": null,
      "outputs": [
        {
          "output_type": "execute_result",
          "data": {
            "text/plain": [
              "<matplotlib.axes._subplots.AxesSubplot at 0x7fbb2708a790>"
            ]
          },
          "metadata": {},
          "execution_count": 27
        },
        {
          "output_type": "display_data",
          "data": {
            "text/plain": [
              "<Figure size 432x288 with 1 Axes>"
            ],
            "image/png": "[encoded data removed]"
          },
          "metadata": {
            "needs_background": "light"
          }
        }
      ]
    },
    {
      "cell_type": "markdown",
      "source": [
        "Analysing thal feature"
      ],
      "metadata": {
        "id": "Ymf1VbA5JA67"
      }
    },
    {
      "cell_type": "code",
      "source": [
        "dataset[\"thal\"].unique()"
      ],
      "metadata": {
        "colab": {
          "base_uri": "https://localhost:8080/"
        },
        "id": "ICi9ckplJT3o",
        "outputId": "41105d08-28b4-476b-84c9-a314f1c79b1d"
      },
      "execution_count": null,
      "outputs": [
        {
          "output_type": "execute_result",
          "data": {
            "text/plain": [
              "array([3, 2, 1, 0])"
            ]
          },
          "metadata": {},
          "execution_count": 28
        }
      ]
    },
    {
      "cell_type": "code",
      "source": [
        "sns.barplot(dataset[\"thal\"],dataset[\"target\"])"
      ],
      "metadata": {
        "colab": {
          "base_uri": "https://localhost:8080/",
          "height": 300
        },
        "id": "NX_Mlx5oJZ56",
        "outputId": "9c46521c-0cce-4f24-83f9-988ec7a118ac"
      },
      "execution_count": null,
      "outputs": [
        {
          "output_type": "execute_result",
          "data": {
            "text/plain": [
              "<matplotlib.axes._subplots.AxesSubplot at 0x7fbb26eeced0>"
            ]
          },
          "metadata": {},
          "execution_count": 29
        },
        {
          "output_type": "display_data",
          "data": {
            "text/plain": [
              "<Figure size 432x288 with 1 Axes>"
            ],
            "image/png": "[encoded data removed]"
          },
          "metadata": {
            "needs_background": "light"
          }
        }
      ]
    },
    {
      "cell_type": "code",
      "source": [
        "sns.distplot(dataset[\"thal\"])"
      ],
      "metadata": {
        "colab": {
          "base_uri": "https://localhost:8080/",
          "height": 296
        },
        "id": "ecDscQrFJfgB",
        "outputId": "9d371cdb-72da-4ac7-a9ad-76dafc670046"
      },
      "execution_count": null,
      "outputs": [
        {
          "output_type": "execute_result",
          "data": {
            "text/plain": [
              "<matplotlib.axes._subplots.AxesSubplot at 0x7fbb2704a450>"
            ]
          },
          "metadata": {},
          "execution_count": 30
        },
        {
          "output_type": "display_data",
          "data": {
            "text/plain": [
              "<Figure size 432x288 with 1 Axes>"
            ],
            "image/png": "[encoded data removed]"
          },
          "metadata": {
            "needs_background": "light"
          }
        }
      ]
    },
    {
      "cell_type": "code",
      "source": [
        "dataset.hist(figsize = (12, 12))\n",
        "plt.show()"
      ],
      "metadata": {
        "colab": {
          "base_uri": "https://localhost:8080/",
          "height": 716
        },
        "id": "jwM7vwBOoYwM",
        "outputId": "8fc86bcc-6003-4346-85f6-02d0e6900473"
      },
      "execution_count": null,
      "outputs": [
        {
          "output_type": "display_data",
          "data": {
            "text/plain": [
              "<Figure size 864x864 with 16 Axes>"
            ],
            "image/png": "[encoded data removed]"
          },
          "metadata": {
            "needs_background": "light"
          }
        }
      ]
    },
    {
      "cell_type": "markdown",
      "source": [
        "#Train Test split"
      ],
      "metadata": {
        "id": "nzber89UJgv5"
      }
    },
    {
      "cell_type": "code",
      "source": [
        "from sklearn.model_selection import train_test_split\n",
        "\n",
        "predictors = dataset.drop(\"target\",axis=1)\n",
        "target = dataset[\"target\"]\n",
        "\n",
        "X_train,X_test,Y_train,Y_test = train_test_split(predictors,target,test_size=0.30,random_state=0)"
      ],
      "metadata": {
        "id": "BfKdzXIgJzXv"
      },
      "execution_count": null,
      "outputs": []
    },
    {
      "cell_type": "code",
      "source": [
        "print(X_train.shape,X_test.shape,Y_train.shape,Y_test.shape);"
      ],
      "metadata": {
        "colab": {
          "base_uri": "https://localhost:8080/"
        },
        "id": "HYsQ1R1HKuJe",
        "outputId": "39faac85-a434-440d-9a6f-0fea683b1c23"
      },
      "execution_count": null,
      "outputs": [
        {
          "output_type": "stream",
          "name": "stdout",
          "text": [
            "(717, 13) (308, 13) (717,) (308,)\n"
          ]
        }
      ]
    },
    {
      "cell_type": "markdown",
      "source": [
        "#Model Training"
      ],
      "metadata": {
        "id": "vl-4rmb-eERC"
      }
    },
    {
      "cell_type": "markdown",
      "source": [
        "Logistic Regression"
      ],
      "metadata": {
        "id": "aLhEi4NIlFGE"
      }
    },
    {
      "cell_type": "code",
      "source": [
        "from sklearn.linear_model import LogisticRegression\n",
        "\n",
        "lr = LogisticRegression()\n",
        "\n",
        "lr.fit(X_train,Y_train)\n",
        "\n",
        "Y_pred_lr = lr.predict(X_test)"
      ],
      "metadata": {
        "id": "M1cf7zghLLmK"
      },
      "execution_count": null,
      "outputs": []
    },
    {
      "cell_type": "code",
      "source": [
        "Y_pred_lr.shape"
      ],
      "metadata": {
        "colab": {
          "base_uri": "https://localhost:8080/"
        },
        "id": "BknyRJS4LQNs",
        "outputId": "df558ca6-82ce-4b05-ac92-c9e6a51fd3a2"
      },
      "execution_count": null,
      "outputs": [
        {
          "output_type": "execute_result",
          "data": {
            "text/plain": [
              "(308,)"
            ]
          },
          "metadata": {},
          "execution_count": 34
        }
      ]
    },
    {
      "cell_type": "code",
      "source": [
        "score_lr = round(accuracy_score(Y_pred_lr,Y_test)*100,2)\n",
        "\n",
        "print(\"The accuracy score achieved using Logistic Regression is: \"+str(score_lr)+\" %\")"
      ],
      "metadata": {
        "colab": {
          "base_uri": "https://localhost:8080/"
        },
        "id": "T_k-axlULR4I",
        "outputId": "a7f3637e-84da-4fdf-b32d-d560311a646b"
      },
      "execution_count": null,
      "outputs": [
        {
          "output_type": "stream",
          "name": "stdout",
          "text": [
            "The accuracy score achieved using Logistic Regression is: 87.01 %\n"
          ]
        }
      ]
    },
    {
      "cell_type": "markdown",
      "source": [
        "Confusion Matrix"
      ],
      "metadata": {
        "id": "SSTf8s0kxrlb"
      }
    },
    {
      "cell_type": "code",
      "source": [
        "import seaborn as sn\n",
        "from sklearn.metrics import confusion_matrix\n",
        "cm=confusion_matrix(Y_test,Y_pred_lr)\n",
        "conf_matrix=pd.DataFrame(data=cm,columns=['Predicted:0','Predicted:1'],index=['Actual:0','Actual:1'])\n",
        "plt.figure(figsize = (8,5))\n",
        "sn.heatmap(conf_matrix, annot=True,fmt='d',cmap=\"YlGnBu\")"
      ],
      "metadata": {
        "colab": {
          "base_uri": "https://localhost:8080/",
          "height": 337
        },
        "id": "Uh0b9RuexuUn",
        "outputId": "eb047dcd-cdf2-4f22-d928-277189a97ce8"
      },
      "execution_count": null,
      "outputs": [
        {
          "output_type": "execute_result",
          "data": {
            "text/plain": [
              "<matplotlib.axes._subplots.AxesSubplot at 0x7fbaa81ba350>"
            ]
          },
          "metadata": {},
          "execution_count": 71
        },
        {
          "output_type": "display_data",
          "data": {
            "text/plain": [
              "<Figure size 576x360 with 2 Axes>"
            ],
            "image/png": "[encoded data removed]"
          },
          "metadata": {
            "needs_background": "light"
          }
        }
      ]
    },
    {
      "cell_type": "code",
      "source": [
        "TN=cm[0,0]\n",
        "TP=cm[1,1]\n",
        "FN=cm[1,0]\n",
        "FP=cm[0,1]\n",
        "sensitivity=TP/float(TP+FN)\n",
        "specificity=TN/float(TN+FP)"
      ],
      "metadata": {
        "id": "tgZ7AG-Ux7RD"
      },
      "execution_count": null,
      "outputs": []
    },
    {
      "cell_type": "code",
      "source": [
        "#Model Evaluation Statics \n",
        "score_cm = ((TP+TN)/float(TP+TN+FP+FN))*100\n",
        "print('The acuuracy of the model = TP+TN/(TP+TN+FP+FN) = ',(TP+TN)/float(TP+TN+FP+FN),'\\n',\n",
        "\n",
        "'The Missclassification = 1-Accuracy = ',1-((TP+TN)/float(TP+TN+FP+FN)),'\\n',\n",
        "\n",
        "'Sensitivity or True Positive Rate = TP/(TP+FN) = ',TP/float(TP+FN),'\\n',\n",
        "\n",
        "'Specificity or True Negative Rate = TN/(TN+FP) = ',TN/float(TN+FP),'\\n',\n",
        "\n",
        "'Positive Predictive value = TP/(TP+FP) = ',TP/float(TP+FP),'\\n',\n",
        "\n",
        "'Negative predictive Value = TN/(TN+FN) = ',TN/float(TN+FN),'\\n',\n",
        "\n",
        "'Positive Likelihood Ratio = Sensitivity/(1-Specificity) = ',sensitivity/(1-specificity),'\\n',\n",
        "\n",
        "'Negative likelihood Ratio = (1-Sensitivity)/Specificity = ',(1-sensitivity)/specificity)"
      ],
      "metadata": {
        "colab": {
          "base_uri": "https://localhost:8080/"
        },
        "id": "9fE5-FyjyC-l",
        "outputId": "a6a1785a-fed6-4aaa-cc12-e8fe68ea8807"
      },
      "execution_count": null,
      "outputs": [
        {
          "output_type": "stream",
          "name": "stdout",
          "text": [
            "The acuuracy of the model = TP+TN/(TP+TN+FP+FN) =  0.8701298701298701 \n",
            " The Missclassification = 1-Accuracy =  0.1298701298701299 \n",
            " Sensitivity or True Positive Rate = TP/(TP+FN) =  0.9202453987730062 \n",
            " Specificity or True Negative Rate = TN/(TN+FP) =  0.8137931034482758 \n",
            " Positive Predictive value = TP/(TP+FP) =  0.847457627118644 \n",
            " Negative predictive Value = TN/(TN+FN) =  0.9007633587786259 \n",
            " Positive Likelihood Ratio = Sensitivity/(1-Specificity) =  4.942058623040217 \n",
            " Negative likelihood Ratio = (1-Sensitivity)/Specificity =  0.09800353540605176\n"
          ]
        }
      ]
    },
    {
      "cell_type": "markdown",
      "source": [
        "Naive Bayes"
      ],
      "metadata": {
        "id": "2DodZJqNlotT"
      }
    },
    {
      "cell_type": "code",
      "source": [
        "from sklearn.naive_bayes import GaussianNB\n",
        "\n",
        "nb = GaussianNB()\n",
        "\n",
        "nb.fit(X_train,Y_train)\n",
        "\n",
        "Y_pred_nb = nb.predict(X_test)"
      ],
      "metadata": {
        "id": "6qwTWPYWLeQF"
      },
      "execution_count": null,
      "outputs": []
    },
    {
      "cell_type": "code",
      "source": [
        "Y_pred_nb.shape"
      ],
      "metadata": {
        "colab": {
          "base_uri": "https://localhost:8080/"
        },
        "id": "ny61WHpzLguG",
        "outputId": "33f82669-0e4b-404f-9352-11a327bdde0e"
      },
      "execution_count": null,
      "outputs": [
        {
          "output_type": "execute_result",
          "data": {
            "text/plain": [
              "(308,)"
            ]
          },
          "metadata": {},
          "execution_count": 37
        }
      ]
    },
    {
      "cell_type": "code",
      "source": [
        "score_nb = round(accuracy_score(Y_pred_nb,Y_test)*100,2)\n",
        "\n",
        "print(\"The accuracy score achieved using Naive Bayes is: \"+str(score_nb)+\" %\")"
      ],
      "metadata": {
        "colab": {
          "base_uri": "https://localhost:8080/"
        },
        "id": "_-YdgXatLiRO",
        "outputId": "9a558bd3-d031-41d6-fd2d-b7d1c35871e7"
      },
      "execution_count": null,
      "outputs": [
        {
          "output_type": "stream",
          "name": "stdout",
          "text": [
            "The accuracy score achieved using Naive Bayes is: 84.42 %\n"
          ]
        }
      ]
    },
    {
      "cell_type": "markdown",
      "source": [
        "SVM"
      ],
      "metadata": {
        "id": "19PyvD8KLnFs"
      }
    },
    {
      "cell_type": "code",
      "source": [
        "from sklearn import svm\n",
        "\n",
        "sv = svm.SVC(kernel='linear')\n",
        "\n",
        "sv.fit(X_train, Y_train)\n",
        "\n",
        "Y_pred_svm = sv.predict(X_test)"
      ],
      "metadata": {
        "id": "XQdosfMyLo0w"
      },
      "execution_count": null,
      "outputs": []
    },
    {
      "cell_type": "code",
      "source": [
        "Y_pred_svm.shape"
      ],
      "metadata": {
        "colab": {
          "base_uri": "https://localhost:8080/"
        },
        "id": "2FbvEO_-Lqig",
        "outputId": "368d404b-7fe2-4520-ffd9-b8e2fba4d41d"
      },
      "execution_count": null,
      "outputs": [
        {
          "output_type": "execute_result",
          "data": {
            "text/plain": [
              "(308,)"
            ]
          },
          "metadata": {},
          "execution_count": 40
        }
      ]
    },
    {
      "cell_type": "code",
      "source": [
        "score_svm = round(accuracy_score(Y_pred_svm,Y_test)*100,2)\n",
        "\n",
        "print(\"The accuracy score achieved using Linear SVM is: \"+str(score_svm)+\" %\")"
      ],
      "metadata": {
        "colab": {
          "base_uri": "https://localhost:8080/"
        },
        "id": "0sMBihSdLsG7",
        "outputId": "c284f4df-d614-40d8-8f6f-e3c791ddf021"
      },
      "execution_count": null,
      "outputs": [
        {
          "output_type": "stream",
          "name": "stdout",
          "text": [
            "The accuracy score achieved using Linear SVM is: 85.39 %\n"
          ]
        }
      ]
    },
    {
      "cell_type": "markdown",
      "source": [
        "K Nearest Neighbors"
      ],
      "metadata": {
        "id": "OhaDYcSoLxb7"
      }
    },
    {
      "cell_type": "code",
      "source": [
        "from sklearn.neighbors import KNeighborsClassifier\n",
        "\n",
        "knn = KNeighborsClassifier(n_neighbors=7)\n",
        "knn.fit(X_train,Y_train)\n",
        "Y_pred_knn=knn.predict(X_test)"
      ],
      "metadata": {
        "id": "zapuMrx2LzJV"
      },
      "execution_count": null,
      "outputs": []
    },
    {
      "cell_type": "code",
      "source": [
        "Y_pred_knn.shape"
      ],
      "metadata": {
        "colab": {
          "base_uri": "https://localhost:8080/"
        },
        "id": "AlUGj1V6L2XA",
        "outputId": "915563ca-31be-479a-87ca-efa0ab968d0b"
      },
      "execution_count": null,
      "outputs": [
        {
          "output_type": "execute_result",
          "data": {
            "text/plain": [
              "(308,)"
            ]
          },
          "metadata": {},
          "execution_count": 43
        }
      ]
    },
    {
      "cell_type": "code",
      "source": [
        "score_knn = round(accuracy_score(Y_pred_knn,Y_test)*100,2)\n",
        "\n",
        "print(\"The accuracy score achieved using KNN is: \"+str(score_knn)+\" %\")"
      ],
      "metadata": {
        "colab": {
          "base_uri": "https://localhost:8080/"
        },
        "id": "dVo1uXz-L4CS",
        "outputId": "13a2c23d-dbaf-448a-ea06-45dbef51894e"
      },
      "execution_count": null,
      "outputs": [
        {
          "output_type": "stream",
          "name": "stdout",
          "text": [
            "The accuracy score achieved using KNN is: 74.68 %\n"
          ]
        }
      ]
    },
    {
      "cell_type": "markdown",
      "source": [
        "XGBoost"
      ],
      "metadata": {
        "id": "aP5tBd2RMgBI"
      }
    },
    {
      "cell_type": "code",
      "source": [
        "import xgboost as xgb\n",
        "\n",
        "xgb_model = xgb.XGBClassifier(objective=\"binary:logistic\", random_state=42)\n",
        "xgb_model.fit(X_train, Y_train)\n",
        "\n",
        "Y_pred_xgb = xgb_model.predict(X_test)"
      ],
      "metadata": {
        "id": "1Q8EThmAMjKF"
      },
      "execution_count": null,
      "outputs": []
    },
    {
      "cell_type": "code",
      "source": [
        "Y_pred_xgb.shape"
      ],
      "metadata": {
        "colab": {
          "base_uri": "https://localhost:8080/"
        },
        "id": "hEpbdaIoMl_W",
        "outputId": "493a10c2-f69c-4151-b820-cf3f6b6a0a9b"
      },
      "execution_count": null,
      "outputs": [
        {
          "output_type": "execute_result",
          "data": {
            "text/plain": [
              "(308,)"
            ]
          },
          "metadata": {},
          "execution_count": 52
        }
      ]
    },
    {
      "cell_type": "code",
      "source": [
        "score_xgb = round(accuracy_score(Y_pred_xgb,Y_test)*100,2)\n",
        "\n",
        "print(\"The accuracy score achieved using XGBoost is: \"+str(score_xgb)+\" %\")"
      ],
      "metadata": {
        "colab": {
          "base_uri": "https://localhost:8080/"
        },
        "id": "-2YwNOS2MogW",
        "outputId": "03c7a3e1-e40f-4ad6-f7a8-a2772d094653"
      },
      "execution_count": null,
      "outputs": [
        {
          "output_type": "stream",
          "name": "stdout",
          "text": [
            "The accuracy score achieved using XGBoost is: 97.08 %\n"
          ]
        }
      ]
    },
    {
      "cell_type": "markdown",
      "source": [
        "Neural Network"
      ],
      "metadata": {
        "id": "4U6_t2ntMr9C"
      }
    },
    {
      "cell_type": "code",
      "source": [
        "from keras.models import Sequential\n",
        "from keras.layers import Dense"
      ],
      "metadata": {
        "id": "DAL4-AOUM0Bl"
      },
      "execution_count": null,
      "outputs": []
    },
    {
      "cell_type": "code",
      "source": [
        "# Using TensorFlow backend.\n",
        "# https://stats.stackexchange.com/a/136542 helped a lot in avoiding overfitting\n",
        "\n",
        "model = Sequential()\n",
        "model.add(Dense(11,activation='relu',input_dim=13))\n",
        "model.add(Dense(1,activation='sigmoid'))\n",
        "\n",
        "model.compile(loss='binary_crossentropy',optimizer='adam',metrics=['accuracy'])"
      ],
      "metadata": {
        "id": "MZqduKj3M14D"
      },
      "execution_count": null,
      "outputs": []
    },
    {
      "cell_type": "code",
      "source": [
        "model.fit(X_train,Y_train,epochs=300)"
      ],
      "metadata": {
        "colab": {
          "base_uri": "https://localhost:8080/"
        },
        "id": "lkHsPKuwNLA_",
        "outputId": "73dd9879-cadd-40cf-855d-f2adafe8f7e5"
      },
      "execution_count": null,
      "outputs": [
        {
          "output_type": "stream",
          "name": "stdout",
          "text": [
            "Epoch 1/300\n",
            "23/23 [==============================] - 1s 2ms/step - loss: 1.8569 - accuracy: 0.5593\n",
            "Epoch 2/300\n",
            "23/23 [==============================] - 0s 2ms/step - loss: 1.0726 - accuracy: 0.5593\n",
            "Epoch 3/300\n",
            "23/23 [==============================] - 0s 2ms/step - loss: 1.0258 - accuracy: 0.5649\n",
            "Epoch 4/300\n",
            "23/23 [==============================] - 0s 2ms/step - loss: 0.9775 - accuracy: 0.5593\n",
            "Epoch 5/300\n",
            "23/23 [==============================] - 0s 2ms/step - loss: 0.9632 - accuracy: 0.5481\n",
            "Epoch 6/300\n",
            "23/23 [==============================] - 0s 2ms/step - loss: 0.9210 - accuracy: 0.5551\n",
            "Epoch 7/300\n",
            "23/23 [==============================] - 0s 2ms/step - loss: 0.8958 - accuracy: 0.5509\n",
            "Epoch 8/300\n",
            "23/23 [==============================] - 0s 2ms/step - loss: 0.8710 - accuracy: 0.5397\n",
            "Epoch 9/300\n",
            "23/23 [==============================] - 0s 2ms/step - loss: 0.8376 - accuracy: 0.5579\n",
            "Epoch 10/300\n",
            "23/23 [==============================] - 0s 2ms/step - loss: 0.8039 - accuracy: 0.5676\n",
            "Epoch 11/300\n",
            "23/23 [==============================] - 0s 2ms/step - loss: 0.7815 - accuracy: 0.5718\n",
            "Epoch 12/300\n",
            "23/23 [==============================] - 0s 2ms/step - loss: 0.7550 - accuracy: 0.5858\n",
            "Epoch 13/300\n",
            "23/23 [==============================] - 0s 2ms/step - loss: 0.7344 - accuracy: 0.6053\n",
            "Epoch 14/300\n",
            "23/23 [==============================] - 0s 2ms/step - loss: 0.7099 - accuracy: 0.6095\n",
            "Epoch 15/300\n",
            "23/23 [==============================] - 0s 2ms/step - loss: 0.6869 - accuracy: 0.6165\n",
            "Epoch 16/300\n",
            "23/23 [==============================] - 0s 2ms/step - loss: 0.6636 - accuracy: 0.6290\n",
            "Epoch 17/300\n",
            "23/23 [==============================] - 0s 2ms/step - loss: 0.6530 - accuracy: 0.6374\n",
            "Epoch 18/300\n",
            "23/23 [==============================] - 0s 2ms/step - loss: 0.6687 - accuracy: 0.6332\n",
            "Epoch 19/300\n",
            "23/23 [==============================] - 0s 2ms/step - loss: 0.6249 - accuracy: 0.6583\n",
            "Epoch 20/300\n",
            "23/23 [==============================] - 0s 2ms/step - loss: 0.5987 - accuracy: 0.6778\n",
            "Epoch 21/300\n",
            "23/23 [==============================] - 0s 2ms/step - loss: 0.5785 - accuracy: 0.6932\n",
            "Epoch 22/300\n",
            "23/23 [==============================] - 0s 2ms/step - loss: 0.5602 - accuracy: 0.7183\n",
            "Epoch 23/300\n",
            "23/23 [==============================] - 0s 2ms/step - loss: 0.5537 - accuracy: 0.7169\n",
            "Epoch 24/300\n",
            "23/23 [==============================] - 0s 2ms/step - loss: 0.5521 - accuracy: 0.7155\n",
            "Epoch 25/300\n",
            "23/23 [==============================] - 0s 2ms/step - loss: 0.5590 - accuracy: 0.7183\n",
            "Epoch 26/300\n",
            "23/23 [==============================] - 0s 2ms/step - loss: 0.5358 - accuracy: 0.7378\n",
            "Epoch 27/300\n",
            "23/23 [==============================] - 0s 2ms/step - loss: 0.5207 - accuracy: 0.7350\n",
            "Epoch 28/300\n",
            "23/23 [==============================] - 0s 2ms/step - loss: 0.5124 - accuracy: 0.7364\n",
            "Epoch 29/300\n",
            "23/23 [==============================] - 0s 2ms/step - loss: 0.5087 - accuracy: 0.7462\n",
            "Epoch 30/300\n",
            "23/23 [==============================] - 0s 2ms/step - loss: 0.5003 - accuracy: 0.7559\n",
            "Epoch 31/300\n",
            "23/23 [==============================] - 0s 2ms/step - loss: 0.4999 - accuracy: 0.7615\n",
            "Epoch 32/300\n",
            "23/23 [==============================] - 0s 2ms/step - loss: 0.4894 - accuracy: 0.7601\n",
            "Epoch 33/300\n",
            "23/23 [==============================] - 0s 2ms/step - loss: 0.4840 - accuracy: 0.7559\n",
            "Epoch 34/300\n",
            "23/23 [==============================] - 0s 2ms/step - loss: 0.4896 - accuracy: 0.7587\n",
            "Epoch 35/300\n",
            "23/23 [==============================] - 0s 2ms/step - loss: 0.4927 - accuracy: 0.7838\n",
            "Epoch 36/300\n",
            "23/23 [==============================] - 0s 2ms/step - loss: 0.4814 - accuracy: 0.7601\n",
            "Epoch 37/300\n",
            "23/23 [==============================] - 0s 2ms/step - loss: 0.4768 - accuracy: 0.7699\n",
            "Epoch 38/300\n",
            "23/23 [==============================] - 0s 2ms/step - loss: 0.4739 - accuracy: 0.7741\n",
            "Epoch 39/300\n",
            "23/23 [==============================] - 0s 2ms/step - loss: 0.4724 - accuracy: 0.7824\n",
            "Epoch 40/300\n",
            "23/23 [==============================] - 0s 2ms/step - loss: 0.4635 - accuracy: 0.7922\n",
            "Epoch 41/300\n",
            "23/23 [==============================] - 0s 2ms/step - loss: 0.4647 - accuracy: 0.7741\n",
            "Epoch 42/300\n",
            "23/23 [==============================] - 0s 2ms/step - loss: 0.4556 - accuracy: 0.7908\n",
            "Epoch 43/300\n",
            "23/23 [==============================] - 0s 2ms/step - loss: 0.4577 - accuracy: 0.7768\n",
            "Epoch 44/300\n",
            "23/23 [==============================] - 0s 2ms/step - loss: 0.4535 - accuracy: 0.7908\n",
            "Epoch 45/300\n",
            "23/23 [==============================] - 0s 2ms/step - loss: 0.4545 - accuracy: 0.7782\n",
            "Epoch 46/300\n",
            "23/23 [==============================] - 0s 2ms/step - loss: 0.4481 - accuracy: 0.7922\n",
            "Epoch 47/300\n",
            "23/23 [==============================] - 0s 2ms/step - loss: 0.4476 - accuracy: 0.7894\n",
            "Epoch 48/300\n",
            "23/23 [==============================] - 0s 2ms/step - loss: 0.4458 - accuracy: 0.7894\n",
            "Epoch 49/300\n",
            "23/23 [==============================] - 0s 2ms/step - loss: 0.4464 - accuracy: 0.7838\n",
            "Epoch 50/300\n",
            "23/23 [==============================] - 0s 2ms/step - loss: 0.4420 - accuracy: 0.7866\n",
            "Epoch 51/300\n",
            "23/23 [==============================] - 0s 2ms/step - loss: 0.4436 - accuracy: 0.7852\n",
            "Epoch 52/300\n",
            "23/23 [==============================] - 0s 2ms/step - loss: 0.4396 - accuracy: 0.7936\n",
            "Epoch 53/300\n",
            "23/23 [==============================] - 0s 2ms/step - loss: 0.4364 - accuracy: 0.7908\n",
            "Epoch 54/300\n",
            "23/23 [==============================] - 0s 2ms/step - loss: 0.4369 - accuracy: 0.7978\n",
            "Epoch 55/300\n",
            "23/23 [==============================] - 0s 2ms/step - loss: 0.4378 - accuracy: 0.7950\n",
            "Epoch 56/300\n",
            "23/23 [==============================] - 0s 2ms/step - loss: 0.4355 - accuracy: 0.8047\n",
            "Epoch 57/300\n",
            "23/23 [==============================] - 0s 2ms/step - loss: 0.4289 - accuracy: 0.8061\n",
            "Epoch 58/300\n",
            "23/23 [==============================] - 0s 2ms/step - loss: 0.4306 - accuracy: 0.8061\n",
            "Epoch 59/300\n",
            "23/23 [==============================] - 0s 2ms/step - loss: 0.4323 - accuracy: 0.7922\n",
            "Epoch 60/300\n",
            "23/23 [==============================] - 0s 2ms/step - loss: 0.4281 - accuracy: 0.8047\n",
            "Epoch 61/300\n",
            "23/23 [==============================] - 0s 2ms/step - loss: 0.4222 - accuracy: 0.8061\n",
            "Epoch 62/300\n",
            "23/23 [==============================] - 0s 2ms/step - loss: 0.4240 - accuracy: 0.8006\n",
            "Epoch 63/300\n",
            "23/23 [==============================] - 0s 2ms/step - loss: 0.4326 - accuracy: 0.8033\n",
            "Epoch 64/300\n",
            "23/23 [==============================] - 0s 2ms/step - loss: 0.4230 - accuracy: 0.8117\n",
            "Epoch 65/300\n",
            "23/23 [==============================] - 0s 2ms/step - loss: 0.4173 - accuracy: 0.8061\n",
            "Epoch 66/300\n",
            "23/23 [==============================] - 0s 2ms/step - loss: 0.4171 - accuracy: 0.8089\n",
            "Epoch 67/300\n",
            "23/23 [==============================] - 0s 2ms/step - loss: 0.4181 - accuracy: 0.8187\n",
            "Epoch 68/300\n",
            "23/23 [==============================] - 0s 2ms/step - loss: 0.4196 - accuracy: 0.8131\n",
            "Epoch 69/300\n",
            "23/23 [==============================] - 0s 2ms/step - loss: 0.4108 - accuracy: 0.8131\n",
            "Epoch 70/300\n",
            "23/23 [==============================] - 0s 2ms/step - loss: 0.4264 - accuracy: 0.8075\n",
            "Epoch 71/300\n",
            "23/23 [==============================] - 0s 2ms/step - loss: 0.4148 - accuracy: 0.8285\n",
            "Epoch 72/300\n",
            "23/23 [==============================] - 0s 2ms/step - loss: 0.4153 - accuracy: 0.8257\n",
            "Epoch 73/300\n",
            "23/23 [==============================] - 0s 2ms/step - loss: 0.4073 - accuracy: 0.8159\n",
            "Epoch 74/300\n",
            "23/23 [==============================] - 0s 2ms/step - loss: 0.4066 - accuracy: 0.8173\n",
            "Epoch 75/300\n",
            "23/23 [==============================] - 0s 2ms/step - loss: 0.4197 - accuracy: 0.8061\n",
            "Epoch 76/300\n",
            "23/23 [==============================] - 0s 2ms/step - loss: 0.4213 - accuracy: 0.8047\n",
            "Epoch 77/300\n",
            "23/23 [==============================] - 0s 2ms/step - loss: 0.4120 - accuracy: 0.8145\n",
            "Epoch 78/300\n",
            "23/23 [==============================] - 0s 2ms/step - loss: 0.4034 - accuracy: 0.8075\n",
            "Epoch 79/300\n",
            "23/23 [==============================] - 0s 2ms/step - loss: 0.4050 - accuracy: 0.8215\n",
            "Epoch 80/300\n",
            "23/23 [==============================] - 0s 2ms/step - loss: 0.4048 - accuracy: 0.8257\n",
            "Epoch 81/300\n",
            "23/23 [==============================] - 0s 2ms/step - loss: 0.4010 - accuracy: 0.8229\n",
            "Epoch 82/300\n",
            "23/23 [==============================] - 0s 2ms/step - loss: 0.4029 - accuracy: 0.8257\n",
            "Epoch 83/300\n",
            "23/23 [==============================] - 0s 2ms/step - loss: 0.3981 - accuracy: 0.8326\n",
            "Epoch 84/300\n",
            "23/23 [==============================] - 0s 2ms/step - loss: 0.4041 - accuracy: 0.8257\n",
            "Epoch 85/300\n",
            "23/23 [==============================] - 0s 2ms/step - loss: 0.3957 - accuracy: 0.8298\n",
            "Epoch 86/300\n",
            "23/23 [==============================] - 0s 2ms/step - loss: 0.4040 - accuracy: 0.8173\n",
            "Epoch 87/300\n",
            "23/23 [==============================] - 0s 2ms/step - loss: 0.4038 - accuracy: 0.8103\n",
            "Epoch 88/300\n",
            "23/23 [==============================] - 0s 2ms/step - loss: 0.3976 - accuracy: 0.8285\n",
            "Epoch 89/300\n",
            "23/23 [==============================] - 0s 2ms/step - loss: 0.3977 - accuracy: 0.8201\n",
            "Epoch 90/300\n",
            "23/23 [==============================] - 0s 2ms/step - loss: 0.4197 - accuracy: 0.7866\n",
            "Epoch 91/300\n",
            "23/23 [==============================] - 0s 2ms/step - loss: 0.4031 - accuracy: 0.8243\n",
            "Epoch 92/300\n",
            "23/23 [==============================] - 0s 2ms/step - loss: 0.3969 - accuracy: 0.8285\n",
            "Epoch 93/300\n",
            "23/23 [==============================] - 0s 2ms/step - loss: 0.4075 - accuracy: 0.8215\n",
            "Epoch 94/300\n",
            "23/23 [==============================] - 0s 2ms/step - loss: 0.4085 - accuracy: 0.7964\n",
            "Epoch 95/300\n",
            "23/23 [==============================] - 0s 2ms/step - loss: 0.4025 - accuracy: 0.8229\n",
            "Epoch 96/300\n",
            "23/23 [==============================] - 0s 2ms/step - loss: 0.4012 - accuracy: 0.8354\n",
            "Epoch 97/300\n",
            "23/23 [==============================] - 0s 2ms/step - loss: 0.3914 - accuracy: 0.8382\n",
            "Epoch 98/300\n",
            "23/23 [==============================] - 0s 2ms/step - loss: 0.4068 - accuracy: 0.8215\n",
            "Epoch 99/300\n",
            "23/23 [==============================] - 0s 2ms/step - loss: 0.3918 - accuracy: 0.8340\n",
            "Epoch 100/300\n",
            "23/23 [==============================] - 0s 2ms/step - loss: 0.3977 - accuracy: 0.8257\n",
            "Epoch 101/300\n",
            "23/23 [==============================] - 0s 2ms/step - loss: 0.3950 - accuracy: 0.8159\n",
            "Epoch 102/300\n",
            "23/23 [==============================] - 0s 2ms/step - loss: 0.3943 - accuracy: 0.8257\n",
            "Epoch 103/300\n",
            "23/23 [==============================] - 0s 2ms/step - loss: 0.3854 - accuracy: 0.8382\n",
            "Epoch 104/300\n",
            "23/23 [==============================] - 0s 2ms/step - loss: 0.3910 - accuracy: 0.8173\n",
            "Epoch 105/300\n",
            "23/23 [==============================] - 0s 2ms/step - loss: 0.3890 - accuracy: 0.8326\n",
            "Epoch 106/300\n",
            "23/23 [==============================] - 0s 2ms/step - loss: 0.3888 - accuracy: 0.8340\n",
            "Epoch 107/300\n",
            "23/23 [==============================] - 0s 2ms/step - loss: 0.3859 - accuracy: 0.8229\n",
            "Epoch 108/300\n",
            "23/23 [==============================] - 0s 2ms/step - loss: 0.3858 - accuracy: 0.8271\n",
            "Epoch 109/300\n",
            "23/23 [==============================] - 0s 2ms/step - loss: 0.3943 - accuracy: 0.8201\n",
            "Epoch 110/300\n",
            "23/23 [==============================] - 0s 2ms/step - loss: 0.3866 - accuracy: 0.8312\n",
            "Epoch 111/300\n",
            "23/23 [==============================] - 0s 2ms/step - loss: 0.3844 - accuracy: 0.8382\n",
            "Epoch 112/300\n",
            "23/23 [==============================] - 0s 2ms/step - loss: 0.3823 - accuracy: 0.8340\n",
            "Epoch 113/300\n",
            "23/23 [==============================] - 0s 2ms/step - loss: 0.3868 - accuracy: 0.8187\n",
            "Epoch 114/300\n",
            "23/23 [==============================] - 0s 2ms/step - loss: 0.3903 - accuracy: 0.8326\n",
            "Epoch 115/300\n",
            "23/23 [==============================] - 0s 2ms/step - loss: 0.3845 - accuracy: 0.8340\n",
            "Epoch 116/300\n",
            "23/23 [==============================] - 0s 3ms/step - loss: 0.3825 - accuracy: 0.8271\n",
            "Epoch 117/300\n",
            "23/23 [==============================] - 0s 2ms/step - loss: 0.3912 - accuracy: 0.8215\n",
            "Epoch 118/300\n",
            "23/23 [==============================] - 0s 2ms/step - loss: 0.3802 - accuracy: 0.8326\n",
            "Epoch 119/300\n",
            "23/23 [==============================] - 0s 2ms/step - loss: 0.3844 - accuracy: 0.8312\n",
            "Epoch 120/300\n",
            "23/23 [==============================] - 0s 2ms/step - loss: 0.3922 - accuracy: 0.8354\n",
            "Epoch 121/300\n",
            "23/23 [==============================] - 0s 2ms/step - loss: 0.3780 - accuracy: 0.8368\n",
            "Epoch 122/300\n",
            "23/23 [==============================] - 0s 2ms/step - loss: 0.3769 - accuracy: 0.8424\n",
            "Epoch 123/300\n",
            "23/23 [==============================] - 0s 2ms/step - loss: 0.3909 - accuracy: 0.8298\n",
            "Epoch 124/300\n",
            "23/23 [==============================] - 0s 2ms/step - loss: 0.3831 - accuracy: 0.8340\n",
            "Epoch 125/300\n",
            "23/23 [==============================] - 0s 2ms/step - loss: 0.3831 - accuracy: 0.8285\n",
            "Epoch 126/300\n",
            "23/23 [==============================] - 0s 2ms/step - loss: 0.3903 - accuracy: 0.8271\n",
            "Epoch 127/300\n",
            "23/23 [==============================] - 0s 2ms/step - loss: 0.3790 - accuracy: 0.8285\n",
            "Epoch 128/300\n",
            "23/23 [==============================] - 0s 2ms/step - loss: 0.3856 - accuracy: 0.8271\n",
            "Epoch 129/300\n",
            "23/23 [==============================] - 0s 2ms/step - loss: 0.3791 - accuracy: 0.8410\n",
            "Epoch 130/300\n",
            "23/23 [==============================] - 0s 2ms/step - loss: 0.3782 - accuracy: 0.8312\n",
            "Epoch 131/300\n",
            "23/23 [==============================] - 0s 2ms/step - loss: 0.3807 - accuracy: 0.8382\n",
            "Epoch 132/300\n",
            "23/23 [==============================] - 0s 2ms/step - loss: 0.3835 - accuracy: 0.8340\n",
            "Epoch 133/300\n",
            "23/23 [==============================] - 0s 2ms/step - loss: 0.3870 - accuracy: 0.8368\n",
            "Epoch 134/300\n",
            "23/23 [==============================] - 0s 2ms/step - loss: 0.3774 - accuracy: 0.8396\n",
            "Epoch 135/300\n",
            "23/23 [==============================] - 0s 2ms/step - loss: 0.3794 - accuracy: 0.8424\n",
            "Epoch 136/300\n",
            "23/23 [==============================] - 0s 2ms/step - loss: 0.3767 - accuracy: 0.8396\n",
            "Epoch 137/300\n",
            "23/23 [==============================] - 0s 2ms/step - loss: 0.3775 - accuracy: 0.8452\n",
            "Epoch 138/300\n",
            "23/23 [==============================] - 0s 2ms/step - loss: 0.3774 - accuracy: 0.8480\n",
            "Epoch 139/300\n",
            "23/23 [==============================] - 0s 2ms/step - loss: 0.3854 - accuracy: 0.8354\n",
            "Epoch 140/300\n",
            "23/23 [==============================] - 0s 2ms/step - loss: 0.3851 - accuracy: 0.8271\n",
            "Epoch 141/300\n",
            "23/23 [==============================] - 0s 2ms/step - loss: 0.3774 - accuracy: 0.8424\n",
            "Epoch 142/300\n",
            "23/23 [==============================] - 0s 2ms/step - loss: 0.3789 - accuracy: 0.8396\n",
            "Epoch 143/300\n",
            "23/23 [==============================] - 0s 2ms/step - loss: 0.3979 - accuracy: 0.8298\n",
            "Epoch 144/300\n",
            "23/23 [==============================] - 0s 2ms/step - loss: 0.3723 - accuracy: 0.8424\n",
            "Epoch 145/300\n",
            "23/23 [==============================] - 0s 2ms/step - loss: 0.3721 - accuracy: 0.8424\n",
            "Epoch 146/300\n",
            "23/23 [==============================] - 0s 2ms/step - loss: 0.3765 - accuracy: 0.8340\n",
            "Epoch 147/300\n",
            "23/23 [==============================] - 0s 2ms/step - loss: 0.3782 - accuracy: 0.8396\n",
            "Epoch 148/300\n",
            "23/23 [==============================] - 0s 2ms/step - loss: 0.3758 - accuracy: 0.8396\n",
            "Epoch 149/300\n",
            "23/23 [==============================] - 0s 2ms/step - loss: 0.4016 - accuracy: 0.8173\n",
            "Epoch 150/300\n",
            "23/23 [==============================] - 0s 2ms/step - loss: 0.4459 - accuracy: 0.7796\n",
            "Epoch 151/300\n",
            "23/23 [==============================] - 0s 2ms/step - loss: 0.4043 - accuracy: 0.8145\n",
            "Epoch 152/300\n",
            "23/23 [==============================] - 0s 2ms/step - loss: 0.3754 - accuracy: 0.8452\n",
            "Epoch 153/300\n",
            "23/23 [==============================] - 0s 2ms/step - loss: 0.3820 - accuracy: 0.8298\n",
            "Epoch 154/300\n",
            "23/23 [==============================] - 0s 2ms/step - loss: 0.3703 - accuracy: 0.8522\n",
            "Epoch 155/300\n",
            "23/23 [==============================] - 0s 2ms/step - loss: 0.3722 - accuracy: 0.8382\n",
            "Epoch 156/300\n",
            "23/23 [==============================] - 0s 2ms/step - loss: 0.3731 - accuracy: 0.8424\n",
            "Epoch 157/300\n",
            "23/23 [==============================] - 0s 2ms/step - loss: 0.3901 - accuracy: 0.8229\n",
            "Epoch 158/300\n",
            "23/23 [==============================] - 0s 2ms/step - loss: 0.3826 - accuracy: 0.8312\n",
            "Epoch 159/300\n",
            "23/23 [==============================] - 0s 2ms/step - loss: 0.3705 - accuracy: 0.8438\n",
            "Epoch 160/300\n",
            "23/23 [==============================] - 0s 2ms/step - loss: 0.3671 - accuracy: 0.8508\n",
            "Epoch 161/300\n",
            "23/23 [==============================] - 0s 2ms/step - loss: 0.3759 - accuracy: 0.8312\n",
            "Epoch 162/300\n",
            "23/23 [==============================] - 0s 2ms/step - loss: 0.3817 - accuracy: 0.8229\n",
            "Epoch 163/300\n",
            "23/23 [==============================] - 0s 2ms/step - loss: 0.3749 - accuracy: 0.8340\n",
            "Epoch 164/300\n",
            "23/23 [==============================] - 0s 2ms/step - loss: 0.3757 - accuracy: 0.8326\n",
            "Epoch 165/300\n",
            "23/23 [==============================] - 0s 2ms/step - loss: 0.3744 - accuracy: 0.8382\n",
            "Epoch 166/300\n",
            "23/23 [==============================] - 0s 2ms/step - loss: 0.3835 - accuracy: 0.8424\n",
            "Epoch 167/300\n",
            "23/23 [==============================] - 0s 2ms/step - loss: 0.3801 - accuracy: 0.8326\n",
            "Epoch 168/300\n",
            "23/23 [==============================] - 0s 2ms/step - loss: 0.3715 - accuracy: 0.8382\n",
            "Epoch 169/300\n",
            "23/23 [==============================] - 0s 2ms/step - loss: 0.3694 - accuracy: 0.8410\n",
            "Epoch 170/300\n",
            "23/23 [==============================] - 0s 2ms/step - loss: 0.3714 - accuracy: 0.8424\n",
            "Epoch 171/300\n",
            "23/23 [==============================] - 0s 2ms/step - loss: 0.3701 - accuracy: 0.8480\n",
            "Epoch 172/300\n",
            "23/23 [==============================] - 0s 2ms/step - loss: 0.3839 - accuracy: 0.8285\n",
            "Epoch 173/300\n",
            "23/23 [==============================] - 0s 2ms/step - loss: 0.3754 - accuracy: 0.8298\n",
            "Epoch 174/300\n",
            "23/23 [==============================] - 0s 2ms/step - loss: 0.3713 - accuracy: 0.8340\n",
            "Epoch 175/300\n",
            "23/23 [==============================] - 0s 2ms/step - loss: 0.3741 - accuracy: 0.8396\n",
            "Epoch 176/300\n",
            "23/23 [==============================] - 0s 2ms/step - loss: 0.3710 - accuracy: 0.8424\n",
            "Epoch 177/300\n",
            "23/23 [==============================] - 0s 2ms/step - loss: 0.3851 - accuracy: 0.8340\n",
            "Epoch 178/300\n",
            "23/23 [==============================] - 0s 2ms/step - loss: 0.3721 - accuracy: 0.8396\n",
            "Epoch 179/300\n",
            "23/23 [==============================] - 0s 2ms/step - loss: 0.3692 - accuracy: 0.8410\n",
            "Epoch 180/300\n",
            "23/23 [==============================] - 0s 2ms/step - loss: 0.3841 - accuracy: 0.8229\n",
            "Epoch 181/300\n",
            "23/23 [==============================] - 0s 2ms/step - loss: 0.3824 - accuracy: 0.8215\n",
            "Epoch 182/300\n",
            "23/23 [==============================] - 0s 2ms/step - loss: 0.3781 - accuracy: 0.8438\n",
            "Epoch 183/300\n",
            "23/23 [==============================] - 0s 2ms/step - loss: 0.3661 - accuracy: 0.8452\n",
            "Epoch 184/300\n",
            "23/23 [==============================] - 0s 2ms/step - loss: 0.3882 - accuracy: 0.8298\n",
            "Epoch 185/300\n",
            "23/23 [==============================] - 0s 2ms/step - loss: 0.3951 - accuracy: 0.8201\n",
            "Epoch 186/300\n",
            "23/23 [==============================] - 0s 3ms/step - loss: 0.3923 - accuracy: 0.8368\n",
            "Epoch 187/300\n",
            "23/23 [==============================] - 0s 2ms/step - loss: 0.3684 - accuracy: 0.8410\n",
            "Epoch 188/300\n",
            "23/23 [==============================] - 0s 2ms/step - loss: 0.3661 - accuracy: 0.8424\n",
            "Epoch 189/300\n",
            "23/23 [==============================] - 0s 2ms/step - loss: 0.3681 - accuracy: 0.8368\n",
            "Epoch 190/300\n",
            "23/23 [==============================] - 0s 2ms/step - loss: 0.3723 - accuracy: 0.8480\n",
            "Epoch 191/300\n",
            "23/23 [==============================] - 0s 2ms/step - loss: 0.3712 - accuracy: 0.8452\n",
            "Epoch 192/300\n",
            "23/23 [==============================] - 0s 2ms/step - loss: 0.3727 - accuracy: 0.8243\n",
            "Epoch 193/300\n",
            "23/23 [==============================] - 0s 2ms/step - loss: 0.3778 - accuracy: 0.8424\n",
            "Epoch 194/300\n",
            "23/23 [==============================] - 0s 2ms/step - loss: 0.3694 - accuracy: 0.8354\n",
            "Epoch 195/300\n",
            "23/23 [==============================] - 0s 2ms/step - loss: 0.3899 - accuracy: 0.8215\n",
            "Epoch 196/300\n",
            "23/23 [==============================] - 0s 2ms/step - loss: 0.3701 - accuracy: 0.8340\n",
            "Epoch 197/300\n",
            "23/23 [==============================] - 0s 2ms/step - loss: 0.3739 - accuracy: 0.8354\n",
            "Epoch 198/300\n",
            "23/23 [==============================] - 0s 2ms/step - loss: 0.3663 - accuracy: 0.8354\n",
            "Epoch 199/300\n",
            "23/23 [==============================] - 0s 2ms/step - loss: 0.3663 - accuracy: 0.8410\n",
            "Epoch 200/300\n",
            "23/23 [==============================] - 0s 2ms/step - loss: 0.3668 - accuracy: 0.8452\n",
            "Epoch 201/300\n",
            "23/23 [==============================] - 0s 2ms/step - loss: 0.3642 - accuracy: 0.8466\n",
            "Epoch 202/300\n",
            "23/23 [==============================] - 0s 2ms/step - loss: 0.3718 - accuracy: 0.8312\n",
            "Epoch 203/300\n",
            "23/23 [==============================] - 0s 2ms/step - loss: 0.3657 - accuracy: 0.8452\n",
            "Epoch 204/300\n",
            "23/23 [==============================] - 0s 2ms/step - loss: 0.3695 - accuracy: 0.8452\n",
            "Epoch 205/300\n",
            "23/23 [==============================] - 0s 2ms/step - loss: 0.3741 - accuracy: 0.8452\n",
            "Epoch 206/300\n",
            "23/23 [==============================] - 0s 2ms/step - loss: 0.3628 - accuracy: 0.8424\n",
            "Epoch 207/300\n",
            "23/23 [==============================] - 0s 2ms/step - loss: 0.3667 - accuracy: 0.8452\n",
            "Epoch 208/300\n",
            "23/23 [==============================] - 0s 2ms/step - loss: 0.3716 - accuracy: 0.8410\n",
            "Epoch 209/300\n",
            "23/23 [==============================] - 0s 2ms/step - loss: 0.3625 - accuracy: 0.8550\n",
            "Epoch 210/300\n",
            "23/23 [==============================] - 0s 2ms/step - loss: 0.3678 - accuracy: 0.8298\n",
            "Epoch 211/300\n",
            "23/23 [==============================] - 0s 2ms/step - loss: 0.3692 - accuracy: 0.8410\n",
            "Epoch 212/300\n",
            "23/23 [==============================] - 0s 2ms/step - loss: 0.3691 - accuracy: 0.8410\n",
            "Epoch 213/300\n",
            "23/23 [==============================] - 0s 2ms/step - loss: 0.3798 - accuracy: 0.8368\n",
            "Epoch 214/300\n",
            "23/23 [==============================] - 0s 2ms/step - loss: 0.3684 - accuracy: 0.8354\n",
            "Epoch 215/300\n",
            "23/23 [==============================] - 0s 2ms/step - loss: 0.3633 - accuracy: 0.8410\n",
            "Epoch 216/300\n",
            "23/23 [==============================] - 0s 2ms/step - loss: 0.3746 - accuracy: 0.8424\n",
            "Epoch 217/300\n",
            "23/23 [==============================] - 0s 2ms/step - loss: 0.3669 - accuracy: 0.8438\n",
            "Epoch 218/300\n",
            "23/23 [==============================] - 0s 2ms/step - loss: 0.3629 - accuracy: 0.8368\n",
            "Epoch 219/300\n",
            "23/23 [==============================] - 0s 2ms/step - loss: 0.3651 - accuracy: 0.8368\n",
            "Epoch 220/300\n",
            "23/23 [==============================] - 0s 2ms/step - loss: 0.3647 - accuracy: 0.8466\n",
            "Epoch 221/300\n",
            "23/23 [==============================] - 0s 2ms/step - loss: 0.3610 - accuracy: 0.8480\n",
            "Epoch 222/300\n",
            "23/23 [==============================] - 0s 2ms/step - loss: 0.3648 - accuracy: 0.8438\n",
            "Epoch 223/300\n",
            "23/23 [==============================] - 0s 2ms/step - loss: 0.3709 - accuracy: 0.8382\n",
            "Epoch 224/300\n",
            "23/23 [==============================] - 0s 2ms/step - loss: 0.3620 - accuracy: 0.8452\n",
            "Epoch 225/300\n",
            "23/23 [==============================] - 0s 2ms/step - loss: 0.3647 - accuracy: 0.8494\n",
            "Epoch 226/300\n",
            "23/23 [==============================] - 0s 2ms/step - loss: 0.3672 - accuracy: 0.8480\n",
            "Epoch 227/300\n",
            "23/23 [==============================] - 0s 2ms/step - loss: 0.3703 - accuracy: 0.8340\n",
            "Epoch 228/300\n",
            "23/23 [==============================] - 0s 2ms/step - loss: 0.3739 - accuracy: 0.8452\n",
            "Epoch 229/300\n",
            "23/23 [==============================] - 0s 2ms/step - loss: 0.3664 - accuracy: 0.8396\n",
            "Epoch 230/300\n",
            "23/23 [==============================] - 0s 2ms/step - loss: 0.3834 - accuracy: 0.8201\n",
            "Epoch 231/300\n",
            "23/23 [==============================] - 0s 2ms/step - loss: 0.3672 - accuracy: 0.8326\n",
            "Epoch 232/300\n",
            "23/23 [==============================] - 0s 2ms/step - loss: 0.3608 - accuracy: 0.8466\n",
            "Epoch 233/300\n",
            "23/23 [==============================] - 0s 2ms/step - loss: 0.3722 - accuracy: 0.8312\n",
            "Epoch 234/300\n",
            "23/23 [==============================] - 0s 2ms/step - loss: 0.3785 - accuracy: 0.8410\n",
            "Epoch 235/300\n",
            "23/23 [==============================] - 0s 2ms/step - loss: 0.3620 - accuracy: 0.8480\n",
            "Epoch 236/300\n",
            "23/23 [==============================] - 0s 2ms/step - loss: 0.3648 - accuracy: 0.8354\n",
            "Epoch 237/300\n",
            "23/23 [==============================] - 0s 2ms/step - loss: 0.3704 - accuracy: 0.8354\n",
            "Epoch 238/300\n",
            "23/23 [==============================] - 0s 2ms/step - loss: 0.3655 - accuracy: 0.8438\n",
            "Epoch 239/300\n",
            "23/23 [==============================] - 0s 2ms/step - loss: 0.3643 - accuracy: 0.8438\n",
            "Epoch 240/300\n",
            "23/23 [==============================] - 0s 2ms/step - loss: 0.3634 - accuracy: 0.8508\n",
            "Epoch 241/300\n",
            "23/23 [==============================] - 0s 2ms/step - loss: 0.3637 - accuracy: 0.8368\n",
            "Epoch 242/300\n",
            "23/23 [==============================] - 0s 2ms/step - loss: 0.3661 - accuracy: 0.8480\n",
            "Epoch 243/300\n",
            "23/23 [==============================] - 0s 2ms/step - loss: 0.3733 - accuracy: 0.8368\n",
            "Epoch 244/300\n",
            "23/23 [==============================] - 0s 2ms/step - loss: 0.3653 - accuracy: 0.8312\n",
            "Epoch 245/300\n",
            "23/23 [==============================] - 0s 2ms/step - loss: 0.3621 - accuracy: 0.8452\n",
            "Epoch 246/300\n",
            "23/23 [==============================] - 0s 2ms/step - loss: 0.3603 - accuracy: 0.8550\n",
            "Epoch 247/300\n",
            "23/23 [==============================] - 0s 2ms/step - loss: 0.3621 - accuracy: 0.8494\n",
            "Epoch 248/300\n",
            "23/23 [==============================] - 0s 2ms/step - loss: 0.3616 - accuracy: 0.8480\n",
            "Epoch 249/300\n",
            "23/23 [==============================] - 0s 2ms/step - loss: 0.3747 - accuracy: 0.8410\n",
            "Epoch 250/300\n",
            "23/23 [==============================] - 0s 2ms/step - loss: 0.3881 - accuracy: 0.8201\n",
            "Epoch 251/300\n",
            "23/23 [==============================] - 0s 2ms/step - loss: 0.3724 - accuracy: 0.8368\n",
            "Epoch 252/300\n",
            "23/23 [==============================] - 0s 2ms/step - loss: 0.3659 - accuracy: 0.8396\n",
            "Epoch 253/300\n",
            "23/23 [==============================] - 0s 2ms/step - loss: 0.3654 - accuracy: 0.8326\n",
            "Epoch 254/300\n",
            "23/23 [==============================] - 0s 2ms/step - loss: 0.3681 - accuracy: 0.8312\n",
            "Epoch 255/300\n",
            "23/23 [==============================] - 0s 2ms/step - loss: 0.3646 - accuracy: 0.8466\n",
            "Epoch 256/300\n",
            "23/23 [==============================] - 0s 2ms/step - loss: 0.3689 - accuracy: 0.8438\n",
            "Epoch 257/300\n",
            "23/23 [==============================] - 0s 2ms/step - loss: 0.3644 - accuracy: 0.8368\n",
            "Epoch 258/300\n",
            "23/23 [==============================] - 0s 2ms/step - loss: 0.3698 - accuracy: 0.8368\n",
            "Epoch 259/300\n",
            "23/23 [==============================] - 0s 2ms/step - loss: 0.3633 - accuracy: 0.8438\n",
            "Epoch 260/300\n",
            "23/23 [==============================] - 0s 2ms/step - loss: 0.3644 - accuracy: 0.8522\n",
            "Epoch 261/300\n",
            "23/23 [==============================] - 0s 2ms/step - loss: 0.3638 - accuracy: 0.8480\n",
            "Epoch 262/300\n",
            "23/23 [==============================] - 0s 2ms/step - loss: 0.3670 - accuracy: 0.8410\n",
            "Epoch 263/300\n",
            "23/23 [==============================] - 0s 2ms/step - loss: 0.3607 - accuracy: 0.8480\n",
            "Epoch 264/300\n",
            "23/23 [==============================] - 0s 3ms/step - loss: 0.3610 - accuracy: 0.8494\n",
            "Epoch 265/300\n",
            "23/23 [==============================] - 0s 2ms/step - loss: 0.3667 - accuracy: 0.8410\n",
            "Epoch 266/300\n",
            "23/23 [==============================] - 0s 2ms/step - loss: 0.3683 - accuracy: 0.8382\n",
            "Epoch 267/300\n",
            "23/23 [==============================] - 0s 2ms/step - loss: 0.3763 - accuracy: 0.8215\n",
            "Epoch 268/300\n",
            "23/23 [==============================] - 0s 2ms/step - loss: 0.3680 - accuracy: 0.8396\n",
            "Epoch 269/300\n",
            "23/23 [==============================] - 0s 2ms/step - loss: 0.3603 - accuracy: 0.8508\n",
            "Epoch 270/300\n",
            "23/23 [==============================] - 0s 2ms/step - loss: 0.3781 - accuracy: 0.8396\n",
            "Epoch 271/300\n",
            "23/23 [==============================] - 0s 2ms/step - loss: 0.3635 - accuracy: 0.8452\n",
            "Epoch 272/300\n",
            "23/23 [==============================] - 0s 2ms/step - loss: 0.3650 - accuracy: 0.8368\n",
            "Epoch 273/300\n",
            "23/23 [==============================] - 0s 2ms/step - loss: 0.3648 - accuracy: 0.8494\n",
            "Epoch 274/300\n",
            "23/23 [==============================] - 0s 2ms/step - loss: 0.3734 - accuracy: 0.8326\n",
            "Epoch 275/300\n",
            "23/23 [==============================] - 0s 2ms/step - loss: 0.3593 - accuracy: 0.8452\n",
            "Epoch 276/300\n",
            "23/23 [==============================] - 0s 2ms/step - loss: 0.3614 - accuracy: 0.8424\n",
            "Epoch 277/300\n",
            "23/23 [==============================] - 0s 2ms/step - loss: 0.3658 - accuracy: 0.8410\n",
            "Epoch 278/300\n",
            "23/23 [==============================] - 0s 2ms/step - loss: 0.3696 - accuracy: 0.8354\n",
            "Epoch 279/300\n",
            "23/23 [==============================] - 0s 2ms/step - loss: 0.3598 - accuracy: 0.8410\n",
            "Epoch 280/300\n",
            "23/23 [==============================] - 0s 2ms/step - loss: 0.3710 - accuracy: 0.8285\n",
            "Epoch 281/300\n",
            "23/23 [==============================] - 0s 2ms/step - loss: 0.3622 - accuracy: 0.8438\n",
            "Epoch 282/300\n",
            "23/23 [==============================] - 0s 2ms/step - loss: 0.3695 - accuracy: 0.8285\n",
            "Epoch 283/300\n",
            "23/23 [==============================] - 0s 2ms/step - loss: 0.3594 - accuracy: 0.8508\n",
            "Epoch 284/300\n",
            "23/23 [==============================] - 0s 2ms/step - loss: 0.3612 - accuracy: 0.8536\n",
            "Epoch 285/300\n",
            "23/23 [==============================] - 0s 2ms/step - loss: 0.3601 - accuracy: 0.8424\n",
            "Epoch 286/300\n",
            "23/23 [==============================] - 0s 2ms/step - loss: 0.3595 - accuracy: 0.8424\n",
            "Epoch 287/300\n",
            "23/23 [==============================] - 0s 2ms/step - loss: 0.3699 - accuracy: 0.8410\n",
            "Epoch 288/300\n",
            "23/23 [==============================] - 0s 2ms/step - loss: 0.3675 - accuracy: 0.8452\n",
            "Epoch 289/300\n",
            "23/23 [==============================] - 0s 2ms/step - loss: 0.3580 - accuracy: 0.8577\n",
            "Epoch 290/300\n",
            "23/23 [==============================] - 0s 2ms/step - loss: 0.3667 - accuracy: 0.8368\n",
            "Epoch 291/300\n",
            "23/23 [==============================] - 0s 2ms/step - loss: 0.3673 - accuracy: 0.8326\n",
            "Epoch 292/300\n",
            "23/23 [==============================] - 0s 2ms/step - loss: 0.3624 - accuracy: 0.8424\n",
            "Epoch 293/300\n",
            "23/23 [==============================] - 0s 2ms/step - loss: 0.3754 - accuracy: 0.8340\n",
            "Epoch 294/300\n",
            "23/23 [==============================] - 0s 2ms/step - loss: 0.3683 - accuracy: 0.8368\n",
            "Epoch 295/300\n",
            "23/23 [==============================] - 0s 2ms/step - loss: 0.3591 - accuracy: 0.8438\n",
            "Epoch 296/300\n",
            "23/23 [==============================] - 0s 2ms/step - loss: 0.3602 - accuracy: 0.8508\n",
            "Epoch 297/300\n",
            "23/23 [==============================] - 0s 2ms/step - loss: 0.3564 - accuracy: 0.8466\n",
            "Epoch 298/300\n",
            "23/23 [==============================] - 0s 2ms/step - loss: 0.3623 - accuracy: 0.8424\n",
            "Epoch 299/300\n",
            "23/23 [==============================] - 0s 2ms/step - loss: 0.3614 - accuracy: 0.8466\n",
            "Epoch 300/300\n",
            "23/23 [==============================] - 0s 2ms/step - loss: 0.3627 - accuracy: 0.8410\n"
          ]
        },
        {
          "output_type": "execute_result",
          "data": {
            "text/plain": [
              "<keras.callbacks.History at 0x7fbb19107190>"
            ]
          },
          "metadata": {},
          "execution_count": 56
        }
      ]
    },
    {
      "cell_type": "code",
      "source": [
        "score_nn = 85.08"
      ],
      "metadata": {
        "id": "9xi5FNKQzQD4"
      },
      "execution_count": null,
      "outputs": []
    },
    {
      "cell_type": "markdown",
      "source": [
        "##Accuracy Comperision"
      ],
      "metadata": {
        "id": "L30nP3jOvKz8"
      }
    },
    {
      "cell_type": "code",
      "source": [
        "accuracy_scores = {'Logistic Regression':score_lr,'confusion Matrix':score_cm,'Naive Bayes':score_nb,'SVM':score_svm,\n",
        "                   'K Nearest Neighbors':score_knn,'Neural Network':score_nn,'XGBoost':score_xgb}\n",
        "classifiers = list(accuracy_scores.keys())\n",
        "Accuracy = list(accuracy_scores.values())\n",
        "\n",
        "fig = plt.figure(figsize = (10,7))\n",
        "\n",
        "plt.bar(classifiers,Accuracy,color = 'orange', width=0.4)\n",
        "\n",
        "plt.xlabel(\"Classifiers\")\n",
        "plt.ylabel(\"Accuracies of classifiers\")\n",
        "plt.title(\"Accuracy comparision of all classifiers\")\n",
        "plt.show()\n",
        "\n"
      ],
      "metadata": {
        "colab": {
          "base_uri": "https://localhost:8080/",
          "height": 458
        },
        "id": "knt6X74MvQ68",
        "outputId": "4418f0a4-c5f9-4848-b582-92c5d25438ed"
      },
      "execution_count": null,
      "outputs": [
        {
          "output_type": "display_data",
          "data": {
            "text/plain": [
              "<Figure size 720x504 with 1 Axes>"
            ],
            "image/png": "[encoded data removed]"
          },
          "metadata": {
            "needs_background": "light"
          }
        }
      ]
    },
    {
      "cell_type": "markdown",
      "source": [
        "#Prediction Section"
      ],
      "metadata": {
        "id": "RWftXOS8lZH_"
      }
    },
    {
      "cell_type": "markdown",
      "source": [
        "Building a Predictive System"
      ],
      "metadata": {
        "id": "bOyemNaEm4aw"
      }
    },
    {
      "cell_type": "code",
      "source": [
        "input_data = (62,0,0,140,268,0,0,160,0,3.6,0,2,2)\n",
        "\n",
        "#change the input data to a numpy array\n",
        "input_data_as_numpy_array = np.asarray(input_data)\n",
        "\n",
        "#reshape the numpy array as we are predictingg for only on instance\n",
        "input_data_reshaped = input_data_as_numpy_array.reshape(1,-1)\n",
        "prediction_ans = model.predict(input_data_reshaped)\n",
        "print(prediction_ans)\n",
        "\n",
        "if(prediction_ans[0]==0):\n",
        "  print('Tht Person does not have a Heart Disease')\n",
        "else:\n",
        "  print('The Person has Heart Disease')\n",
        "    \n"
      ],
      "metadata": {
        "id": "xTxpAkyDm9S9",
        "colab": {
          "base_uri": "https://localhost:8080/"
        },
        "outputId": "1151adac-78c8-4019-df37-767f0174e4b2"
      },
      "execution_count": null,
      "outputs": [
        {
          "output_type": "stream",
          "name": "stdout",
          "text": [
            "[[0.08155358]]\n",
            "The Person has Heart Disease\n"
          ]
        }
      ]
    },
    {
      "cell_type": "code",
      "source": [
        ""
      ],
      "metadata": {
        "id": "VkvPVzXbt4oi"
      },
      "execution_count": null,
      "outputs": []
    }
  ]
}