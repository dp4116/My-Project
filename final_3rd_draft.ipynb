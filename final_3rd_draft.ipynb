{
  "nbformat": 4,
  "nbformat_minor": 0,
  "metadata": {
    "colab": {
      "name": "Prashant's Copy of 3rd draft.ipynb",
      "provenance": [],
      "collapsed_sections": [],
      "include_colab_link": true
    },
    "kernelspec": {
      "name": "python3",
      "display_name": "Python 3"
    },
    "language_info": {
      "name": "python"
    }
  },
  "cells": [
    {
      "cell_type": "markdown",
      "metadata": {
        "id": "view-in-github",
        "colab_type": "text"
      },
      "source": [
        "<a href=\"https://colab.research.google.com/github/dp4116/My-Project/blob/main/final_3rd_draft.ipynb\" target=\"_parent\"><img src=\"https://colab.research.google.com/assets/colab-badge.svg\" alt=\"Open In Colab\"/></a>"
      ]
    },
    {
      "cell_type": "markdown",
      "source": [
        "Importing the Dependecies"
      ],
      "metadata": {
        "id": "bHzQZYKHdeYq"
      }
    },
    {
      "cell_type": "code",
      "source": [
        "import numpy as np\n",
        "import pandas as pd\n",
        "import matplotlib.pyplot as plt\n",
        "import seaborn as sns\n",
        "from sklearn.metrics import accuracy_score\n",
        "\n",
        "%matplotlib inline\n",
        "\n",
        "import os\n",
        "print(os.listdir())\n",
        "\n",
        "import warnings\n",
        "warnings.filterwarnings('ignore')"
      ],
      "metadata": {
        "id": "oLSC3zeqdnoW",
        "colab": {
          "base_uri": "https://localhost:8080/"
        },
        "outputId": "7df13a29-0c93-46a0-fb1a-d4df6b2ee9b1"
      },
      "execution_count": null,
      "outputs": [
        {
          "output_type": "stream",
          "name": "stdout",
          "text": [
            "['.config', 'heart.csv', '.ipynb_checkpoints', 'sample_data']\n"
          ]
        }
      ]
    },
    {
      "cell_type": "markdown",
      "source": [
        "Data Processing"
      ],
      "metadata": {
        "id": "AITSADDkeMKt"
      }
    },
    {
      "cell_type": "code",
      "source": [
        "dataset = pd.read_csv('/content/heart.csv')"
      ],
      "metadata": {
        "id": "yYXfvFh8eSIj"
      },
      "execution_count": null,
      "outputs": []
    },
    {
      "cell_type": "code",
      "source": [
        "dataset.head()"
      ],
      "metadata": {
        "id": "4vcrTPg7fA2e",
        "colab": {
          "base_uri": "https://localhost:8080/",
          "height": 206
        },
        "outputId": "8787de3d-6018-42ca-8ac9-aaeaf217b8c5"
      },
      "execution_count": null,
      "outputs": [
        {
          "output_type": "execute_result",
          "data": {
            "text/plain": [
              "   age  sex  cp  trestbps  chol  fbs  restecg  thalach  exang  oldpeak  slope  \\\n",
              "0   52    1   0       125   212    0        1      168      0      1.0      2   \n",
              "1   53    1   0       140   203    1        0      155      1      3.1      0   \n",
              "2   70    1   0       145   174    0        1      125      1      2.6      0   \n",
              "3   61    1   0       148   203    0        1      161      0      0.0      2   \n",
              "4   62    0   0       138   294    1        1      106      0      1.9      1   \n",
              "\n",
              "   ca  thal  target  \n",
              "0   2     3       0  \n",
              "1   0     3       0  \n",
              "2   0     3       0  \n",
              "3   1     3       0  \n",
              "4   3     2       0  "
            ],
            "text/html": [
              "\n",
              "  <div id=\"df-6cdb9e89-24e5-4ce5-8c06-6c3a958b9dfe\">\n",
              "    <div class=\"colab-df-container\">\n",
              "      <div>\n",
              "<style scoped>\n",
              "    .dataframe tbody tr th:only-of-type {\n",
              "        vertical-align: middle;\n",
              "    }\n",
              "\n",
              "    .dataframe tbody tr th {\n",
              "        vertical-align: top;\n",
              "    }\n",
              "\n",
              "    .dataframe thead th {\n",
              "        text-align: right;\n",
              "    }\n",
              "</style>\n",
              "<table border=\"1\" class=\"dataframe\">\n",
              "  <thead>\n",
              "    <tr style=\"text-align: right;\">\n",
              "      <th></th>\n",
              "      <th>age</th>\n",
              "      <th>sex</th>\n",
              "      <th>cp</th>\n",
              "      <th>trestbps</th>\n",
              "      <th>chol</th>\n",
              "      <th>fbs</th>\n",
              "      <th>restecg</th>\n",
              "      <th>thalach</th>\n",
              "      <th>exang</th>\n",
              "      <th>oldpeak</th>\n",
              "      <th>slope</th>\n",
              "      <th>ca</th>\n",
              "      <th>thal</th>\n",
              "      <th>target</th>\n",
              "    </tr>\n",
              "  </thead>\n",
              "  <tbody>\n",
              "    <tr>\n",
              "      <th>0</th>\n",
              "      <td>52</td>\n",
              "      <td>1</td>\n",
              "      <td>0</td>\n",
              "      <td>125</td>\n",
              "      <td>212</td>\n",
              "      <td>0</td>\n",
              "      <td>1</td>\n",
              "      <td>168</td>\n",
              "      <td>0</td>\n",
              "      <td>1.0</td>\n",
              "      <td>2</td>\n",
              "      <td>2</td>\n",
              "      <td>3</td>\n",
              "      <td>0</td>\n",
              "    </tr>\n",
              "    <tr>\n",
              "      <th>1</th>\n",
              "      <td>53</td>\n",
              "      <td>1</td>\n",
              "      <td>0</td>\n",
              "      <td>140</td>\n",
              "      <td>203</td>\n",
              "      <td>1</td>\n",
              "      <td>0</td>\n",
              "      <td>155</td>\n",
              "      <td>1</td>\n",
              "      <td>3.1</td>\n",
              "      <td>0</td>\n",
              "      <td>0</td>\n",
              "      <td>3</td>\n",
              "      <td>0</td>\n",
              "    </tr>\n",
              "    <tr>\n",
              "      <th>2</th>\n",
              "      <td>70</td>\n",
              "      <td>1</td>\n",
              "      <td>0</td>\n",
              "      <td>145</td>\n",
              "      <td>174</td>\n",
              "      <td>0</td>\n",
              "      <td>1</td>\n",
              "      <td>125</td>\n",
              "      <td>1</td>\n",
              "      <td>2.6</td>\n",
              "      <td>0</td>\n",
              "      <td>0</td>\n",
              "      <td>3</td>\n",
              "      <td>0</td>\n",
              "    </tr>\n",
              "    <tr>\n",
              "      <th>3</th>\n",
              "      <td>61</td>\n",
              "      <td>1</td>\n",
              "      <td>0</td>\n",
              "      <td>148</td>\n",
              "      <td>203</td>\n",
              "      <td>0</td>\n",
              "      <td>1</td>\n",
              "      <td>161</td>\n",
              "      <td>0</td>\n",
              "      <td>0.0</td>\n",
              "      <td>2</td>\n",
              "      <td>1</td>\n",
              "      <td>3</td>\n",
              "      <td>0</td>\n",
              "    </tr>\n",
              "    <tr>\n",
              "      <th>4</th>\n",
              "      <td>62</td>\n",
              "      <td>0</td>\n",
              "      <td>0</td>\n",
              "      <td>138</td>\n",
              "      <td>294</td>\n",
              "      <td>1</td>\n",
              "      <td>1</td>\n",
              "      <td>106</td>\n",
              "      <td>0</td>\n",
              "      <td>1.9</td>\n",
              "      <td>1</td>\n",
              "      <td>3</td>\n",
              "      <td>2</td>\n",
              "      <td>0</td>\n",
              "    </tr>\n",
              "  </tbody>\n",
              "</table>\n",
              "</div>\n",
              "      <button class=\"colab-df-convert\" onclick=\"convertToInteractive('df-6cdb9e89-24e5-4ce5-8c06-6c3a958b9dfe')\"\n",
              "              title=\"Convert this dataframe to an interactive table.\"\n",
              "              style=\"display:none;\">\n",
              "        \n",
              "  <svg xmlns=\"http://www.w3.org/2000/svg\" height=\"24px\"viewBox=\"0 0 24 24\"\n",
              "       width=\"24px\">\n",
              "    <path d=\"M0 0h24v24H0V0z\" fill=\"none\"/>\n",
              "    <path d=\"M18.56 5.44l.94 2.06.94-2.06 2.06-.94-2.06-.94-.94-2.06-.94 2.06-2.06.94zm-11 1L8.5 8.5l.94-2.06 2.06-.94-2.06-.94L8.5 2.5l-.94 2.06-2.06.94zm10 10l.94 2.06.94-2.06 2.06-.94-2.06-.94-.94-2.06-.94 2.06-2.06.94z\"/><path d=\"M17.41 7.96l-1.37-1.37c-.4-.4-.92-.59-1.43-.59-.52 0-1.04.2-1.43.59L10.3 9.45l-7.72 7.72c-.78.78-.78 2.05 0 2.83L4 21.41c.39.39.9.59 1.41.59.51 0 1.02-.2 1.41-.59l7.78-7.78 2.81-2.81c.8-.78.8-2.07 0-2.86zM5.41 20L4 18.59l7.72-7.72 1.47 1.35L5.41 20z\"/>\n",
              "  </svg>\n",
              "      </button>\n",
              "      \n",
              "  <style>\n",
              "    .colab-df-container {\n",
              "      display:flex;\n",
              "      flex-wrap:wrap;\n",
              "      gap: 12px;\n",
              "    }\n",
              "\n",
              "    .colab-df-convert {\n",
              "      background-color: #E8F0FE;\n",
              "      border: none;\n",
              "      border-radius: 50%;\n",
              "      cursor: pointer;\n",
              "      display: none;\n",
              "      fill: #1967D2;\n",
              "      height: 32px;\n",
              "      padding: 0 0 0 0;\n",
              "      width: 32px;\n",
              "    }\n",
              "\n",
              "    .colab-df-convert:hover {\n",
              "      background-color: #E2EBFA;\n",
              "      box-shadow: 0px 1px 2px rgba(60, 64, 67, 0.3), 0px 1px 3px 1px rgba(60, 64, 67, 0.15);\n",
              "      fill: #174EA6;\n",
              "    }\n",
              "\n",
              "    [theme=dark] .colab-df-convert {\n",
              "      background-color: #3B4455;\n",
              "      fill: #D2E3FC;\n",
              "    }\n",
              "\n",
              "    [theme=dark] .colab-df-convert:hover {\n",
              "      background-color: #434B5C;\n",
              "      box-shadow: 0px 1px 3px 1px rgba(0, 0, 0, 0.15);\n",
              "      filter: drop-shadow(0px 1px 2px rgba(0, 0, 0, 0.3));\n",
              "      fill: #FFFFFF;\n",
              "    }\n",
              "  </style>\n",
              "\n",
              "      <script>\n",
              "        const buttonEl =\n",
              "          document.querySelector('#df-6cdb9e89-24e5-4ce5-8c06-6c3a958b9dfe button.colab-df-convert');\n",
              "        buttonEl.style.display =\n",
              "          google.colab.kernel.accessAllowed ? 'block' : 'none';\n",
              "\n",
              "        async function convertToInteractive(key) {\n",
              "          const element = document.querySelector('#df-6cdb9e89-24e5-4ce5-8c06-6c3a958b9dfe');\n",
              "          const dataTable =\n",
              "            await google.colab.kernel.invokeFunction('convertToInteractive',\n",
              "                                                     [key], {});\n",
              "          if (!dataTable) return;\n",
              "\n",
              "          const docLinkHtml = 'Like what you see? Visit the ' +\n",
              "            '<a target=\"_blank\" href=https://colab.research.google.com/notebooks/data_table.ipynb>data table notebook</a>'\n",
              "            + ' to learn more about interactive tables.';\n",
              "          element.innerHTML = '';\n",
              "          dataTable['output_type'] = 'display_data';\n",
              "          await google.colab.output.renderOutput(dataTable, element);\n",
              "          const docLink = document.createElement('div');\n",
              "          docLink.innerHTML = docLinkHtml;\n",
              "          element.appendChild(docLink);\n",
              "        }\n",
              "      </script>\n",
              "    </div>\n",
              "  </div>\n",
              "  "
            ]
          },
          "metadata": {},
          "execution_count": 124
        }
      ]
    },
    {
      "cell_type": "code",
      "source": [
        "dataset.shape"
      ],
      "metadata": {
        "id": "gUAGNlFSfHIz",
        "colab": {
          "base_uri": "https://localhost:8080/"
        },
        "outputId": "db973e3a-64b3-4f32-a751-146b30eb764f"
      },
      "execution_count": null,
      "outputs": [
        {
          "output_type": "execute_result",
          "data": {
            "text/plain": [
              "(1025, 14)"
            ]
          },
          "metadata": {},
          "execution_count": 125
        }
      ]
    },
    {
      "cell_type": "code",
      "metadata": {
        "id": "7_xTcw1Sr6aJ",
        "colab": {
          "base_uri": "https://localhost:8080/"
        },
        "outputId": "4380e32c-2fdf-4d63-d09e-4648acf91dbc"
      },
      "source": [
        "# getting some info about the data\n",
        "dataset.info()"
      ],
      "execution_count": null,
      "outputs": [
        {
          "output_type": "stream",
          "name": "stdout",
          "text": [
            "<class 'pandas.core.frame.DataFrame'>\n",
            "RangeIndex: 1025 entries, 0 to 1024\n",
            "Data columns (total 14 columns):\n",
            " #   Column    Non-Null Count  Dtype  \n",
            "---  ------    --------------  -----  \n",
            " 0   age       1025 non-null   int64  \n",
            " 1   sex       1025 non-null   int64  \n",
            " 2   cp        1025 non-null   int64  \n",
            " 3   trestbps  1025 non-null   int64  \n",
            " 4   chol      1025 non-null   int64  \n",
            " 5   fbs       1025 non-null   int64  \n",
            " 6   restecg   1025 non-null   int64  \n",
            " 7   thalach   1025 non-null   int64  \n",
            " 8   exang     1025 non-null   int64  \n",
            " 9   oldpeak   1025 non-null   float64\n",
            " 10  slope     1025 non-null   int64  \n",
            " 11  ca        1025 non-null   int64  \n",
            " 12  thal      1025 non-null   int64  \n",
            " 13  target    1025 non-null   int64  \n",
            "dtypes: float64(1), int64(13)\n",
            "memory usage: 112.2 KB\n"
          ]
        }
      ]
    },
    {
      "cell_type": "code",
      "source": [
        "#checking for missing values in data set\n",
        "dataset.isnull().sum()"
      ],
      "metadata": {
        "id": "v_R8WJFRfqoF",
        "colab": {
          "base_uri": "https://localhost:8080/"
        },
        "outputId": "d336dd82-adb4-4919-f818-98e1dd385590"
      },
      "execution_count": null,
      "outputs": [
        {
          "output_type": "execute_result",
          "data": {
            "text/plain": [
              "age         0\n",
              "sex         0\n",
              "cp          0\n",
              "trestbps    0\n",
              "chol        0\n",
              "fbs         0\n",
              "restecg     0\n",
              "thalach     0\n",
              "exang       0\n",
              "oldpeak     0\n",
              "slope       0\n",
              "ca          0\n",
              "thal        0\n",
              "target      0\n",
              "dtype: int64"
            ]
          },
          "metadata": {},
          "execution_count": 127
        }
      ]
    },
    {
      "cell_type": "code",
      "source": [
        "#statistical measures about the data\n",
        "dataset.describe()"
      ],
      "metadata": {
        "id": "ZUdHTRZpfspA",
        "colab": {
          "base_uri": "https://localhost:8080/",
          "height": 364
        },
        "outputId": "d2457c4f-d4e8-47c1-eb28-6cd705dfff8d"
      },
      "execution_count": null,
      "outputs": [
        {
          "output_type": "execute_result",
          "data": {
            "text/plain": [
              "               age          sex           cp     trestbps        chol  \\\n",
              "count  1025.000000  1025.000000  1025.000000  1025.000000  1025.00000   \n",
              "mean     54.434146     0.695610     0.942439   131.611707   246.00000   \n",
              "std       9.072290     0.460373     1.029641    17.516718    51.59251   \n",
              "min      29.000000     0.000000     0.000000    94.000000   126.00000   \n",
              "25%      48.000000     0.000000     0.000000   120.000000   211.00000   \n",
              "50%      56.000000     1.000000     1.000000   130.000000   240.00000   \n",
              "75%      61.000000     1.000000     2.000000   140.000000   275.00000   \n",
              "max      77.000000     1.000000     3.000000   200.000000   564.00000   \n",
              "\n",
              "               fbs      restecg      thalach        exang      oldpeak  \\\n",
              "count  1025.000000  1025.000000  1025.000000  1025.000000  1025.000000   \n",
              "mean      0.149268     0.529756   149.114146     0.336585     1.071512   \n",
              "std       0.356527     0.527878    23.005724     0.472772     1.175053   \n",
              "min       0.000000     0.000000    71.000000     0.000000     0.000000   \n",
              "25%       0.000000     0.000000   132.000000     0.000000     0.000000   \n",
              "50%       0.000000     1.000000   152.000000     0.000000     0.800000   \n",
              "75%       0.000000     1.000000   166.000000     1.000000     1.800000   \n",
              "max       1.000000     2.000000   202.000000     1.000000     6.200000   \n",
              "\n",
              "             slope           ca         thal       target  \n",
              "count  1025.000000  1025.000000  1025.000000  1025.000000  \n",
              "mean      1.385366     0.754146     2.323902     0.513171  \n",
              "std       0.617755     1.030798     0.620660     0.500070  \n",
              "min       0.000000     0.000000     0.000000     0.000000  \n",
              "25%       1.000000     0.000000     2.000000     0.000000  \n",
              "50%       1.000000     0.000000     2.000000     1.000000  \n",
              "75%       2.000000     1.000000     3.000000     1.000000  \n",
              "max       2.000000     4.000000     3.000000     1.000000  "
            ],
            "text/html": [
              "\n",
              "  <div id=\"df-c7be8470-9460-4223-8710-24f39ad3fffe\">\n",
              "    <div class=\"colab-df-container\">\n",
              "      <div>\n",
              "<style scoped>\n",
              "    .dataframe tbody tr th:only-of-type {\n",
              "        vertical-align: middle;\n",
              "    }\n",
              "\n",
              "    .dataframe tbody tr th {\n",
              "        vertical-align: top;\n",
              "    }\n",
              "\n",
              "    .dataframe thead th {\n",
              "        text-align: right;\n",
              "    }\n",
              "</style>\n",
              "<table border=\"1\" class=\"dataframe\">\n",
              "  <thead>\n",
              "    <tr style=\"text-align: right;\">\n",
              "      <th></th>\n",
              "      <th>age</th>\n",
              "      <th>sex</th>\n",
              "      <th>cp</th>\n",
              "      <th>trestbps</th>\n",
              "      <th>chol</th>\n",
              "      <th>fbs</th>\n",
              "      <th>restecg</th>\n",
              "      <th>thalach</th>\n",
              "      <th>exang</th>\n",
              "      <th>oldpeak</th>\n",
              "      <th>slope</th>\n",
              "      <th>ca</th>\n",
              "      <th>thal</th>\n",
              "      <th>target</th>\n",
              "    </tr>\n",
              "  </thead>\n",
              "  <tbody>\n",
              "    <tr>\n",
              "      <th>count</th>\n",
              "      <td>1025.000000</td>\n",
              "      <td>1025.000000</td>\n",
              "      <td>1025.000000</td>\n",
              "      <td>1025.000000</td>\n",
              "      <td>1025.00000</td>\n",
              "      <td>1025.000000</td>\n",
              "      <td>1025.000000</td>\n",
              "      <td>1025.000000</td>\n",
              "      <td>1025.000000</td>\n",
              "      <td>1025.000000</td>\n",
              "      <td>1025.000000</td>\n",
              "      <td>1025.000000</td>\n",
              "      <td>1025.000000</td>\n",
              "      <td>1025.000000</td>\n",
              "    </tr>\n",
              "    <tr>\n",
              "      <th>mean</th>\n",
              "      <td>54.434146</td>\n",
              "      <td>0.695610</td>\n",
              "      <td>0.942439</td>\n",
              "      <td>131.611707</td>\n",
              "      <td>246.00000</td>\n",
              "      <td>0.149268</td>\n",
              "      <td>0.529756</td>\n",
              "      <td>149.114146</td>\n",
              "      <td>0.336585</td>\n",
              "      <td>1.071512</td>\n",
              "      <td>1.385366</td>\n",
              "      <td>0.754146</td>\n",
              "      <td>2.323902</td>\n",
              "      <td>0.513171</td>\n",
              "    </tr>\n",
              "    <tr>\n",
              "      <th>std</th>\n",
              "      <td>9.072290</td>\n",
              "      <td>0.460373</td>\n",
              "      <td>1.029641</td>\n",
              "      <td>17.516718</td>\n",
              "      <td>51.59251</td>\n",
              "      <td>0.356527</td>\n",
              "      <td>0.527878</td>\n",
              "      <td>23.005724</td>\n",
              "      <td>0.472772</td>\n",
              "      <td>1.175053</td>\n",
              "      <td>0.617755</td>\n",
              "      <td>1.030798</td>\n",
              "      <td>0.620660</td>\n",
              "      <td>0.500070</td>\n",
              "    </tr>\n",
              "    <tr>\n",
              "      <th>min</th>\n",
              "      <td>29.000000</td>\n",
              "      <td>0.000000</td>\n",
              "      <td>0.000000</td>\n",
              "      <td>94.000000</td>\n",
              "      <td>126.00000</td>\n",
              "      <td>0.000000</td>\n",
              "      <td>0.000000</td>\n",
              "      <td>71.000000</td>\n",
              "      <td>0.000000</td>\n",
              "      <td>0.000000</td>\n",
              "      <td>0.000000</td>\n",
              "      <td>0.000000</td>\n",
              "      <td>0.000000</td>\n",
              "      <td>0.000000</td>\n",
              "    </tr>\n",
              "    <tr>\n",
              "      <th>25%</th>\n",
              "      <td>48.000000</td>\n",
              "      <td>0.000000</td>\n",
              "      <td>0.000000</td>\n",
              "      <td>120.000000</td>\n",
              "      <td>211.00000</td>\n",
              "      <td>0.000000</td>\n",
              "      <td>0.000000</td>\n",
              "      <td>132.000000</td>\n",
              "      <td>0.000000</td>\n",
              "      <td>0.000000</td>\n",
              "      <td>1.000000</td>\n",
              "      <td>0.000000</td>\n",
              "      <td>2.000000</td>\n",
              "      <td>0.000000</td>\n",
              "    </tr>\n",
              "    <tr>\n",
              "      <th>50%</th>\n",
              "      <td>56.000000</td>\n",
              "      <td>1.000000</td>\n",
              "      <td>1.000000</td>\n",
              "      <td>130.000000</td>\n",
              "      <td>240.00000</td>\n",
              "      <td>0.000000</td>\n",
              "      <td>1.000000</td>\n",
              "      <td>152.000000</td>\n",
              "      <td>0.000000</td>\n",
              "      <td>0.800000</td>\n",
              "      <td>1.000000</td>\n",
              "      <td>0.000000</td>\n",
              "      <td>2.000000</td>\n",
              "      <td>1.000000</td>\n",
              "    </tr>\n",
              "    <tr>\n",
              "      <th>75%</th>\n",
              "      <td>61.000000</td>\n",
              "      <td>1.000000</td>\n",
              "      <td>2.000000</td>\n",
              "      <td>140.000000</td>\n",
              "      <td>275.00000</td>\n",
              "      <td>0.000000</td>\n",
              "      <td>1.000000</td>\n",
              "      <td>166.000000</td>\n",
              "      <td>1.000000</td>\n",
              "      <td>1.800000</td>\n",
              "      <td>2.000000</td>\n",
              "      <td>1.000000</td>\n",
              "      <td>3.000000</td>\n",
              "      <td>1.000000</td>\n",
              "    </tr>\n",
              "    <tr>\n",
              "      <th>max</th>\n",
              "      <td>77.000000</td>\n",
              "      <td>1.000000</td>\n",
              "      <td>3.000000</td>\n",
              "      <td>200.000000</td>\n",
              "      <td>564.00000</td>\n",
              "      <td>1.000000</td>\n",
              "      <td>2.000000</td>\n",
              "      <td>202.000000</td>\n",
              "      <td>1.000000</td>\n",
              "      <td>6.200000</td>\n",
              "      <td>2.000000</td>\n",
              "      <td>4.000000</td>\n",
              "      <td>3.000000</td>\n",
              "      <td>1.000000</td>\n",
              "    </tr>\n",
              "  </tbody>\n",
              "</table>\n",
              "</div>\n",
              "      <button class=\"colab-df-convert\" onclick=\"convertToInteractive('df-c7be8470-9460-4223-8710-24f39ad3fffe')\"\n",
              "              title=\"Convert this dataframe to an interactive table.\"\n",
              "              style=\"display:none;\">\n",
              "        \n",
              "  <svg xmlns=\"http://www.w3.org/2000/svg\" height=\"24px\"viewBox=\"0 0 24 24\"\n",
              "       width=\"24px\">\n",
              "    <path d=\"M0 0h24v24H0V0z\" fill=\"none\"/>\n",
              "    <path d=\"M18.56 5.44l.94 2.06.94-2.06 2.06-.94-2.06-.94-.94-2.06-.94 2.06-2.06.94zm-11 1L8.5 8.5l.94-2.06 2.06-.94-2.06-.94L8.5 2.5l-.94 2.06-2.06.94zm10 10l.94 2.06.94-2.06 2.06-.94-2.06-.94-.94-2.06-.94 2.06-2.06.94z\"/><path d=\"M17.41 7.96l-1.37-1.37c-.4-.4-.92-.59-1.43-.59-.52 0-1.04.2-1.43.59L10.3 9.45l-7.72 7.72c-.78.78-.78 2.05 0 2.83L4 21.41c.39.39.9.59 1.41.59.51 0 1.02-.2 1.41-.59l7.78-7.78 2.81-2.81c.8-.78.8-2.07 0-2.86zM5.41 20L4 18.59l7.72-7.72 1.47 1.35L5.41 20z\"/>\n",
              "  </svg>\n",
              "      </button>\n",
              "      \n",
              "  <style>\n",
              "    .colab-df-container {\n",
              "      display:flex;\n",
              "      flex-wrap:wrap;\n",
              "      gap: 12px;\n",
              "    }\n",
              "\n",
              "    .colab-df-convert {\n",
              "      background-color: #E8F0FE;\n",
              "      border: none;\n",
              "      border-radius: 50%;\n",
              "      cursor: pointer;\n",
              "      display: none;\n",
              "      fill: #1967D2;\n",
              "      height: 32px;\n",
              "      padding: 0 0 0 0;\n",
              "      width: 32px;\n",
              "    }\n",
              "\n",
              "    .colab-df-convert:hover {\n",
              "      background-color: #E2EBFA;\n",
              "      box-shadow: 0px 1px 2px rgba(60, 64, 67, 0.3), 0px 1px 3px 1px rgba(60, 64, 67, 0.15);\n",
              "      fill: #174EA6;\n",
              "    }\n",
              "\n",
              "    [theme=dark] .colab-df-convert {\n",
              "      background-color: #3B4455;\n",
              "      fill: #D2E3FC;\n",
              "    }\n",
              "\n",
              "    [theme=dark] .colab-df-convert:hover {\n",
              "      background-color: #434B5C;\n",
              "      box-shadow: 0px 1px 3px 1px rgba(0, 0, 0, 0.15);\n",
              "      filter: drop-shadow(0px 1px 2px rgba(0, 0, 0, 0.3));\n",
              "      fill: #FFFFFF;\n",
              "    }\n",
              "  </style>\n",
              "\n",
              "      <script>\n",
              "        const buttonEl =\n",
              "          document.querySelector('#df-c7be8470-9460-4223-8710-24f39ad3fffe button.colab-df-convert');\n",
              "        buttonEl.style.display =\n",
              "          google.colab.kernel.accessAllowed ? 'block' : 'none';\n",
              "\n",
              "        async function convertToInteractive(key) {\n",
              "          const element = document.querySelector('#df-c7be8470-9460-4223-8710-24f39ad3fffe');\n",
              "          const dataTable =\n",
              "            await google.colab.kernel.invokeFunction('convertToInteractive',\n",
              "                                                     [key], {});\n",
              "          if (!dataTable) return;\n",
              "\n",
              "          const docLinkHtml = 'Like what you see? Visit the ' +\n",
              "            '<a target=\"_blank\" href=https://colab.research.google.com/notebooks/data_table.ipynb>data table notebook</a>'\n",
              "            + ' to learn more about interactive tables.';\n",
              "          element.innerHTML = '';\n",
              "          dataTable['output_type'] = 'display_data';\n",
              "          await google.colab.output.renderOutput(dataTable, element);\n",
              "          const docLink = document.createElement('div');\n",
              "          docLink.innerHTML = docLinkHtml;\n",
              "          element.appendChild(docLink);\n",
              "        }\n",
              "      </script>\n",
              "    </div>\n",
              "  </div>\n",
              "  "
            ]
          },
          "metadata": {},
          "execution_count": 128
        }
      ]
    },
    {
      "cell_type": "code",
      "source": [
        "print(dataset.corr()[\"target\"].abs().sort_values(ascending=False))"
      ],
      "metadata": {
        "colab": {
          "base_uri": "https://localhost:8080/"
        },
        "id": "mn5zxFfnd66M",
        "outputId": "9555b14e-70f9-4286-8d97-ad9dd097d01e"
      },
      "execution_count": null,
      "outputs": [
        {
          "output_type": "stream",
          "name": "stdout",
          "text": [
            "target      1.000000\n",
            "oldpeak     0.438441\n",
            "exang       0.438029\n",
            "cp          0.434854\n",
            "thalach     0.422895\n",
            "ca          0.382085\n",
            "slope       0.345512\n",
            "thal        0.337838\n",
            "sex         0.279501\n",
            "age         0.229324\n",
            "trestbps    0.138772\n",
            "restecg     0.134468\n",
            "chol        0.099966\n",
            "fbs         0.041164\n",
            "Name: target, dtype: float64\n"
          ]
        }
      ]
    },
    {
      "cell_type": "markdown",
      "source": [
        "Analysing Target feature"
      ],
      "metadata": {
        "id": "GLtxNpwDG8x-"
      }
    },
    {
      "cell_type": "code",
      "source": [
        "ax = sns.countplot(dataset[\"target\"],palette =\"cubehelix\" )\n",
        "target_temp = dataset.target.value_counts()\n",
        "print(target_temp)"
      ],
      "metadata": {
        "colab": {
          "base_uri": "https://localhost:8080/",
          "height": 331
        },
        "id": "NbLw6Kg5eG_I",
        "outputId": "783deaa6-5831-4c46-8ba9-c03ced4d57cb"
      },
      "execution_count": null,
      "outputs": [
        {
          "output_type": "stream",
          "name": "stdout",
          "text": [
            "1    526\n",
            "0    499\n",
            "Name: target, dtype: int64\n"
          ]
        },
        {
          "output_type": "display_data",
          "data": {
            "text/plain": [
              "<Figure size 432x288 with 1 Axes>"
            ],
            "image/png": "[encoded data removed]"
          },
          "metadata": {
            "needs_background": "light"
          }
        }
      ]
    },
    {
      "cell_type": "code",
      "source": [
        "print(\"Percentage of patients without heart problems: \"+str(round(target_temp[0]*100/303,2)))\n",
        "print(\"Percentage of patients with heart problems: \"+str(round(target_temp[1]*100/303,2)))"
      ],
      "metadata": {
        "colab": {
          "base_uri": "https://localhost:8080/"
        },
        "id": "6mvEWqoIeUuy",
        "outputId": "e6228fe7-77a7-4ab1-d658-f12543f9d53c"
      },
      "execution_count": null,
      "outputs": [
        {
          "output_type": "stream",
          "name": "stdout",
          "text": [
            "Percentage of patients without heart problems: 164.69\n",
            "Percentage of patients with heart problems: 173.6\n"
          ]
        }
      ]
    },
    {
      "cell_type": "markdown",
      "source": [
        "Analysing Sex feature"
      ],
      "metadata": {
        "id": "R29hpFFaHPF-"
      }
    },
    {
      "cell_type": "code",
      "source": [
        "dataset[\"sex\"].unique()"
      ],
      "metadata": {
        "colab": {
          "base_uri": "https://localhost:8080/"
        },
        "id": "6rI0ArdkeWao",
        "outputId": "279fba6a-b853-491d-e71c-fe47710cd698"
      },
      "execution_count": null,
      "outputs": [
        {
          "output_type": "execute_result",
          "data": {
            "text/plain": [
              "array([1, 0])"
            ]
          },
          "metadata": {},
          "execution_count": 132
        }
      ]
    },
    {
      "cell_type": "code",
      "source": [
        "sns.barplot(dataset[\"sex\"],dataset[\"target\"])"
      ],
      "metadata": {
        "colab": {
          "base_uri": "https://localhost:8080/",
          "height": 296
        },
        "id": "s2h56OzCelaf",
        "outputId": "92ca8341-5ee7-47de-9133-2df8e7fdd53b"
      },
      "execution_count": null,
      "outputs": [
        {
          "output_type": "execute_result",
          "data": {
            "text/plain": [
              "<matplotlib.axes._subplots.AxesSubplot at 0x7ff5c6023a90>"
            ]
          },
          "metadata": {},
          "execution_count": 133
        },
        {
          "output_type": "display_data",
          "data": {
            "text/plain": [
              "<Figure size 432x288 with 1 Axes>"
            ],
            "image/png": "[encoded data removed]"
          },
          "metadata": {
            "needs_background": "light"
          }
        }
      ]
    },
    {
      "cell_type": "markdown",
      "source": [
        "Analysing Chest Pain feature"
      ],
      "metadata": {
        "id": "7uEXOwGaHplJ"
      }
    },
    {
      "cell_type": "code",
      "source": [
        "dataset[\"cp\"].unique()"
      ],
      "metadata": {
        "id": "tQU6i3iLw-T3",
        "colab": {
          "base_uri": "https://localhost:8080/"
        },
        "outputId": "8002c06d-6e7e-47da-f3a5-a5ab69b5d2c1"
      },
      "execution_count": null,
      "outputs": [
        {
          "output_type": "execute_result",
          "data": {
            "text/plain": [
              "array([0, 1, 2, 3])"
            ]
          },
          "metadata": {},
          "execution_count": 134
        }
      ]
    },
    {
      "cell_type": "code",
      "source": [
        "sns.barplot(dataset[\"cp\"],dataset[\"target\"])"
      ],
      "metadata": {
        "colab": {
          "base_uri": "https://localhost:8080/",
          "height": 296
        },
        "id": "eASVKXZgGvUN",
        "outputId": "9c830fb6-1025-4cb6-e7da-9d2a9cf50145"
      },
      "execution_count": null,
      "outputs": [
        {
          "output_type": "execute_result",
          "data": {
            "text/plain": [
              "<matplotlib.axes._subplots.AxesSubplot at 0x7ff5c4e8ad10>"
            ]
          },
          "metadata": {},
          "execution_count": 135
        },
        {
          "output_type": "display_data",
          "data": {
            "text/plain": [
              "<Figure size 432x288 with 1 Axes>"
            ],
            "image/png": "[encoded data removed]"
          },
          "metadata": {
            "needs_background": "light"
          }
        }
      ]
    },
    {
      "cell_type": "markdown",
      "source": [
        "Analysing the FBS feature "
      ],
      "metadata": {
        "id": "O9rBmkrwH3DI"
      }
    },
    {
      "cell_type": "code",
      "source": [
        "dataset[\"fbs\"].describe()"
      ],
      "metadata": {
        "colab": {
          "base_uri": "https://localhost:8080/"
        },
        "id": "bUL1vY5gH-mz",
        "outputId": "7b12f736-8193-40ef-9777-9bf21f0cae74"
      },
      "execution_count": null,
      "outputs": [
        {
          "output_type": "execute_result",
          "data": {
            "text/plain": [
              "count    1025.000000\n",
              "mean        0.149268\n",
              "std         0.356527\n",
              "min         0.000000\n",
              "25%         0.000000\n",
              "50%         0.000000\n",
              "75%         0.000000\n",
              "max         1.000000\n",
              "Name: fbs, dtype: float64"
            ]
          },
          "metadata": {},
          "execution_count": 136
        }
      ]
    },
    {
      "cell_type": "code",
      "source": [
        "sns.barplot(dataset[\"fbs\"],dataset[\"target\"])"
      ],
      "metadata": {
        "colab": {
          "base_uri": "https://localhost:8080/",
          "height": 296
        },
        "id": "ZTTA2JWCIEcs",
        "outputId": "a6dab719-6139-40cf-98f8-24576667af00"
      },
      "execution_count": null,
      "outputs": [
        {
          "output_type": "execute_result",
          "data": {
            "text/plain": [
              "<matplotlib.axes._subplots.AxesSubplot at 0x7ff5c5d11150>"
            ]
          },
          "metadata": {},
          "execution_count": 137
        },
        {
          "output_type": "display_data",
          "data": {
            "text/plain": [
              "<Figure size 432x288 with 1 Axes>"
            ],
            "image/png": "[encoded data removed]"
          },
          "metadata": {
            "needs_background": "light"
          }
        }
      ]
    },
    {
      "cell_type": "markdown",
      "source": [
        "Analysing the restecg feature"
      ],
      "metadata": {
        "id": "Eu5Hs1PvIRYH"
      }
    },
    {
      "cell_type": "code",
      "source": [
        "dataset[\"restecg\"].unique()"
      ],
      "metadata": {
        "colab": {
          "base_uri": "https://localhost:8080/"
        },
        "id": "iH1WH3FIIQ9t",
        "outputId": "47da5545-0f39-4db1-f4ea-64413a9f950e"
      },
      "execution_count": null,
      "outputs": [
        {
          "output_type": "execute_result",
          "data": {
            "text/plain": [
              "array([1, 0, 2])"
            ]
          },
          "metadata": {},
          "execution_count": 138
        }
      ]
    },
    {
      "cell_type": "code",
      "source": [
        "sns.barplot(dataset[\"restecg\"],dataset[\"target\"])"
      ],
      "metadata": {
        "colab": {
          "base_uri": "https://localhost:8080/",
          "height": 296
        },
        "id": "3VjTwg-tIf3X",
        "outputId": "6bd5e831-9fd0-4154-9cc1-d468988a3010"
      },
      "execution_count": null,
      "outputs": [
        {
          "output_type": "execute_result",
          "data": {
            "text/plain": [
              "<matplotlib.axes._subplots.AxesSubplot at 0x7ff5c4dbc810>"
            ]
          },
          "metadata": {},
          "execution_count": 139
        },
        {
          "output_type": "display_data",
          "data": {
            "text/plain": [
              "<Figure size 432x288 with 1 Axes>"
            ],
            "image/png": "[encoded data removed]"
          },
          "metadata": {
            "needs_background": "light"
          }
        }
      ]
    },
    {
      "cell_type": "markdown",
      "source": [
        "Analysing the 'exang' feature"
      ],
      "metadata": {
        "id": "BlzIDkuRIpVI"
      }
    },
    {
      "cell_type": "code",
      "source": [
        "dataset[\"exang\"].unique()"
      ],
      "metadata": {
        "colab": {
          "base_uri": "https://localhost:8080/"
        },
        "id": "7GeA7H04Iqhw",
        "outputId": "2f8fdcc8-dc41-4f47-a039-e0de7124c96a"
      },
      "execution_count": null,
      "outputs": [
        {
          "output_type": "execute_result",
          "data": {
            "text/plain": [
              "array([0, 1])"
            ]
          },
          "metadata": {},
          "execution_count": 140
        }
      ]
    },
    {
      "cell_type": "code",
      "source": [
        "sns.barplot(dataset[\"exang\"],dataset[\"target\"])"
      ],
      "metadata": {
        "colab": {
          "base_uri": "https://localhost:8080/",
          "height": 296
        },
        "id": "lNM1pTsdIs42",
        "outputId": "3ef138a2-e9ed-442b-a69c-67bc14d69ff3"
      },
      "execution_count": null,
      "outputs": [
        {
          "output_type": "execute_result",
          "data": {
            "text/plain": [
              "<matplotlib.axes._subplots.AxesSubplot at 0x7ff5c4d86d90>"
            ]
          },
          "metadata": {},
          "execution_count": 141
        },
        {
          "output_type": "display_data",
          "data": {
            "text/plain": [
              "<Figure size 432x288 with 1 Axes>"
            ],
            "image/png": "[encoded data removed]"
          },
          "metadata": {
            "needs_background": "light"
          }
        }
      ]
    },
    {
      "cell_type": "markdown",
      "source": [
        "Analysing the Slope feature"
      ],
      "metadata": {
        "id": "EjsiWQ5_IxlB"
      }
    },
    {
      "cell_type": "code",
      "source": [
        "dataset[\"slope\"].unique()"
      ],
      "metadata": {
        "colab": {
          "base_uri": "https://localhost:8080/"
        },
        "id": "TyTRzmC6I0N2",
        "outputId": "1c215e72-4f97-4b7b-b257-8f87f8857580"
      },
      "execution_count": null,
      "outputs": [
        {
          "output_type": "execute_result",
          "data": {
            "text/plain": [
              "array([2, 0, 1])"
            ]
          },
          "metadata": {},
          "execution_count": 142
        }
      ]
    },
    {
      "cell_type": "code",
      "source": [
        "sns.barplot(dataset[\"slope\"],dataset[\"target\"])"
      ],
      "metadata": {
        "colab": {
          "base_uri": "https://localhost:8080/",
          "height": 300
        },
        "id": "fYr8qd4hI3Fn",
        "outputId": "a261e404-fc06-4888-b717-3e46c9b1d1f6"
      },
      "execution_count": null,
      "outputs": [
        {
          "output_type": "execute_result",
          "data": {
            "text/plain": [
              "<matplotlib.axes._subplots.AxesSubplot at 0x7ff5c4c99f10>"
            ]
          },
          "metadata": {},
          "execution_count": 143
        },
        {
          "output_type": "display_data",
          "data": {
            "text/plain": [
              "<Figure size 432x288 with 1 Axes>"
            ],
            "image/png": "[encoded data removed]"
          },
          "metadata": {
            "needs_background": "light"
          }
        }
      ]
    },
    {
      "cell_type": "markdown",
      "source": [
        "Analysing the 'ca' feature"
      ],
      "metadata": {
        "id": "ZRN8IirGI6aw"
      }
    },
    {
      "cell_type": "code",
      "source": [
        "dataset[\"ca\"].unique()"
      ],
      "metadata": {
        "colab": {
          "base_uri": "https://localhost:8080/"
        },
        "id": "wQHWsEXQI8oI",
        "outputId": "e3ae9e37-51d8-4c1b-882d-aee285a414a0"
      },
      "execution_count": null,
      "outputs": [
        {
          "output_type": "execute_result",
          "data": {
            "text/plain": [
              "array([2, 0, 1, 3, 4])"
            ]
          },
          "metadata": {},
          "execution_count": 144
        }
      ]
    },
    {
      "cell_type": "code",
      "source": [
        "sns.countplot(dataset[\"ca\"])"
      ],
      "metadata": {
        "colab": {
          "base_uri": "https://localhost:8080/",
          "height": 298
        },
        "id": "XlYn-sR4I-Wf",
        "outputId": "d4fe54cc-0fed-4eba-9701-643f12facdc1"
      },
      "execution_count": null,
      "outputs": [
        {
          "output_type": "execute_result",
          "data": {
            "text/plain": [
              "<matplotlib.axes._subplots.AxesSubplot at 0x7ff5c4d12d10>"
            ]
          },
          "metadata": {},
          "execution_count": 145
        },
        {
          "output_type": "display_data",
          "data": {
            "text/plain": [
              "<Figure size 432x288 with 1 Axes>"
            ],
            "image/png": "[encoded data removed]"
          },
          "metadata": {
            "needs_background": "light"
          }
        }
      ]
    },
    {
      "cell_type": "code",
      "source": [
        "sns.barplot(dataset[\"ca\"],dataset[\"target\"])"
      ],
      "metadata": {
        "colab": {
          "base_uri": "https://localhost:8080/",
          "height": 296
        },
        "id": "dUxDA5YeJGcl",
        "outputId": "bbe94f5e-7bb2-4453-90ee-18b7040fde16"
      },
      "execution_count": null,
      "outputs": [
        {
          "output_type": "execute_result",
          "data": {
            "text/plain": [
              "<matplotlib.axes._subplots.AxesSubplot at 0x7ff5c4bef310>"
            ]
          },
          "metadata": {},
          "execution_count": 146
        },
        {
          "output_type": "display_data",
          "data": {
            "text/plain": [
              "<Figure size 432x288 with 1 Axes>"
            ],
            "image/png": "[encoded data removed]"
          },
          "metadata": {
            "needs_background": "light"
          }
        }
      ]
    },
    {
      "cell_type": "code",
      "source": [
        "sns.distplot(dataset[\"ca\"])"
      ],
      "metadata": {
        "id": "Gy4RFVRB6E_8",
        "outputId": "b5c8a0ba-3add-4299-cff9-4b7539e94a3c",
        "colab": {
          "base_uri": "https://localhost:8080/",
          "height": 296
        }
      },
      "execution_count": null,
      "outputs": [
        {
          "output_type": "execute_result",
          "data": {
            "text/plain": [
              "<matplotlib.axes._subplots.AxesSubplot at 0x7ff5c4bd2950>"
            ]
          },
          "metadata": {},
          "execution_count": 147
        },
        {
          "output_type": "display_data",
          "data": {
            "text/plain": [
              "<Figure size 432x288 with 1 Axes>"
            ],
            "image/png": "[encoded data removed]"
          },
          "metadata": {
            "needs_background": "light"
          }
        }
      ]
    },
    {
      "cell_type": "markdown",
      "source": [
        "Analysing thal feature"
      ],
      "metadata": {
        "id": "Ymf1VbA5JA67"
      }
    },
    {
      "cell_type": "code",
      "source": [
        "dataset[\"thal\"].unique()"
      ],
      "metadata": {
        "colab": {
          "base_uri": "https://localhost:8080/"
        },
        "id": "ICi9ckplJT3o",
        "outputId": "6ce38f5a-54e1-463e-dbce-aba42636d341"
      },
      "execution_count": null,
      "outputs": [
        {
          "output_type": "execute_result",
          "data": {
            "text/plain": [
              "array([3, 2, 1, 0])"
            ]
          },
          "metadata": {},
          "execution_count": 148
        }
      ]
    },
    {
      "cell_type": "code",
      "source": [
        "sns.barplot(dataset[\"thal\"],dataset[\"target\"])"
      ],
      "metadata": {
        "colab": {
          "base_uri": "https://localhost:8080/",
          "height": 296
        },
        "id": "NX_Mlx5oJZ56",
        "outputId": "4c19ee8b-883c-45e2-cf60-e26b425635b3"
      },
      "execution_count": null,
      "outputs": [
        {
          "output_type": "execute_result",
          "data": {
            "text/plain": [
              "<matplotlib.axes._subplots.AxesSubplot at 0x7ff5c4ae3190>"
            ]
          },
          "metadata": {},
          "execution_count": 149
        },
        {
          "output_type": "display_data",
          "data": {
            "text/plain": [
              "<Figure size 432x288 with 1 Axes>"
            ],
            "image/png": "[encoded data removed]"
          },
          "metadata": {
            "needs_background": "light"
          }
        }
      ]
    },
    {
      "cell_type": "code",
      "source": [
        "sns.distplot(dataset[\"thal\"])"
      ],
      "metadata": {
        "colab": {
          "base_uri": "https://localhost:8080/",
          "height": 296
        },
        "id": "ecDscQrFJfgB",
        "outputId": "129d03fb-9fff-4684-de76-a3bfa43b75c8"
      },
      "execution_count": null,
      "outputs": [
        {
          "output_type": "execute_result",
          "data": {
            "text/plain": [
              "<matplotlib.axes._subplots.AxesSubplot at 0x7ff5c4a14190>"
            ]
          },
          "metadata": {},
          "execution_count": 150
        },
        {
          "output_type": "display_data",
          "data": {
            "text/plain": [
              "<Figure size 432x288 with 1 Axes>"
            ],
            "image/png": "[encoded data removed]"
          },
          "metadata": {
            "needs_background": "light"
          }
        }
      ]
    },
    {
      "cell_type": "code",
      "source": [
        "dataset.hist(figsize = (12, 12))\n",
        "plt.show()"
      ],
      "metadata": {
        "colab": {
          "base_uri": "https://localhost:8080/",
          "height": 716
        },
        "id": "jwM7vwBOoYwM",
        "outputId": "f26c3711-6643-452d-9354-e84ca9998649"
      },
      "execution_count": null,
      "outputs": [
        {
          "output_type": "display_data",
          "data": {
            "text/plain": [
              "<Figure size 864x864 with 16 Axes>"
            ],
            "image/png": "[encoded data removed]"
          },
          "metadata": {
            "needs_background": "light"
          }
        }
      ]
    },
    {
      "cell_type": "markdown",
      "source": [
        "#Train Test split"
      ],
      "metadata": {
        "id": "nzber89UJgv5"
      }
    },
    {
      "cell_type": "code",
      "source": [
        "from sklearn.model_selection import train_test_split\n",
        "\n",
        "predictors = dataset.drop(\"target\",axis=1)\n",
        "target = dataset[\"target\"]\n",
        "\n",
        "X_train,X_test,Y_train,Y_test = train_test_split(predictors,target,test_size=0.30,random_state=0)"
      ],
      "metadata": {
        "id": "BfKdzXIgJzXv"
      },
      "execution_count": null,
      "outputs": []
    },
    {
      "cell_type": "code",
      "source": [
        "print(X_train.shape,X_test.shape,Y_train.shape,Y_test.shape);"
      ],
      "metadata": {
        "colab": {
          "base_uri": "https://localhost:8080/"
        },
        "id": "HYsQ1R1HKuJe",
        "outputId": "60d6ab8e-3cf4-482b-e9b4-f7b0d100718f"
      },
      "execution_count": null,
      "outputs": [
        {
          "output_type": "stream",
          "name": "stdout",
          "text": [
            "(717, 13) (308, 13) (717,) (308,)\n"
          ]
        }
      ]
    },
    {
      "cell_type": "markdown",
      "source": [
        "#Model Training"
      ],
      "metadata": {
        "id": "vl-4rmb-eERC"
      }
    },
    {
      "cell_type": "markdown",
      "source": [
        "Logistic Regression"
      ],
      "metadata": {
        "id": "aLhEi4NIlFGE"
      }
    },
    {
      "cell_type": "code",
      "source": [
        "from sklearn.linear_model import LogisticRegression\n",
        "\n",
        "lr = LogisticRegression()\n",
        "\n",
        "lr.fit(X_train,Y_train)\n",
        "\n",
        "Y_pred_lr = lr.predict(X_test)"
      ],
      "metadata": {
        "id": "M1cf7zghLLmK"
      },
      "execution_count": null,
      "outputs": []
    },
    {
      "cell_type": "code",
      "source": [
        "Y_pred_lr.shape"
      ],
      "metadata": {
        "colab": {
          "base_uri": "https://localhost:8080/"
        },
        "id": "BknyRJS4LQNs",
        "outputId": "806a58a2-a161-4c25-cd87-4de2a068e8c4"
      },
      "execution_count": null,
      "outputs": [
        {
          "output_type": "execute_result",
          "data": {
            "text/plain": [
              "(308,)"
            ]
          },
          "metadata": {},
          "execution_count": 155
        }
      ]
    },
    {
      "cell_type": "code",
      "source": [
        "score_lr = round(accuracy_score(Y_pred_lr,Y_test)*100,2)\n",
        "\n",
        "print(\"The accuracy score achieved using Logistic Regression is: \"+str(score_lr)+\" %\")"
      ],
      "metadata": {
        "colab": {
          "base_uri": "https://localhost:8080/"
        },
        "id": "T_k-axlULR4I",
        "outputId": "dbf751f0-862f-439d-b70e-eb8447f5debe"
      },
      "execution_count": null,
      "outputs": [
        {
          "output_type": "stream",
          "name": "stdout",
          "text": [
            "The accuracy score achieved using Logistic Regression is: 87.01 %\n"
          ]
        }
      ]
    },
    {
      "cell_type": "markdown",
      "source": [
        "Confusion Matrix"
      ],
      "metadata": {
        "id": "SSTf8s0kxrlb"
      }
    },
    {
      "cell_type": "code",
      "source": [
        "import seaborn as sn\n",
        "from sklearn.metrics import confusion_matrix\n",
        "cm=confusion_matrix(Y_test,Y_pred_lr)\n",
        "conf_matrix=pd.DataFrame(data=cm,columns=['Predicted:0','Predicted:1'],index=['Actual:0','Actual:1'])\n",
        "plt.figure(figsize = (8,5))\n",
        "sn.heatmap(conf_matrix, annot=True,fmt='d',cmap=\"YlGnBu\")"
      ],
      "metadata": {
        "colab": {
          "base_uri": "https://localhost:8080/",
          "height": 337
        },
        "id": "Uh0b9RuexuUn",
        "outputId": "917bdc64-511d-46d5-a6a2-11bee84e5ff4"
      },
      "execution_count": null,
      "outputs": [
        {
          "output_type": "execute_result",
          "data": {
            "text/plain": [
              "<matplotlib.axes._subplots.AxesSubplot at 0x7ff5c8ffef10>"
            ]
          },
          "metadata": {},
          "execution_count": 157
        },
        {
          "output_type": "display_data",
          "data": {
            "text/plain": [
              "<Figure size 576x360 with 2 Axes>"
            ],
            "image/png": "[encoded data removed]"
          },
          "metadata": {
            "needs_background": "light"
          }
        }
      ]
    },
    {
      "cell_type": "code",
      "source": [
        "TN=cm[0,0]\n",
        "TP=cm[1,1]\n",
        "FN=cm[1,0]\n",
        "FP=cm[0,1]\n",
        "sensitivity=TP/float(TP+FN)\n",
        "specificity=TN/float(TN+FP)"
      ],
      "metadata": {
        "id": "tgZ7AG-Ux7RD"
      },
      "execution_count": null,
      "outputs": []
    },
    {
      "cell_type": "code",
      "source": [
        "#Model Evaluation Statics \n",
        "score_cm = ((TP+TN)/float(TP+TN+FP+FN))*100\n",
        "print('The acuuracy of the model = TP+TN/(TP+TN+FP+FN) = ',(TP+TN)/float(TP+TN+FP+FN),'\\n',\n",
        "\n",
        "'The Missclassification = 1-Accuracy = ',1-((TP+TN)/float(TP+TN+FP+FN)),'\\n',\n",
        "\n",
        "'Sensitivity or True Positive Rate = TP/(TP+FN) = ',TP/float(TP+FN),'\\n',\n",
        "\n",
        "'Specificity or True Negative Rate = TN/(TN+FP) = ',TN/float(TN+FP),'\\n',\n",
        "\n",
        "'Positive Predictive value = TP/(TP+FP) = ',TP/float(TP+FP),'\\n',\n",
        "\n",
        "'Negative predictive Value = TN/(TN+FN) = ',TN/float(TN+FN),'\\n',\n",
        "\n",
        "'Positive Likelihood Ratio = Sensitivity/(1-Specificity) = ',sensitivity/(1-specificity),'\\n',\n",
        "\n",
        "'Negative likelihood Ratio = (1-Sensitivity)/Specificity = ',(1-sensitivity)/specificity)"
      ],
      "metadata": {
        "colab": {
          "base_uri": "https://localhost:8080/"
        },
        "id": "9fE5-FyjyC-l",
        "outputId": "d25e93b7-8d82-4150-aba7-1f6cb8ed5486"
      },
      "execution_count": null,
      "outputs": [
        {
          "output_type": "stream",
          "name": "stdout",
          "text": [
            "The acuuracy of the model = TP+TN/(TP+TN+FP+FN) =  0.8701298701298701 \n",
            " The Missclassification = 1-Accuracy =  0.1298701298701299 \n",
            " Sensitivity or True Positive Rate = TP/(TP+FN) =  0.9202453987730062 \n",
            " Specificity or True Negative Rate = TN/(TN+FP) =  0.8137931034482758 \n",
            " Positive Predictive value = TP/(TP+FP) =  0.847457627118644 \n",
            " Negative predictive Value = TN/(TN+FN) =  0.9007633587786259 \n",
            " Positive Likelihood Ratio = Sensitivity/(1-Specificity) =  4.942058623040217 \n",
            " Negative likelihood Ratio = (1-Sensitivity)/Specificity =  0.09800353540605176\n"
          ]
        }
      ]
    },
    {
      "cell_type": "markdown",
      "source": [
        "Naive Bayes"
      ],
      "metadata": {
        "id": "2DodZJqNlotT"
      }
    },
    {
      "cell_type": "code",
      "source": [
        "from sklearn.naive_bayes import GaussianNB\n",
        "\n",
        "nb = GaussianNB()\n",
        "\n",
        "nb.fit(X_train,Y_train)\n",
        "\n",
        "Y_pred_nb = nb.predict(X_test)"
      ],
      "metadata": {
        "id": "6qwTWPYWLeQF"
      },
      "execution_count": null,
      "outputs": []
    },
    {
      "cell_type": "code",
      "source": [
        "Y_pred_nb.shape"
      ],
      "metadata": {
        "colab": {
          "base_uri": "https://localhost:8080/"
        },
        "id": "ny61WHpzLguG",
        "outputId": "c9427114-97b5-46b3-f50d-c28cac88c0a6"
      },
      "execution_count": null,
      "outputs": [
        {
          "output_type": "execute_result",
          "data": {
            "text/plain": [
              "(308,)"
            ]
          },
          "metadata": {},
          "execution_count": 161
        }
      ]
    },
    {
      "cell_type": "code",
      "source": [
        "score_nb = round(accuracy_score(Y_pred_nb,Y_test)*100,2)\n",
        "\n",
        "print(\"The accuracy score achieved using Naive Bayes is: \"+str(score_nb)+\" %\")"
      ],
      "metadata": {
        "colab": {
          "base_uri": "https://localhost:8080/"
        },
        "id": "_-YdgXatLiRO",
        "outputId": "0ef8d112-2e11-45a9-ba5b-df5c42978cc7"
      },
      "execution_count": null,
      "outputs": [
        {
          "output_type": "stream",
          "name": "stdout",
          "text": [
            "The accuracy score achieved using Naive Bayes is: 84.42 %\n"
          ]
        }
      ]
    },
    {
      "cell_type": "code",
      "source": [
        "# For Naive Bayes\n",
        "\n",
        "cm_nb=confusion_matrix(Y_test,Y_pred_nb)\n",
        "conf_matrix=pd.DataFrame(data=cm_nb,columns=['Predicted:0','Predicted:1'],index=['Actual:0','Actual:1'])\n",
        "plt.figure(figsize = (8,5))\n",
        "sn.heatmap(conf_matrix, annot=True,fmt='d',cmap=\"YlGnBu\")\n",
        "TN=cm_nb[0,0]\n",
        "TP=cm_nb[1,1]\n",
        "FN=cm_nb[1,0]\n",
        "FP=cm_nb[0,1]\n",
        "sensitivity=TP/float(TP+FN)\n",
        "specificity=TN/float(TN+FP)\n",
        "score_cm_nb = ((TP+TN)/float(TP+TN+FP+FN))*100\n",
        "print('The acuuracy of the model = TP+TN/(TP+TN+FP+FN) = ',(TP+TN)/float(TP+TN+FP+FN),'\\n',\n",
        "\n",
        "'The Missclassification = 1-Accuracy = ',1-((TP+TN)/float(TP+TN+FP+FN)),'\\n',\n",
        "\n",
        "'Sensitivity or True Positive Rate = TP/(TP+FN) = ',TP/float(TP+FN),'\\n',\n",
        "\n",
        "'Specificity or True Negative Rate = TN/(TN+FP) = ',TN/float(TN+FP),'\\n',\n",
        "\n",
        "'Positive Predictive value = TP/(TP+FP) = ',TP/float(TP+FP),'\\n',\n",
        "\n",
        "'Negative predictive Value = TN/(TN+FN) = ',TN/float(TN+FN),'\\n',\n",
        "\n",
        "'Positive Likelihood Ratio = Sensitivity/(1-Specificity) = ',sensitivity/(1-specificity),'\\n',\n",
        "\n",
        "'Negative likelihood Ratio = (1-Sensitivity)/Specificity = ',(1-sensitivity)/specificity)"
      ],
      "metadata": {
        "id": "T8TZ51zjdw2z",
        "outputId": "f4b34d49-febc-45cd-9cca-34ce6def5731",
        "colab": {
          "base_uri": "https://localhost:8080/",
          "height": 459
        }
      },
      "execution_count": null,
      "outputs": [
        {
          "output_type": "stream",
          "name": "stdout",
          "text": [
            "The acuuracy of the model = TP+TN/(TP+TN+FP+FN) =  0.8441558441558441 \n",
            " The Missclassification = 1-Accuracy =  0.1558441558441559 \n",
            " Sensitivity or True Positive Rate = TP/(TP+FN) =  0.8711656441717791 \n",
            " Specificity or True Negative Rate = TN/(TN+FP) =  0.8137931034482758 \n",
            " Positive Predictive value = TP/(TP+FP) =  0.8402366863905325 \n",
            " Negative predictive Value = TN/(TN+FN) =  0.8489208633093526 \n",
            " Positive Likelihood Ratio = Sensitivity/(1-Specificity) =  4.678482163144738 \n",
            " Negative likelihood Ratio = (1-Sensitivity)/Specificity =  0.15831340334823754\n"
          ]
        },
        {
          "output_type": "display_data",
          "data": {
            "text/plain": [
              "<Figure size 576x360 with 2 Axes>"
            ],
            "image/png": "[encoded data removed]"
          },
          "metadata": {
            "needs_background": "light"
          }
        }
      ]
    },
    {
      "cell_type": "markdown",
      "source": [
        "SVM"
      ],
      "metadata": {
        "id": "19PyvD8KLnFs"
      }
    },
    {
      "cell_type": "code",
      "source": [
        "from sklearn import svm\n",
        "\n",
        "sv = svm.SVC(kernel='linear')\n",
        "\n",
        "sv.fit(X_train, Y_train)\n",
        "\n",
        "Y_pred_svm = sv.predict(X_test)"
      ],
      "metadata": {
        "id": "XQdosfMyLo0w"
      },
      "execution_count": null,
      "outputs": []
    },
    {
      "cell_type": "code",
      "source": [
        "Y_pred_svm.shape"
      ],
      "metadata": {
        "colab": {
          "base_uri": "https://localhost:8080/"
        },
        "id": "2FbvEO_-Lqig",
        "outputId": "af6293f1-96d9-4652-e9a8-7c1657fbc1a5"
      },
      "execution_count": null,
      "outputs": [
        {
          "output_type": "execute_result",
          "data": {
            "text/plain": [
              "(308,)"
            ]
          },
          "metadata": {},
          "execution_count": 165
        }
      ]
    },
    {
      "cell_type": "code",
      "source": [
        "score_svm = round(accuracy_score(Y_pred_svm,Y_test)*100,2)\n",
        "\n",
        "print(\"The accuracy score achieved using Linear SVM is: \"+str(score_svm)+\" %\")"
      ],
      "metadata": {
        "colab": {
          "base_uri": "https://localhost:8080/"
        },
        "id": "0sMBihSdLsG7",
        "outputId": "24fc7593-7e1f-461b-bea3-ca64bcd9f80a"
      },
      "execution_count": null,
      "outputs": [
        {
          "output_type": "stream",
          "name": "stdout",
          "text": [
            "The accuracy score achieved using Linear SVM is: 85.39 %\n"
          ]
        }
      ]
    },
    {
      "cell_type": "code",
      "source": [
        "# For SVM\n",
        "\n",
        "cm_svm=confusion_matrix(Y_test,Y_pred_svm)\n",
        "conf_matrix=pd.DataFrame(data=cm_svm,columns=['Predicted:0','Predicted:1'],index=['Actual:0','Actual:1'])\n",
        "plt.figure(figsize = (8,5))\n",
        "sn.heatmap(conf_matrix, annot=True,fmt='d',cmap=\"YlGnBu\")\n",
        "TN=cm_svm[0,0]\n",
        "TP=cm_svm[1,1]\n",
        "FN=cm_svm[1,0]\n",
        "FP=cm_svm[0,1]\n",
        "sensitivity=TP/float(TP+FN)\n",
        "specificity=TN/float(TN+FP)\n",
        "score_cm_svm = ((TP+TN)/float(TP+TN+FP+FN))*100\n",
        "print('The acuuracy of the model = TP+TN/(TP+TN+FP+FN) = ',(TP+TN)/float(TP+TN+FP+FN),'\\n',\n",
        "\n",
        "'The Missclassification = 1-Accuracy = ',1-((TP+TN)/float(TP+TN+FP+FN)),'\\n',\n",
        "\n",
        "'Sensitivity or True Positive Rate = TP/(TP+FN) = ',TP/float(TP+FN),'\\n',\n",
        "\n",
        "'Specificity or True Negative Rate = TN/(TN+FP) = ',TN/float(TN+FP),'\\n',\n",
        "\n",
        "'Positive Predictive value = TP/(TP+FP) = ',TP/float(TP+FP),'\\n',\n",
        "\n",
        "'Negative predictive Value = TN/(TN+FN) = ',TN/float(TN+FN),'\\n',\n",
        "\n",
        "'Positive Likelihood Ratio = Sensitivity/(1-Specificity) = ',sensitivity/(1-specificity),'\\n',\n",
        "\n",
        "'Negative likelihood Ratio = (1-Sensitivity)/Specificity = ',(1-sensitivity)/specificity)"
      ],
      "metadata": {
        "id": "4z9oiC85e744",
        "outputId": "ea25eec9-9d34-4138-c104-da06b3fe1b6a",
        "colab": {
          "base_uri": "https://localhost:8080/",
          "height": 459
        }
      },
      "execution_count": null,
      "outputs": [
        {
          "output_type": "stream",
          "name": "stdout",
          "text": [
            "The acuuracy of the model = TP+TN/(TP+TN+FP+FN) =  0.8538961038961039 \n",
            " The Missclassification = 1-Accuracy =  0.14610389610389607 \n",
            " Sensitivity or True Positive Rate = TP/(TP+FN) =  0.9263803680981595 \n",
            " Specificity or True Negative Rate = TN/(TN+FP) =  0.7724137931034483 \n",
            " Positive Predictive value = TP/(TP+FP) =  0.8206521739130435 \n",
            " Negative predictive Value = TN/(TN+FN) =  0.9032258064516129 \n",
            " Positive Likelihood Ratio = Sensitivity/(1-Specificity) =  4.070459193158579 \n",
            " Negative likelihood Ratio = (1-Sensitivity)/Specificity =  0.09531113058720424\n"
          ]
        },
        {
          "output_type": "display_data",
          "data": {
            "text/plain": [
              "<Figure size 576x360 with 2 Axes>"
            ],
            "image/png": "[encoded data removed]"
          },
          "metadata": {
            "needs_background": "light"
          }
        }
      ]
    },
    {
      "cell_type": "markdown",
      "source": [
        "K Nearest Neighbors"
      ],
      "metadata": {
        "id": "OhaDYcSoLxb7"
      }
    },
    {
      "cell_type": "code",
      "source": [
        "from sklearn.neighbors import KNeighborsClassifier\n",
        "\n",
        "knn = KNeighborsClassifier(n_neighbors=7)\n",
        "knn.fit(X_train,Y_train)\n",
        "Y_pred_knn=knn.predict(X_test)"
      ],
      "metadata": {
        "id": "zapuMrx2LzJV"
      },
      "execution_count": null,
      "outputs": []
    },
    {
      "cell_type": "code",
      "source": [
        "Y_pred_knn.shape"
      ],
      "metadata": {
        "colab": {
          "base_uri": "https://localhost:8080/"
        },
        "id": "AlUGj1V6L2XA",
        "outputId": "76d0efd5-417d-440f-bf7c-2c526c2bfa78"
      },
      "execution_count": null,
      "outputs": [
        {
          "output_type": "execute_result",
          "data": {
            "text/plain": [
              "(308,)"
            ]
          },
          "metadata": {},
          "execution_count": 169
        }
      ]
    },
    {
      "cell_type": "code",
      "source": [
        "score_knn = round(accuracy_score(Y_pred_knn,Y_test)*100,2)\n",
        "\n",
        "print(\"The accuracy score achieved using KNN is: \"+str(score_knn)+\" %\")"
      ],
      "metadata": {
        "colab": {
          "base_uri": "https://localhost:8080/"
        },
        "id": "dVo1uXz-L4CS",
        "outputId": "99bc4676-007e-44d9-9d3e-df95c63a1a5c"
      },
      "execution_count": null,
      "outputs": [
        {
          "output_type": "stream",
          "name": "stdout",
          "text": [
            "The accuracy score achieved using KNN is: 74.68 %\n"
          ]
        }
      ]
    },
    {
      "cell_type": "code",
      "source": [
        "# For KNN\n",
        "\n",
        "cm_knn=confusion_matrix(Y_test,Y_pred_knn)\n",
        "conf_matrix=pd.DataFrame(data=cm_knn,columns=['Predicted:0','Predicted:1'],index=['Actual:0','Actual:1'])\n",
        "plt.figure(figsize = (8,5))\n",
        "sn.heatmap(conf_matrix, annot=True,fmt='d',cmap=\"YlGnBu\")\n",
        "TN=cm_knn[0,0]\n",
        "TP=cm_knn[1,1]\n",
        "FN=cm_knn[1,0]\n",
        "FP=cm_knn[0,1]\n",
        "sensitivity=TP/float(TP+FN)\n",
        "specificity=TN/float(TN+FP)\n",
        "score_cm_knn = ((TP+TN)/float(TP+TN+FP+FN))*100\n",
        "print('The acuuracy of the model = TP+TN/(TP+TN+FP+FN) = ',(TP+TN)/float(TP+TN+FP+FN),'\\n',\n",
        "\n",
        "'The Missclassification = 1-Accuracy = ',1-((TP+TN)/float(TP+TN+FP+FN)),'\\n',\n",
        "\n",
        "'Sensitivity or True Positive Rate = TP/(TP+FN) = ',TP/float(TP+FN),'\\n',\n",
        "\n",
        "'Specificity or True Negative Rate = TN/(TN+FP) = ',TN/float(TN+FP),'\\n',\n",
        "\n",
        "'Positive Predictive value = TP/(TP+FP) = ',TP/float(TP+FP),'\\n',\n",
        "\n",
        "'Negative predictive Value = TN/(TN+FN) = ',TN/float(TN+FN),'\\n',\n",
        "\n",
        "'Positive Likelihood Ratio = Sensitivity/(1-Specificity) = ',sensitivity/(1-specificity),'\\n',\n",
        "\n",
        "'Negative likelihood Ratio = (1-Sensitivity)/Specificity = ',(1-sensitivity)/specificity)"
      ],
      "metadata": {
        "id": "G8mYNjKUfQII",
        "outputId": "5015ad31-0061-4c62-f297-8c58430d0a4f",
        "colab": {
          "base_uri": "https://localhost:8080/",
          "height": 459
        }
      },
      "execution_count": null,
      "outputs": [
        {
          "output_type": "stream",
          "name": "stdout",
          "text": [
            "The acuuracy of the model = TP+TN/(TP+TN+FP+FN) =  0.7467532467532467 \n",
            " The Missclassification = 1-Accuracy =  0.2532467532467533 \n",
            " Sensitivity or True Positive Rate = TP/(TP+FN) =  0.754601226993865 \n",
            " Specificity or True Negative Rate = TN/(TN+FP) =  0.7379310344827587 \n",
            " Positive Predictive value = TP/(TP+FP) =  0.7639751552795031 \n",
            " Negative predictive Value = TN/(TN+FN) =  0.7278911564625851 \n",
            " Positive Likelihood Ratio = Sensitivity/(1-Specificity) =  2.87939941879238 \n",
            " Negative likelihood Ratio = (1-Sensitivity)/Specificity =  0.3325497391204633\n"
          ]
        },
        {
          "output_type": "display_data",
          "data": {
            "text/plain": [
              "<Figure size 576x360 with 2 Axes>"
            ],
            "image/png": "[encoded data removed]"
          },
          "metadata": {
            "needs_background": "light"
          }
        }
      ]
    },
    {
      "cell_type": "markdown",
      "source": [
        "XGBoost"
      ],
      "metadata": {
        "id": "aP5tBd2RMgBI"
      }
    },
    {
      "cell_type": "code",
      "source": [
        "import xgboost as xgb\n",
        "\n",
        "xgb_model = xgb.XGBClassifier(objective=\"binary:logistic\", random_state=42)\n",
        "xgb_model.fit(X_train, Y_train)\n",
        "\n",
        "Y_pred_xgb = xgb_model.predict(X_test)"
      ],
      "metadata": {
        "id": "1Q8EThmAMjKF"
      },
      "execution_count": null,
      "outputs": []
    },
    {
      "cell_type": "code",
      "source": [
        "Y_pred_xgb.shape"
      ],
      "metadata": {
        "colab": {
          "base_uri": "https://localhost:8080/"
        },
        "id": "hEpbdaIoMl_W",
        "outputId": "0d58ff87-c786-4c46-fe78-639e056f99d3"
      },
      "execution_count": null,
      "outputs": [
        {
          "output_type": "execute_result",
          "data": {
            "text/plain": [
              "(308,)"
            ]
          },
          "metadata": {},
          "execution_count": 173
        }
      ]
    },
    {
      "cell_type": "code",
      "source": [
        "score_xgb = round(accuracy_score(Y_pred_xgb,Y_test)*100,2)\n",
        "\n",
        "print(\"The accuracy score achieved using XGBoost is: \"+str(score_xgb)+\" %\")"
      ],
      "metadata": {
        "colab": {
          "base_uri": "https://localhost:8080/"
        },
        "id": "-2YwNOS2MogW",
        "outputId": "81a03e18-40e6-437b-b4c5-a8665e63e365"
      },
      "execution_count": null,
      "outputs": [
        {
          "output_type": "stream",
          "name": "stdout",
          "text": [
            "The accuracy score achieved using XGBoost is: 97.08 %\n"
          ]
        }
      ]
    },
    {
      "cell_type": "code",
      "source": [
        "# For XG Boost\n",
        "\n",
        "cm_xg=confusion_matrix(Y_test,Y_pred_xgb)\n",
        "conf_matrix=pd.DataFrame(data=cm_xg,columns=['Predicted:0','Predicted:1'],index=['Actual:0','Actual:1'])\n",
        "plt.figure(figsize = (8,5))\n",
        "sn.heatmap(conf_matrix, annot=True,fmt='d',cmap=\"YlGnBu\")\n",
        "TN=cm_xg[0,0]\n",
        "TP=cm_xg[1,1]\n",
        "FN=cm_xg[1,0]\n",
        "FP=cm_xg[0,1]\n",
        "sensitivity=TP/float(TP+FN)\n",
        "specificity=TN/float(TN+FP)\n",
        "score_cm_xg = ((TP+TN)/float(TP+TN+FP+FN))*100\n",
        "print('The acuuracy of the model = TP+TN/(TP+TN+FP+FN) = ',(TP+TN)/float(TP+TN+FP+FN),'\\n',\n",
        "\n",
        "'The Missclassification = 1-Accuracy = ',1-((TP+TN)/float(TP+TN+FP+FN)),'\\n',\n",
        "\n",
        "'Sensitivity or True Positive Rate = TP/(TP+FN) = ',TP/float(TP+FN),'\\n',\n",
        "\n",
        "'Specificity or True Negative Rate = TN/(TN+FP) = ',TN/float(TN+FP),'\\n',\n",
        "\n",
        "'Positive Predictive value = TP/(TP+FP) = ',TP/float(TP+FP),'\\n',\n",
        "\n",
        "'Negative predictive Value = TN/(TN+FN) = ',TN/float(TN+FN),'\\n',\n",
        "\n",
        "'Positive Likelihood Ratio = Sensitivity/(1-Specificity) = ',sensitivity/(1-specificity),'\\n',\n",
        "\n",
        "'Negative likelihood Ratio = (1-Sensitivity)/Specificity = ',(1-sensitivity)/specificity)"
      ],
      "metadata": {
        "id": "UpBNDRzJftv9",
        "outputId": "f7e0bca5-b700-42e4-c331-0e55ebdf04cb",
        "colab": {
          "base_uri": "https://localhost:8080/",
          "height": 461
        }
      },
      "execution_count": null,
      "outputs": [
        {
          "output_type": "stream",
          "name": "stdout",
          "text": [
            "The acuuracy of the model = TP+TN/(TP+TN+FP+FN) =  0.9707792207792207 \n",
            " The Missclassification = 1-Accuracy =  0.02922077922077926 \n",
            " Sensitivity or True Positive Rate = TP/(TP+FN) =  0.9877300613496932 \n",
            " Specificity or True Negative Rate = TN/(TN+FP) =  0.9517241379310345 \n",
            " Positive Predictive value = TP/(TP+FP) =  0.9583333333333334 \n",
            " Negative predictive Value = TN/(TN+FN) =  0.9857142857142858 \n",
            " Positive Likelihood Ratio = Sensitivity/(1-Specificity) =  20.46012269938651 \n",
            " Negative likelihood Ratio = (1-Sensitivity)/Specificity =  0.012892326842713655\n"
          ]
        },
        {
          "output_type": "display_data",
          "data": {
            "text/plain": [
              "<Figure size 576x360 with 2 Axes>"
            ],
            "image/png": "[encoded data removed]"
          },
          "metadata": {
            "needs_background": "light"
          }
        }
      ]
    },
    {
      "cell_type": "markdown",
      "source": [
        "Neural Network"
      ],
      "metadata": {
        "id": "4U6_t2ntMr9C"
      }
    },
    {
      "cell_type": "code",
      "source": [
        "from keras.models import Sequential\n",
        "from keras.layers import Dense"
      ],
      "metadata": {
        "id": "DAL4-AOUM0Bl"
      },
      "execution_count": null,
      "outputs": []
    },
    {
      "cell_type": "code",
      "source": [
        "# Using TensorFlow backend.\n",
        "# https://stats.stackexchange.com/a/136542 helped a lot in avoiding overfitting\n",
        "\n",
        "model = Sequential()\n",
        "model.add(Dense(11,activation='relu',input_dim=13))\n",
        "model.add(Dense(1,activation='sigmoid'))\n",
        "\n",
        "model.compile(loss='binary_crossentropy',optimizer='adam',metrics=['accuracy'])"
      ],
      "metadata": {
        "id": "MZqduKj3M14D"
      },
      "execution_count": null,
      "outputs": []
    },
    {
      "cell_type": "code",
      "source": [
        "model.fit(X_train,Y_train,epochs=300)"
      ],
      "metadata": {
        "colab": {
          "base_uri": "https://localhost:8080/"
        },
        "id": "lkHsPKuwNLA_",
        "outputId": "11bed075-d266-402b-8aab-007f09f99427"
      },
      "execution_count": null,
      "outputs": [
        {
          "output_type": "stream",
          "name": "stdout",
          "text": [
            "Epoch 1/300\n",
            "23/23 [==============================] - 0s 2ms/step - loss: 15.4823 - accuracy: 0.5063\n",
            "Epoch 2/300\n",
            "23/23 [==============================] - 0s 2ms/step - loss: 3.0109 - accuracy: 0.5342\n",
            "Epoch 3/300\n",
            "23/23 [==============================] - 0s 2ms/step - loss: 1.7315 - accuracy: 0.5858\n",
            "Epoch 4/300\n",
            "23/23 [==============================] - 0s 2ms/step - loss: 1.4785 - accuracy: 0.6039\n",
            "Epoch 5/300\n",
            "23/23 [==============================] - 0s 2ms/step - loss: 1.3169 - accuracy: 0.5858\n",
            "Epoch 6/300\n",
            "23/23 [==============================] - 0s 2ms/step - loss: 1.1309 - accuracy: 0.5900\n",
            "Epoch 7/300\n",
            "23/23 [==============================] - 0s 2ms/step - loss: 0.9695 - accuracy: 0.5941\n",
            "Epoch 8/300\n",
            "23/23 [==============================] - 0s 2ms/step - loss: 0.8562 - accuracy: 0.5914\n",
            "Epoch 9/300\n",
            "23/23 [==============================] - 0s 2ms/step - loss: 0.7186 - accuracy: 0.6053\n",
            "Epoch 10/300\n",
            "23/23 [==============================] - 0s 2ms/step - loss: 0.6459 - accuracy: 0.6374\n",
            "Epoch 11/300\n",
            "23/23 [==============================] - 0s 2ms/step - loss: 0.6145 - accuracy: 0.6457\n",
            "Epoch 12/300\n",
            "23/23 [==============================] - 0s 2ms/step - loss: 0.5853 - accuracy: 0.6764\n",
            "Epoch 13/300\n",
            "23/23 [==============================] - 0s 2ms/step - loss: 0.5507 - accuracy: 0.7225\n",
            "Epoch 14/300\n",
            "23/23 [==============================] - 0s 2ms/step - loss: 0.5435 - accuracy: 0.7420\n",
            "Epoch 15/300\n",
            "23/23 [==============================] - 0s 3ms/step - loss: 0.5266 - accuracy: 0.7448\n",
            "Epoch 16/300\n",
            "23/23 [==============================] - 0s 2ms/step - loss: 0.5194 - accuracy: 0.7503\n",
            "Epoch 17/300\n",
            "23/23 [==============================] - 0s 2ms/step - loss: 0.5002 - accuracy: 0.7643\n",
            "Epoch 18/300\n",
            "23/23 [==============================] - 0s 2ms/step - loss: 0.4970 - accuracy: 0.7824\n",
            "Epoch 19/300\n",
            "23/23 [==============================] - 0s 2ms/step - loss: 0.4849 - accuracy: 0.7894\n",
            "Epoch 20/300\n",
            "23/23 [==============================] - 0s 2ms/step - loss: 0.4744 - accuracy: 0.7950\n",
            "Epoch 21/300\n",
            "23/23 [==============================] - 0s 2ms/step - loss: 0.4815 - accuracy: 0.7741\n",
            "Epoch 22/300\n",
            "23/23 [==============================] - 0s 2ms/step - loss: 0.4760 - accuracy: 0.7852\n",
            "Epoch 23/300\n",
            "23/23 [==============================] - 0s 2ms/step - loss: 0.4805 - accuracy: 0.7713\n",
            "Epoch 24/300\n",
            "23/23 [==============================] - 0s 2ms/step - loss: 0.4625 - accuracy: 0.7950\n",
            "Epoch 25/300\n",
            "23/23 [==============================] - 0s 2ms/step - loss: 0.4667 - accuracy: 0.7866\n",
            "Epoch 26/300\n",
            "23/23 [==============================] - 0s 2ms/step - loss: 0.4606 - accuracy: 0.7894\n",
            "Epoch 27/300\n",
            "23/23 [==============================] - 0s 2ms/step - loss: 0.4657 - accuracy: 0.7810\n",
            "Epoch 28/300\n",
            "23/23 [==============================] - 0s 2ms/step - loss: 0.4544 - accuracy: 0.7936\n",
            "Epoch 29/300\n",
            "23/23 [==============================] - 0s 2ms/step - loss: 0.4557 - accuracy: 0.7936\n",
            "Epoch 30/300\n",
            "23/23 [==============================] - 0s 2ms/step - loss: 0.4674 - accuracy: 0.7755\n",
            "Epoch 31/300\n",
            "23/23 [==============================] - 0s 2ms/step - loss: 0.4516 - accuracy: 0.7950\n",
            "Epoch 32/300\n",
            "23/23 [==============================] - 0s 2ms/step - loss: 0.4735 - accuracy: 0.7643\n",
            "Epoch 33/300\n",
            "23/23 [==============================] - 0s 2ms/step - loss: 0.4604 - accuracy: 0.7824\n",
            "Epoch 34/300\n",
            "23/23 [==============================] - 0s 2ms/step - loss: 0.4490 - accuracy: 0.7880\n",
            "Epoch 35/300\n",
            "23/23 [==============================] - 0s 2ms/step - loss: 0.4300 - accuracy: 0.8159\n",
            "Epoch 36/300\n",
            "23/23 [==============================] - 0s 2ms/step - loss: 0.4368 - accuracy: 0.8061\n",
            "Epoch 37/300\n",
            "23/23 [==============================] - 0s 2ms/step - loss: 0.4362 - accuracy: 0.8089\n",
            "Epoch 38/300\n",
            "23/23 [==============================] - 0s 2ms/step - loss: 0.4389 - accuracy: 0.7978\n",
            "Epoch 39/300\n",
            "23/23 [==============================] - 0s 2ms/step - loss: 0.4308 - accuracy: 0.8006\n",
            "Epoch 40/300\n",
            "23/23 [==============================] - 0s 3ms/step - loss: 0.4408 - accuracy: 0.7936\n",
            "Epoch 41/300\n",
            "23/23 [==============================] - 0s 2ms/step - loss: 0.4262 - accuracy: 0.8215\n",
            "Epoch 42/300\n",
            "23/23 [==============================] - 0s 2ms/step - loss: 0.4183 - accuracy: 0.8145\n",
            "Epoch 43/300\n",
            "23/23 [==============================] - 0s 2ms/step - loss: 0.4344 - accuracy: 0.7978\n",
            "Epoch 44/300\n",
            "23/23 [==============================] - 0s 2ms/step - loss: 0.4191 - accuracy: 0.8312\n",
            "Epoch 45/300\n",
            "23/23 [==============================] - 0s 2ms/step - loss: 0.4106 - accuracy: 0.8006\n",
            "Epoch 46/300\n",
            "23/23 [==============================] - 0s 2ms/step - loss: 0.4154 - accuracy: 0.8201\n",
            "Epoch 47/300\n",
            "23/23 [==============================] - 0s 2ms/step - loss: 0.4352 - accuracy: 0.8020\n",
            "Epoch 48/300\n",
            "23/23 [==============================] - 0s 2ms/step - loss: 0.4148 - accuracy: 0.8131\n",
            "Epoch 49/300\n",
            "23/23 [==============================] - 0s 2ms/step - loss: 0.4165 - accuracy: 0.8047\n",
            "Epoch 50/300\n",
            "23/23 [==============================] - 0s 2ms/step - loss: 0.4103 - accuracy: 0.8243\n",
            "Epoch 51/300\n",
            "23/23 [==============================] - 0s 2ms/step - loss: 0.4039 - accuracy: 0.8173\n",
            "Epoch 52/300\n",
            "23/23 [==============================] - 0s 2ms/step - loss: 0.4051 - accuracy: 0.8173\n",
            "Epoch 53/300\n",
            "23/23 [==============================] - 0s 2ms/step - loss: 0.4003 - accuracy: 0.8215\n",
            "Epoch 54/300\n",
            "23/23 [==============================] - 0s 2ms/step - loss: 0.4051 - accuracy: 0.8201\n",
            "Epoch 55/300\n",
            "23/23 [==============================] - 0s 2ms/step - loss: 0.4243 - accuracy: 0.8033\n",
            "Epoch 56/300\n",
            "23/23 [==============================] - 0s 2ms/step - loss: 0.4158 - accuracy: 0.7992\n",
            "Epoch 57/300\n",
            "23/23 [==============================] - 0s 2ms/step - loss: 0.4035 - accuracy: 0.8173\n",
            "Epoch 58/300\n",
            "23/23 [==============================] - 0s 2ms/step - loss: 0.4012 - accuracy: 0.8201\n",
            "Epoch 59/300\n",
            "23/23 [==============================] - 0s 2ms/step - loss: 0.4035 - accuracy: 0.8257\n",
            "Epoch 60/300\n",
            "23/23 [==============================] - 0s 2ms/step - loss: 0.4065 - accuracy: 0.8215\n",
            "Epoch 61/300\n",
            "23/23 [==============================] - 0s 2ms/step - loss: 0.4008 - accuracy: 0.8173\n",
            "Epoch 62/300\n",
            "23/23 [==============================] - 0s 2ms/step - loss: 0.3944 - accuracy: 0.8257\n",
            "Epoch 63/300\n",
            "23/23 [==============================] - 0s 2ms/step - loss: 0.4046 - accuracy: 0.8243\n",
            "Epoch 64/300\n",
            "23/23 [==============================] - 0s 2ms/step - loss: 0.4206 - accuracy: 0.8145\n",
            "Epoch 65/300\n",
            "23/23 [==============================] - 0s 2ms/step - loss: 0.3928 - accuracy: 0.8201\n",
            "Epoch 66/300\n",
            "23/23 [==============================] - 0s 2ms/step - loss: 0.4321 - accuracy: 0.8033\n",
            "Epoch 67/300\n",
            "23/23 [==============================] - 0s 2ms/step - loss: 0.4048 - accuracy: 0.8187\n",
            "Epoch 68/300\n",
            "23/23 [==============================] - 0s 2ms/step - loss: 0.4022 - accuracy: 0.8285\n",
            "Epoch 69/300\n",
            "23/23 [==============================] - 0s 2ms/step - loss: 0.4002 - accuracy: 0.8257\n",
            "Epoch 70/300\n",
            "23/23 [==============================] - 0s 2ms/step - loss: 0.4173 - accuracy: 0.8131\n",
            "Epoch 71/300\n",
            "23/23 [==============================] - 0s 2ms/step - loss: 0.3970 - accuracy: 0.8271\n",
            "Epoch 72/300\n",
            "23/23 [==============================] - 0s 2ms/step - loss: 0.3995 - accuracy: 0.8131\n",
            "Epoch 73/300\n",
            "23/23 [==============================] - 0s 2ms/step - loss: 0.4153 - accuracy: 0.8215\n",
            "Epoch 74/300\n",
            "23/23 [==============================] - 0s 2ms/step - loss: 0.3984 - accuracy: 0.8312\n",
            "Epoch 75/300\n",
            "23/23 [==============================] - 0s 2ms/step - loss: 0.3985 - accuracy: 0.8215\n",
            "Epoch 76/300\n",
            "23/23 [==============================] - 0s 2ms/step - loss: 0.3848 - accuracy: 0.8201\n",
            "Epoch 77/300\n",
            "23/23 [==============================] - 0s 2ms/step - loss: 0.4092 - accuracy: 0.8117\n",
            "Epoch 78/300\n",
            "23/23 [==============================] - 0s 2ms/step - loss: 0.3939 - accuracy: 0.8243\n",
            "Epoch 79/300\n",
            "23/23 [==============================] - 0s 2ms/step - loss: 0.3887 - accuracy: 0.8159\n",
            "Epoch 80/300\n",
            "23/23 [==============================] - 0s 2ms/step - loss: 0.4393 - accuracy: 0.7978\n",
            "Epoch 81/300\n",
            "23/23 [==============================] - 0s 2ms/step - loss: 0.4119 - accuracy: 0.8215\n",
            "Epoch 82/300\n",
            "23/23 [==============================] - 0s 2ms/step - loss: 0.4008 - accuracy: 0.8215\n",
            "Epoch 83/300\n",
            "23/23 [==============================] - 0s 2ms/step - loss: 0.3914 - accuracy: 0.8215\n",
            "Epoch 84/300\n",
            "23/23 [==============================] - 0s 2ms/step - loss: 0.4005 - accuracy: 0.8145\n",
            "Epoch 85/300\n",
            "23/23 [==============================] - 0s 2ms/step - loss: 0.3972 - accuracy: 0.8271\n",
            "Epoch 86/300\n",
            "23/23 [==============================] - 0s 2ms/step - loss: 0.3832 - accuracy: 0.8382\n",
            "Epoch 87/300\n",
            "23/23 [==============================] - 0s 2ms/step - loss: 0.3917 - accuracy: 0.8187\n",
            "Epoch 88/300\n",
            "23/23 [==============================] - 0s 2ms/step - loss: 0.3838 - accuracy: 0.8354\n",
            "Epoch 89/300\n",
            "23/23 [==============================] - 0s 2ms/step - loss: 0.3809 - accuracy: 0.8340\n",
            "Epoch 90/300\n",
            "23/23 [==============================] - 0s 2ms/step - loss: 0.3880 - accuracy: 0.8285\n",
            "Epoch 91/300\n",
            "23/23 [==============================] - 0s 2ms/step - loss: 0.3935 - accuracy: 0.8215\n",
            "Epoch 92/300\n",
            "23/23 [==============================] - 0s 2ms/step - loss: 0.4034 - accuracy: 0.7964\n",
            "Epoch 93/300\n",
            "23/23 [==============================] - 0s 2ms/step - loss: 0.3897 - accuracy: 0.8382\n",
            "Epoch 94/300\n",
            "23/23 [==============================] - 0s 2ms/step - loss: 0.3842 - accuracy: 0.8215\n",
            "Epoch 95/300\n",
            "23/23 [==============================] - 0s 2ms/step - loss: 0.4172 - accuracy: 0.7964\n",
            "Epoch 96/300\n",
            "23/23 [==============================] - 0s 2ms/step - loss: 0.3810 - accuracy: 0.8396\n",
            "Epoch 97/300\n",
            "23/23 [==============================] - 0s 2ms/step - loss: 0.3991 - accuracy: 0.8312\n",
            "Epoch 98/300\n",
            "23/23 [==============================] - 0s 2ms/step - loss: 0.4023 - accuracy: 0.8312\n",
            "Epoch 99/300\n",
            "23/23 [==============================] - 0s 2ms/step - loss: 0.3862 - accuracy: 0.8201\n",
            "Epoch 100/300\n",
            "23/23 [==============================] - 0s 2ms/step - loss: 0.3792 - accuracy: 0.8368\n",
            "Epoch 101/300\n",
            "23/23 [==============================] - 0s 2ms/step - loss: 0.3885 - accuracy: 0.8354\n",
            "Epoch 102/300\n",
            "23/23 [==============================] - 0s 2ms/step - loss: 0.3927 - accuracy: 0.8201\n",
            "Epoch 103/300\n",
            "23/23 [==============================] - 0s 2ms/step - loss: 0.3854 - accuracy: 0.8271\n",
            "Epoch 104/300\n",
            "23/23 [==============================] - 0s 2ms/step - loss: 0.3800 - accuracy: 0.8326\n",
            "Epoch 105/300\n",
            "23/23 [==============================] - 0s 2ms/step - loss: 0.4039 - accuracy: 0.8075\n",
            "Epoch 106/300\n",
            "23/23 [==============================] - 0s 2ms/step - loss: 0.4078 - accuracy: 0.8131\n",
            "Epoch 107/300\n",
            "23/23 [==============================] - 0s 2ms/step - loss: 0.3930 - accuracy: 0.8215\n",
            "Epoch 108/300\n",
            "23/23 [==============================] - 0s 2ms/step - loss: 0.3881 - accuracy: 0.8187\n",
            "Epoch 109/300\n",
            "23/23 [==============================] - 0s 2ms/step - loss: 0.3899 - accuracy: 0.8271\n",
            "Epoch 110/300\n",
            "23/23 [==============================] - 0s 2ms/step - loss: 0.3763 - accuracy: 0.8410\n",
            "Epoch 111/300\n",
            "23/23 [==============================] - 0s 2ms/step - loss: 0.3901 - accuracy: 0.8243\n",
            "Epoch 112/300\n",
            "23/23 [==============================] - 0s 2ms/step - loss: 0.3904 - accuracy: 0.8340\n",
            "Epoch 113/300\n",
            "23/23 [==============================] - 0s 2ms/step - loss: 0.4008 - accuracy: 0.8131\n",
            "Epoch 114/300\n",
            "23/23 [==============================] - 0s 2ms/step - loss: 0.3808 - accuracy: 0.8452\n",
            "Epoch 115/300\n",
            "23/23 [==============================] - 0s 2ms/step - loss: 0.3787 - accuracy: 0.8368\n",
            "Epoch 116/300\n",
            "23/23 [==============================] - 0s 2ms/step - loss: 0.3700 - accuracy: 0.8508\n",
            "Epoch 117/300\n",
            "23/23 [==============================] - 0s 2ms/step - loss: 0.4110 - accuracy: 0.8103\n",
            "Epoch 118/300\n",
            "23/23 [==============================] - 0s 2ms/step - loss: 0.4096 - accuracy: 0.8215\n",
            "Epoch 119/300\n",
            "23/23 [==============================] - 0s 2ms/step - loss: 0.4426 - accuracy: 0.8020\n",
            "Epoch 120/300\n",
            "23/23 [==============================] - 0s 2ms/step - loss: 0.4353 - accuracy: 0.8243\n",
            "Epoch 121/300\n",
            "23/23 [==============================] - 0s 2ms/step - loss: 0.4228 - accuracy: 0.8117\n",
            "Epoch 122/300\n",
            "23/23 [==============================] - 0s 2ms/step - loss: 0.3977 - accuracy: 0.8229\n",
            "Epoch 123/300\n",
            "23/23 [==============================] - 0s 2ms/step - loss: 0.3803 - accuracy: 0.8382\n",
            "Epoch 124/300\n",
            "23/23 [==============================] - 0s 2ms/step - loss: 0.3937 - accuracy: 0.8271\n",
            "Epoch 125/300\n",
            "23/23 [==============================] - 0s 3ms/step - loss: 0.3850 - accuracy: 0.8257\n",
            "Epoch 126/300\n",
            "23/23 [==============================] - 0s 2ms/step - loss: 0.4069 - accuracy: 0.8075\n",
            "Epoch 127/300\n",
            "23/23 [==============================] - 0s 2ms/step - loss: 0.4162 - accuracy: 0.8173\n",
            "Epoch 128/300\n",
            "23/23 [==============================] - 0s 2ms/step - loss: 0.3841 - accuracy: 0.8340\n",
            "Epoch 129/300\n",
            "23/23 [==============================] - 0s 2ms/step - loss: 0.3830 - accuracy: 0.8410\n",
            "Epoch 130/300\n",
            "23/23 [==============================] - 0s 2ms/step - loss: 0.3757 - accuracy: 0.8410\n",
            "Epoch 131/300\n",
            "23/23 [==============================] - 0s 2ms/step - loss: 0.3823 - accuracy: 0.8326\n",
            "Epoch 132/300\n",
            "23/23 [==============================] - 0s 2ms/step - loss: 0.3749 - accuracy: 0.8312\n",
            "Epoch 133/300\n",
            "23/23 [==============================] - 0s 2ms/step - loss: 0.4097 - accuracy: 0.8103\n",
            "Epoch 134/300\n",
            "23/23 [==============================] - 0s 2ms/step - loss: 0.3779 - accuracy: 0.8354\n",
            "Epoch 135/300\n",
            "23/23 [==============================] - 0s 2ms/step - loss: 0.3769 - accuracy: 0.8396\n",
            "Epoch 136/300\n",
            "23/23 [==============================] - 0s 2ms/step - loss: 0.3950 - accuracy: 0.8145\n",
            "Epoch 137/300\n",
            "23/23 [==============================] - 0s 2ms/step - loss: 0.4145 - accuracy: 0.7950\n",
            "Epoch 138/300\n",
            "23/23 [==============================] - 0s 2ms/step - loss: 0.3959 - accuracy: 0.8229\n",
            "Epoch 139/300\n",
            "23/23 [==============================] - 0s 2ms/step - loss: 0.3782 - accuracy: 0.8187\n",
            "Epoch 140/300\n",
            "23/23 [==============================] - 0s 2ms/step - loss: 0.3721 - accuracy: 0.8396\n",
            "Epoch 141/300\n",
            "23/23 [==============================] - 0s 2ms/step - loss: 0.3803 - accuracy: 0.8285\n",
            "Epoch 142/300\n",
            "23/23 [==============================] - 0s 2ms/step - loss: 0.3775 - accuracy: 0.8368\n",
            "Epoch 143/300\n",
            "23/23 [==============================] - 0s 2ms/step - loss: 0.3715 - accuracy: 0.8452\n",
            "Epoch 144/300\n",
            "23/23 [==============================] - 0s 2ms/step - loss: 0.3722 - accuracy: 0.8382\n",
            "Epoch 145/300\n",
            "23/23 [==============================] - 0s 3ms/step - loss: 0.3744 - accuracy: 0.8354\n",
            "Epoch 146/300\n",
            "23/23 [==============================] - 0s 2ms/step - loss: 0.3942 - accuracy: 0.8285\n",
            "Epoch 147/300\n",
            "23/23 [==============================] - 0s 2ms/step - loss: 0.4109 - accuracy: 0.8201\n",
            "Epoch 148/300\n",
            "23/23 [==============================] - 0s 2ms/step - loss: 0.4082 - accuracy: 0.8159\n",
            "Epoch 149/300\n",
            "23/23 [==============================] - 0s 2ms/step - loss: 0.3876 - accuracy: 0.8243\n",
            "Epoch 150/300\n",
            "23/23 [==============================] - 0s 2ms/step - loss: 0.3730 - accuracy: 0.8396\n",
            "Epoch 151/300\n",
            "23/23 [==============================] - 0s 2ms/step - loss: 0.3713 - accuracy: 0.8354\n",
            "Epoch 152/300\n",
            "23/23 [==============================] - 0s 2ms/step - loss: 0.3767 - accuracy: 0.8396\n",
            "Epoch 153/300\n",
            "23/23 [==============================] - 0s 2ms/step - loss: 0.3836 - accuracy: 0.8382\n",
            "Epoch 154/300\n",
            "23/23 [==============================] - 0s 2ms/step - loss: 0.3818 - accuracy: 0.8271\n",
            "Epoch 155/300\n",
            "23/23 [==============================] - 0s 2ms/step - loss: 0.3767 - accuracy: 0.8396\n",
            "Epoch 156/300\n",
            "23/23 [==============================] - 0s 2ms/step - loss: 0.3847 - accuracy: 0.8271\n",
            "Epoch 157/300\n",
            "23/23 [==============================] - 0s 2ms/step - loss: 0.3728 - accuracy: 0.8326\n",
            "Epoch 158/300\n",
            "23/23 [==============================] - 0s 2ms/step - loss: 0.3852 - accuracy: 0.8215\n",
            "Epoch 159/300\n",
            "23/23 [==============================] - 0s 2ms/step - loss: 0.3901 - accuracy: 0.8187\n",
            "Epoch 160/300\n",
            "23/23 [==============================] - 0s 2ms/step - loss: 0.3745 - accuracy: 0.8340\n",
            "Epoch 161/300\n",
            "23/23 [==============================] - 0s 2ms/step - loss: 0.3766 - accuracy: 0.8466\n",
            "Epoch 162/300\n",
            "23/23 [==============================] - 0s 2ms/step - loss: 0.4113 - accuracy: 0.8020\n",
            "Epoch 163/300\n",
            "23/23 [==============================] - 0s 2ms/step - loss: 0.3826 - accuracy: 0.8215\n",
            "Epoch 164/300\n",
            "23/23 [==============================] - 0s 2ms/step - loss: 0.3800 - accuracy: 0.8215\n",
            "Epoch 165/300\n",
            "23/23 [==============================] - 0s 2ms/step - loss: 0.3883 - accuracy: 0.8201\n",
            "Epoch 166/300\n",
            "23/23 [==============================] - 0s 2ms/step - loss: 0.3788 - accuracy: 0.8340\n",
            "Epoch 167/300\n",
            "23/23 [==============================] - 0s 2ms/step - loss: 0.3840 - accuracy: 0.8285\n",
            "Epoch 168/300\n",
            "23/23 [==============================] - 0s 2ms/step - loss: 0.3772 - accuracy: 0.8201\n",
            "Epoch 169/300\n",
            "23/23 [==============================] - 0s 2ms/step - loss: 0.3871 - accuracy: 0.8298\n",
            "Epoch 170/300\n",
            "23/23 [==============================] - 0s 2ms/step - loss: 0.3852 - accuracy: 0.8243\n",
            "Epoch 171/300\n",
            "23/23 [==============================] - 0s 2ms/step - loss: 0.4048 - accuracy: 0.8020\n",
            "Epoch 172/300\n",
            "23/23 [==============================] - 0s 2ms/step - loss: 0.3686 - accuracy: 0.8340\n",
            "Epoch 173/300\n",
            "23/23 [==============================] - 0s 2ms/step - loss: 0.3764 - accuracy: 0.8340\n",
            "Epoch 174/300\n",
            "23/23 [==============================] - 0s 2ms/step - loss: 0.3672 - accuracy: 0.8382\n",
            "Epoch 175/300\n",
            "23/23 [==============================] - 0s 2ms/step - loss: 0.3822 - accuracy: 0.8187\n",
            "Epoch 176/300\n",
            "23/23 [==============================] - 0s 2ms/step - loss: 0.3725 - accuracy: 0.8438\n",
            "Epoch 177/300\n",
            "23/23 [==============================] - 0s 2ms/step - loss: 0.3836 - accuracy: 0.8382\n",
            "Epoch 178/300\n",
            "23/23 [==============================] - 0s 2ms/step - loss: 0.3962 - accuracy: 0.8187\n",
            "Epoch 179/300\n",
            "23/23 [==============================] - 0s 2ms/step - loss: 0.3932 - accuracy: 0.8312\n",
            "Epoch 180/300\n",
            "23/23 [==============================] - 0s 2ms/step - loss: 0.3695 - accuracy: 0.8480\n",
            "Epoch 181/300\n",
            "23/23 [==============================] - 0s 2ms/step - loss: 0.3786 - accuracy: 0.8466\n",
            "Epoch 182/300\n",
            "23/23 [==============================] - 0s 2ms/step - loss: 0.3752 - accuracy: 0.8424\n",
            "Epoch 183/300\n",
            "23/23 [==============================] - 0s 2ms/step - loss: 0.3985 - accuracy: 0.8271\n",
            "Epoch 184/300\n",
            "23/23 [==============================] - 0s 3ms/step - loss: 0.3901 - accuracy: 0.8285\n",
            "Epoch 185/300\n",
            "23/23 [==============================] - 0s 2ms/step - loss: 0.3709 - accuracy: 0.8201\n",
            "Epoch 186/300\n",
            "23/23 [==============================] - 0s 2ms/step - loss: 0.3700 - accuracy: 0.8410\n",
            "Epoch 187/300\n",
            "23/23 [==============================] - 0s 2ms/step - loss: 0.3766 - accuracy: 0.8424\n",
            "Epoch 188/300\n",
            "23/23 [==============================] - 0s 2ms/step - loss: 0.3749 - accuracy: 0.8271\n",
            "Epoch 189/300\n",
            "23/23 [==============================] - 0s 2ms/step - loss: 0.3769 - accuracy: 0.8340\n",
            "Epoch 190/300\n",
            "23/23 [==============================] - 0s 2ms/step - loss: 0.3695 - accuracy: 0.8410\n",
            "Epoch 191/300\n",
            "23/23 [==============================] - 0s 2ms/step - loss: 0.3735 - accuracy: 0.8271\n",
            "Epoch 192/300\n",
            "23/23 [==============================] - 0s 2ms/step - loss: 0.3803 - accuracy: 0.8187\n",
            "Epoch 193/300\n",
            "23/23 [==============================] - 0s 2ms/step - loss: 0.3835 - accuracy: 0.8466\n",
            "Epoch 194/300\n",
            "23/23 [==============================] - 0s 2ms/step - loss: 0.3741 - accuracy: 0.8368\n",
            "Epoch 195/300\n",
            "23/23 [==============================] - 0s 2ms/step - loss: 0.4110 - accuracy: 0.8117\n",
            "Epoch 196/300\n",
            "23/23 [==============================] - 0s 2ms/step - loss: 0.3680 - accuracy: 0.8438\n",
            "Epoch 197/300\n",
            "23/23 [==============================] - 0s 2ms/step - loss: 0.3676 - accuracy: 0.8480\n",
            "Epoch 198/300\n",
            "23/23 [==============================] - 0s 2ms/step - loss: 0.3696 - accuracy: 0.8396\n",
            "Epoch 199/300\n",
            "23/23 [==============================] - 0s 2ms/step - loss: 0.3764 - accuracy: 0.8354\n",
            "Epoch 200/300\n",
            "23/23 [==============================] - 0s 2ms/step - loss: 0.3766 - accuracy: 0.8340\n",
            "Epoch 201/300\n",
            "23/23 [==============================] - 0s 2ms/step - loss: 0.3793 - accuracy: 0.8298\n",
            "Epoch 202/300\n",
            "23/23 [==============================] - 0s 2ms/step - loss: 0.3691 - accuracy: 0.8410\n",
            "Epoch 203/300\n",
            "23/23 [==============================] - 0s 3ms/step - loss: 0.3775 - accuracy: 0.8424\n",
            "Epoch 204/300\n",
            "23/23 [==============================] - 0s 2ms/step - loss: 0.3874 - accuracy: 0.8298\n",
            "Epoch 205/300\n",
            "23/23 [==============================] - 0s 2ms/step - loss: 0.3816 - accuracy: 0.8382\n",
            "Epoch 206/300\n",
            "23/23 [==============================] - 0s 2ms/step - loss: 0.4200 - accuracy: 0.8159\n",
            "Epoch 207/300\n",
            "23/23 [==============================] - 0s 2ms/step - loss: 0.3724 - accuracy: 0.8312\n",
            "Epoch 208/300\n",
            "23/23 [==============================] - 0s 2ms/step - loss: 0.3704 - accuracy: 0.8298\n",
            "Epoch 209/300\n",
            "23/23 [==============================] - 0s 2ms/step - loss: 0.3710 - accuracy: 0.8410\n",
            "Epoch 210/300\n",
            "23/23 [==============================] - 0s 2ms/step - loss: 0.3664 - accuracy: 0.8424\n",
            "Epoch 211/300\n",
            "23/23 [==============================] - 0s 2ms/step - loss: 0.3752 - accuracy: 0.8424\n",
            "Epoch 212/300\n",
            "23/23 [==============================] - 0s 2ms/step - loss: 0.3755 - accuracy: 0.8438\n",
            "Epoch 213/300\n",
            "23/23 [==============================] - 0s 2ms/step - loss: 0.3776 - accuracy: 0.8368\n",
            "Epoch 214/300\n",
            "23/23 [==============================] - 0s 2ms/step - loss: 0.3678 - accuracy: 0.8466\n",
            "Epoch 215/300\n",
            "23/23 [==============================] - 0s 2ms/step - loss: 0.3683 - accuracy: 0.8424\n",
            "Epoch 216/300\n",
            "23/23 [==============================] - 0s 2ms/step - loss: 0.3813 - accuracy: 0.8354\n",
            "Epoch 217/300\n",
            "23/23 [==============================] - 0s 2ms/step - loss: 0.3789 - accuracy: 0.8396\n",
            "Epoch 218/300\n",
            "23/23 [==============================] - 0s 2ms/step - loss: 0.3699 - accuracy: 0.8410\n",
            "Epoch 219/300\n",
            "23/23 [==============================] - 0s 2ms/step - loss: 0.3704 - accuracy: 0.8340\n",
            "Epoch 220/300\n",
            "23/23 [==============================] - 0s 2ms/step - loss: 0.3943 - accuracy: 0.8229\n",
            "Epoch 221/300\n",
            "23/23 [==============================] - 0s 2ms/step - loss: 0.3972 - accuracy: 0.8271\n",
            "Epoch 222/300\n",
            "23/23 [==============================] - 0s 2ms/step - loss: 0.3835 - accuracy: 0.8382\n",
            "Epoch 223/300\n",
            "23/23 [==============================] - 0s 2ms/step - loss: 0.3946 - accuracy: 0.8145\n",
            "Epoch 224/300\n",
            "23/23 [==============================] - 0s 2ms/step - loss: 0.3811 - accuracy: 0.8312\n",
            "Epoch 225/300\n",
            "23/23 [==============================] - 0s 2ms/step - loss: 0.3845 - accuracy: 0.8298\n",
            "Epoch 226/300\n",
            "23/23 [==============================] - 0s 2ms/step - loss: 0.3973 - accuracy: 0.8229\n",
            "Epoch 227/300\n",
            "23/23 [==============================] - 0s 2ms/step - loss: 0.4075 - accuracy: 0.8257\n",
            "Epoch 228/300\n",
            "23/23 [==============================] - 0s 2ms/step - loss: 0.4056 - accuracy: 0.8285\n",
            "Epoch 229/300\n",
            "23/23 [==============================] - 0s 2ms/step - loss: 0.3679 - accuracy: 0.8368\n",
            "Epoch 230/300\n",
            "23/23 [==============================] - 0s 2ms/step - loss: 0.3783 - accuracy: 0.8243\n",
            "Epoch 231/300\n",
            "23/23 [==============================] - 0s 2ms/step - loss: 0.3958 - accuracy: 0.8215\n",
            "Epoch 232/300\n",
            "23/23 [==============================] - 0s 2ms/step - loss: 0.3866 - accuracy: 0.8298\n",
            "Epoch 233/300\n",
            "23/23 [==============================] - 0s 2ms/step - loss: 0.3675 - accuracy: 0.8466\n",
            "Epoch 234/300\n",
            "23/23 [==============================] - 0s 2ms/step - loss: 0.3678 - accuracy: 0.8438\n",
            "Epoch 235/300\n",
            "23/23 [==============================] - 0s 2ms/step - loss: 0.3884 - accuracy: 0.8229\n",
            "Epoch 236/300\n",
            "23/23 [==============================] - 0s 2ms/step - loss: 0.3949 - accuracy: 0.8285\n",
            "Epoch 237/300\n",
            "23/23 [==============================] - 0s 2ms/step - loss: 0.3794 - accuracy: 0.8368\n",
            "Epoch 238/300\n",
            "23/23 [==============================] - 0s 2ms/step - loss: 0.3990 - accuracy: 0.8215\n",
            "Epoch 239/300\n",
            "23/23 [==============================] - 0s 2ms/step - loss: 0.3675 - accuracy: 0.8480\n",
            "Epoch 240/300\n",
            "23/23 [==============================] - 0s 2ms/step - loss: 0.3819 - accuracy: 0.8326\n",
            "Epoch 241/300\n",
            "23/23 [==============================] - 0s 2ms/step - loss: 0.3767 - accuracy: 0.8298\n",
            "Epoch 242/300\n",
            "23/23 [==============================] - 0s 2ms/step - loss: 0.3672 - accuracy: 0.8452\n",
            "Epoch 243/300\n",
            "23/23 [==============================] - 0s 3ms/step - loss: 0.3733 - accuracy: 0.8340\n",
            "Epoch 244/300\n",
            "23/23 [==============================] - 0s 2ms/step - loss: 0.3658 - accuracy: 0.8438\n",
            "Epoch 245/300\n",
            "23/23 [==============================] - 0s 2ms/step - loss: 0.3790 - accuracy: 0.8312\n",
            "Epoch 246/300\n",
            "23/23 [==============================] - 0s 2ms/step - loss: 0.3745 - accuracy: 0.8326\n",
            "Epoch 247/300\n",
            "23/23 [==============================] - 0s 2ms/step - loss: 0.3632 - accuracy: 0.8438\n",
            "Epoch 248/300\n",
            "23/23 [==============================] - 0s 2ms/step - loss: 0.3798 - accuracy: 0.8298\n",
            "Epoch 249/300\n",
            "23/23 [==============================] - 0s 2ms/step - loss: 0.3808 - accuracy: 0.8368\n",
            "Epoch 250/300\n",
            "23/23 [==============================] - 0s 2ms/step - loss: 0.3916 - accuracy: 0.8298\n",
            "Epoch 251/300\n",
            "23/23 [==============================] - 0s 2ms/step - loss: 0.4310 - accuracy: 0.8089\n",
            "Epoch 252/300\n",
            "23/23 [==============================] - 0s 2ms/step - loss: 0.3767 - accuracy: 0.8396\n",
            "Epoch 253/300\n",
            "23/23 [==============================] - 0s 2ms/step - loss: 0.3921 - accuracy: 0.8312\n",
            "Epoch 254/300\n",
            "23/23 [==============================] - 0s 2ms/step - loss: 0.4231 - accuracy: 0.8033\n",
            "Epoch 255/300\n",
            "23/23 [==============================] - 0s 2ms/step - loss: 0.3875 - accuracy: 0.8243\n",
            "Epoch 256/300\n",
            "23/23 [==============================] - 0s 2ms/step - loss: 0.3993 - accuracy: 0.8047\n",
            "Epoch 257/300\n",
            "23/23 [==============================] - 0s 2ms/step - loss: 0.3782 - accuracy: 0.8340\n",
            "Epoch 258/300\n",
            "23/23 [==============================] - 0s 2ms/step - loss: 0.3908 - accuracy: 0.8117\n",
            "Epoch 259/300\n",
            "23/23 [==============================] - 0s 2ms/step - loss: 0.3957 - accuracy: 0.8243\n",
            "Epoch 260/300\n",
            "23/23 [==============================] - 0s 2ms/step - loss: 0.3794 - accuracy: 0.8298\n",
            "Epoch 261/300\n",
            "23/23 [==============================] - 0s 2ms/step - loss: 0.3665 - accuracy: 0.8466\n",
            "Epoch 262/300\n",
            "23/23 [==============================] - 0s 2ms/step - loss: 0.3761 - accuracy: 0.8354\n",
            "Epoch 263/300\n",
            "23/23 [==============================] - 0s 2ms/step - loss: 0.3735 - accuracy: 0.8396\n",
            "Epoch 264/300\n",
            "23/23 [==============================] - 0s 2ms/step - loss: 0.3780 - accuracy: 0.8326\n",
            "Epoch 265/300\n",
            "23/23 [==============================] - 0s 2ms/step - loss: 0.3773 - accuracy: 0.8312\n",
            "Epoch 266/300\n",
            "23/23 [==============================] - 0s 2ms/step - loss: 0.3692 - accuracy: 0.8326\n",
            "Epoch 267/300\n",
            "23/23 [==============================] - 0s 2ms/step - loss: 0.3701 - accuracy: 0.8452\n",
            "Epoch 268/300\n",
            "23/23 [==============================] - 0s 3ms/step - loss: 0.3905 - accuracy: 0.8187\n",
            "Epoch 269/300\n",
            "23/23 [==============================] - 0s 2ms/step - loss: 0.3632 - accuracy: 0.8452\n",
            "Epoch 270/300\n",
            "23/23 [==============================] - 0s 2ms/step - loss: 0.3767 - accuracy: 0.8354\n",
            "Epoch 271/300\n",
            "23/23 [==============================] - 0s 2ms/step - loss: 0.3744 - accuracy: 0.8298\n",
            "Epoch 272/300\n",
            "23/23 [==============================] - 0s 2ms/step - loss: 0.3843 - accuracy: 0.8354\n",
            "Epoch 273/300\n",
            "23/23 [==============================] - 0s 2ms/step - loss: 0.3867 - accuracy: 0.8312\n",
            "Epoch 274/300\n",
            "23/23 [==============================] - 0s 2ms/step - loss: 0.3865 - accuracy: 0.8271\n",
            "Epoch 275/300\n",
            "23/23 [==============================] - 0s 2ms/step - loss: 0.4268 - accuracy: 0.8033\n",
            "Epoch 276/300\n",
            "23/23 [==============================] - 0s 2ms/step - loss: 0.3993 - accuracy: 0.8201\n",
            "Epoch 277/300\n",
            "23/23 [==============================] - 0s 2ms/step - loss: 0.3752 - accuracy: 0.8312\n",
            "Epoch 278/300\n",
            "23/23 [==============================] - 0s 2ms/step - loss: 0.3790 - accuracy: 0.8396\n",
            "Epoch 279/300\n",
            "23/23 [==============================] - 0s 2ms/step - loss: 0.3864 - accuracy: 0.8173\n",
            "Epoch 280/300\n",
            "23/23 [==============================] - 0s 2ms/step - loss: 0.3756 - accuracy: 0.8424\n",
            "Epoch 281/300\n",
            "23/23 [==============================] - 0s 2ms/step - loss: 0.3726 - accuracy: 0.8396\n",
            "Epoch 282/300\n",
            "23/23 [==============================] - 0s 2ms/step - loss: 0.3710 - accuracy: 0.8480\n",
            "Epoch 283/300\n",
            "23/23 [==============================] - 0s 2ms/step - loss: 0.3638 - accuracy: 0.8522\n",
            "Epoch 284/300\n",
            "23/23 [==============================] - 0s 2ms/step - loss: 0.3730 - accuracy: 0.8410\n",
            "Epoch 285/300\n",
            "23/23 [==============================] - 0s 2ms/step - loss: 0.3676 - accuracy: 0.8466\n",
            "Epoch 286/300\n",
            "23/23 [==============================] - 0s 2ms/step - loss: 0.3703 - accuracy: 0.8382\n",
            "Epoch 287/300\n",
            "23/23 [==============================] - 0s 2ms/step - loss: 0.3970 - accuracy: 0.8061\n",
            "Epoch 288/300\n",
            "23/23 [==============================] - 0s 2ms/step - loss: 0.3951 - accuracy: 0.8145\n",
            "Epoch 289/300\n",
            "23/23 [==============================] - 0s 2ms/step - loss: 0.3966 - accuracy: 0.8075\n",
            "Epoch 290/300\n",
            "23/23 [==============================] - 0s 2ms/step - loss: 0.3876 - accuracy: 0.8271\n",
            "Epoch 291/300\n",
            "23/23 [==============================] - 0s 2ms/step - loss: 0.3691 - accuracy: 0.8438\n",
            "Epoch 292/300\n",
            "23/23 [==============================] - 0s 2ms/step - loss: 0.3746 - accuracy: 0.8382\n",
            "Epoch 293/300\n",
            "23/23 [==============================] - 0s 2ms/step - loss: 0.3730 - accuracy: 0.8410\n",
            "Epoch 294/300\n",
            "23/23 [==============================] - 0s 2ms/step - loss: 0.3785 - accuracy: 0.8410\n",
            "Epoch 295/300\n",
            "23/23 [==============================] - 0s 2ms/step - loss: 0.3832 - accuracy: 0.8410\n",
            "Epoch 296/300\n",
            "23/23 [==============================] - 0s 2ms/step - loss: 0.3930 - accuracy: 0.8298\n",
            "Epoch 297/300\n",
            "23/23 [==============================] - 0s 2ms/step - loss: 0.3740 - accuracy: 0.8340\n",
            "Epoch 298/300\n",
            "23/23 [==============================] - 0s 2ms/step - loss: 0.3669 - accuracy: 0.8340\n",
            "Epoch 299/300\n",
            "23/23 [==============================] - 0s 2ms/step - loss: 0.3753 - accuracy: 0.8424\n",
            "Epoch 300/300\n",
            "23/23 [==============================] - 0s 3ms/step - loss: 0.3642 - accuracy: 0.8452\n"
          ]
        },
        {
          "output_type": "execute_result",
          "data": {
            "text/plain": [
              "<keras.callbacks.History at 0x7ff5c483a150>"
            ]
          },
          "metadata": {},
          "execution_count": 178
        }
      ]
    },
    {
      "cell_type": "code",
      "source": [
        "score_nn = 85.08"
      ],
      "metadata": {
        "id": "9xi5FNKQzQD4"
      },
      "execution_count": null,
      "outputs": []
    },
    {
      "cell_type": "markdown",
      "source": [
        "##Accuracy Comperision"
      ],
      "metadata": {
        "id": "L30nP3jOvKz8"
      }
    },
    {
      "cell_type": "code",
      "source": [
        "accuracy_scores = {'LR':score_lr,'NB':score_nb,'SVM':score_svm,\n",
        "                   'KNN':score_knn,'NN':score_nn,'XGBoost':score_xgb}\n",
        "classifiers = list(accuracy_scores.keys())\n",
        "Accuracy = list(accuracy_scores.values())\n",
        "\n",
        "fig = plt.figure(figsize = (10,7))\n",
        "\n",
        "plt.bar(classifiers,Accuracy,color = 'orange', width=0.4)\n",
        "\n",
        "plt.xlabel(\"Classifiers\")\n",
        "plt.ylabel(\"Accuracies of classifiers\")\n",
        "plt.title(\"Accuracy comparision of all classifiers\")\n",
        "plt.show()\n",
        "\n"
      ],
      "metadata": {
        "colab": {
          "base_uri": "https://localhost:8080/",
          "height": 458
        },
        "id": "knt6X74MvQ68",
        "outputId": "2b86989e-f8f4-47aa-df59-481e1ca59cb7"
      },
      "execution_count": null,
      "outputs": [
        {
          "output_type": "display_data",
          "data": {
            "text/plain": [
              "<Figure size 720x504 with 1 Axes>"
            ],
            "image/png": "[encoded data removed]"
          },
          "metadata": {
            "needs_background": "light"
          }
        }
      ]
    },
    {
      "cell_type": "markdown",
      "source": [
        "#Prediction Section"
      ],
      "metadata": {
        "id": "RWftXOS8lZH_"
      }
    },
    {
      "cell_type": "markdown",
      "source": [
        "Building a Predictive System"
      ],
      "metadata": {
        "id": "bOyemNaEm4aw"
      }
    },
    {
      "cell_type": "code",
      "source": [
        "input_data = (62,0,0,140,268,0,0,160,0,3.6,0,2,2)\n",
        "\n",
        "#change the input data to a numpy array\n",
        "input_data_as_numpy_array = np.asarray(input_data)\n",
        "\n",
        "#reshape the numpy array as we are predictingg for only on instance\n",
        "input_data_reshaped = input_data_as_numpy_array.reshape(1,-1)\n",
        "prediction_ans = model.predict(input_data_reshaped)\n",
        "print(prediction_ans)\n",
        "\n",
        "if(prediction_ans[0]==0):\n",
        "  print('Tht Person does not have a Heart Disease')\n",
        "else:\n",
        "  print('The Person has Heart Disease')\n",
        "    \n"
      ],
      "metadata": {
        "id": "xTxpAkyDm9S9",
        "colab": {
          "base_uri": "https://localhost:8080/"
        },
        "outputId": "c50446ea-7f9e-4af0-ce2e-40587e496b73"
      },
      "execution_count": null,
      "outputs": [
        {
          "output_type": "stream",
          "name": "stdout",
          "text": [
            "[[0.08588204]]\n",
            "The Person has Heart Disease\n"
          ]
        }
      ]
    },
    {
      "cell_type": "code",
      "source": [
        ""
      ],
      "metadata": {
        "id": "VkvPVzXbt4oi"
      },
      "execution_count": null,
      "outputs": []
    }
  ]
}